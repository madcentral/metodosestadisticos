{
 "cells": [
  {
   "cell_type": "code",
   "execution_count": null,
   "metadata": {
    "colab": {
     "base_uri": "https://localhost:8080/",
     "height": 263
    },
    "executionInfo": {
     "elapsed": 2992,
     "status": "ok",
     "timestamp": 1601075460044,
     "user": {
      "displayName": "nelson alirio cruz gutierrez",
      "photoUrl": "https://lh3.googleusercontent.com/a-/AOh14GhDdjlbX7P6HT1cChQovqzRQSdg6HiAYjSwmILa5Q=s64",
      "userId": "04144189299847950459"
     },
     "user_tz": 300
    },
    "id": "-qgJ1WH0C93P",
    "outputId": "6b131fc0-af0f-4c88-8990-6e26c59d3b5c"
   },
   "outputs": [],
   "source": [
    "import pandas as pd\n",
    "import numpy as np\n",
    "from matplotlib import pyplot as plt\n",
    "import plotly.express as px\n",
    "from sklearn.decomposition import PCA\n",
    "from sklearn.preprocessing import StandardScaler\n",
    "from sklearn.cluster import KMeans\n",
    "from sklearn.metrics import silhouette_score\n",
    "from sklearn.metrics import silhouette_samples\n",
    "import prince"
   ]
  },
  {
   "cell_type": "markdown",
   "metadata": {
    "id": "1buwBazSDFDm"
   },
   "source": [
    "# Otras tecnicas de agrupamiento\n",
    "\n",
    "*(Tomado de [https://scikit-learn.org/stable/modules/clustering.html#clustering](https://scikit-learn.org/stable/modules/clustering.html#clustering))*"
   ]
  },
  {
   "cell_type": "markdown",
   "metadata": {
    "id": "n-pLPaa8E1tA"
   },
   "source": [
    "## Minibatch K-means\n",
    "\n",
    "\n",
    "\n",
    "\n",
    "[MiniBatchKMeans]((https://scikit-learn.org/stable/modules/generated/sklearn.cluster.MiniBatchKMeans.html#sklearn.cluster.MiniBatchKMeans) es una variante del algoritmo KMeans que utiliza mini-lotes para reducir el tiempo de cálculo, mientras optimiza la función objetivo. Los mini lotes son subconjuntos de los datos de entrada, muestreados aleatoriamente en cada iteración de entrenamiento. Estos mini lotes reducen drásticamente la cantidad de cálculo necesario para converger en una solución local. A diferencia de otros algoritmos que reducen el tiempo de convergencia de k-medias, las k-medias de mini lotes producen resultados que generalmente son solo un poco peores que el algoritmo estándar.\n",
    "\n",
    "El algoritmo itera entre dos pasos principales. En el primer paso, las muestras se extraen aleatoriamente del conjunto de datos para formar un mini lote. Luego, estos se asignan al centroide más cercano. En el segundo paso, se actualizan los centroides. A diferencia de las k-medias, esto se hace por muestra. Para cada muestra en el mini-lote, el centroide asignado se actualiza tomando el promedio de transmisión de la muestra y todas las muestras anteriores asignadas a ese centroide. Esto tiene el efecto de disminuir la tasa de cambio de un centroide a lo largo del tiempo. Estos pasos se realizan hasta que se alcanza la convergencia o un número predeterminado de iteraciones.\n",
    "\n",
    "MiniBatchKMeans converge más rápido que KMeans, pero la calidad de los resultados se reduce. En la práctica, esta diferencia de calidad puede ser bastante pequeña, como se muestra en el ejemplo y la referencia citada.\n",
    " "
   ]
  },
  {
   "cell_type": "markdown",
   "metadata": {},
   "source": [
    "[![img](https://scikit-learn.org/stable/_images/sphx_glr_plot_mini_batch_kmeans_0011.png)](https://scikit-learn.org/stable/auto_examples/cluster/plot_mini_batch_kmeans.html)"
   ]
  },
  {
   "cell_type": "code",
   "execution_count": null,
   "metadata": {
    "colab": {
     "base_uri": "https://localhost:8080/",
     "height": 363
    },
    "executionInfo": {
     "elapsed": 10830,
     "status": "ok",
     "timestamp": 1601076161027,
     "user": {
      "displayName": "nelson alirio cruz gutierrez",
      "photoUrl": "https://lh3.googleusercontent.com/a-/AOh14GhDdjlbX7P6HT1cChQovqzRQSdg6HiAYjSwmILa5Q=s64",
      "userId": "04144189299847950459"
     },
     "user_tz": 300
    },
    "id": "9LY9T-dzE6Pg",
    "outputId": "b57d27ec-e66d-4f52-c46e-6226c07f620b"
   },
   "outputs": [],
   "source": [
    "url=\"https://raw.githubusercontent.com/Cruzalirio/Ucentral/master/Bases/ICFES/PruebaSaber1.csv\"\n",
    "datos1=pd.read_csv(url, sep=\";\", encoding=\"latin1\",low_memory=False)\n",
    "for i in range(11):\n",
    "    j=i+2\n",
    "    x=[\"https://raw.githubusercontent.com/Cruzalirio/Ucentral/master/Bases/ICFES/PruebaSaber\",j, \".csv\"]\n",
    "    x[1]=str(x[1])\n",
    "    url=\"\".join(x)\n",
    "    print(url)\n",
    "    datosd=pd.read_csv(url, sep=\";\", encoding=\"latin1\")\n",
    "    datos1=pd.concat([datos1, datosd])"
   ]
  },
  {
   "cell_type": "code",
   "execution_count": null,
   "metadata": {
    "colab": {
     "base_uri": "https://localhost:8080/",
     "height": 35
    },
    "executionInfo": {
     "elapsed": 1154,
     "status": "ok",
     "timestamp": 1601076168373,
     "user": {
      "displayName": "nelson alirio cruz gutierrez",
      "photoUrl": "https://lh3.googleusercontent.com/a-/AOh14GhDdjlbX7P6HT1cChQovqzRQSdg6HiAYjSwmILa5Q=s64",
      "userId": "04144189299847950459"
     },
     "user_tz": 300
    },
    "id": "hPiwb005FBPO",
    "outputId": "6ec807b7-ac00-447c-b1f9-64fc426758e1"
   },
   "outputs": [],
   "source": [
    "datos=datos1.dropna()\n",
    "cuanti=datos.select_dtypes(exclude=[\"object\"])\n",
    "cuali=datos.select_dtypes(include=[\"object\"])\n",
    "# Estandarizar y ACP\n",
    "escala=StandardScaler(with_mean=True, with_std=True)\n",
    "escala.fit(cuanti)\n",
    "datosestan=escala.transform(cuanti)\n",
    "## Realizo el ACP\n",
    "pca=PCA(0.9)\n",
    "pca.fit(datosestan)  ## Ajusto el PCA (valores, vectpores, varianza)\n",
    "nuevosACP=pca.transform(datosestan)\n",
    "pca.explained_variance_ratio_\n",
    "nuevosACP.shape"
   ]
  },
  {
   "cell_type": "code",
   "execution_count": null,
   "metadata": {
    "colab": {
     "base_uri": "https://localhost:8080/",
     "height": 577
    },
    "executionInfo": {
     "elapsed": 40335,
     "status": "ok",
     "timestamp": 1601076704839,
     "user": {
      "displayName": "nelson alirio cruz gutierrez",
      "photoUrl": "https://lh3.googleusercontent.com/a-/AOh14GhDdjlbX7P6HT1cChQovqzRQSdg6HiAYjSwmILa5Q=s64",
      "userId": "04144189299847950459"
     },
     "user_tz": 300
    },
    "id": "1X7b2UNdFitR",
    "outputId": "59391ec7-35fd-4502-c217-92d32578152b"
   },
   "outputs": [],
   "source": [
    "%%time\n",
    "within= [] ### Grafico de codo con Kmeans\n",
    "for k in range(1,10):\n",
    "    kmeanModel = KMeans(n_clusters=k).fit(nuevosACP)\n",
    "    within.append(kmeanModel.inertia_)\n",
    "fig=px.line(x=list(range(1,10)), y=within)\n",
    "fig.show()"
   ]
  },
  {
   "cell_type": "code",
   "execution_count": null,
   "metadata": {
    "colab": {
     "base_uri": "https://localhost:8080/",
     "height": 577
    },
    "executionInfo": {
     "elapsed": 6677,
     "status": "ok",
     "timestamp": 1601076724033,
     "user": {
      "displayName": "nelson alirio cruz gutierrez",
      "photoUrl": "https://lh3.googleusercontent.com/a-/AOh14GhDdjlbX7P6HT1cChQovqzRQSdg6HiAYjSwmILa5Q=s64",
      "userId": "04144189299847950459"
     },
     "user_tz": 300
    },
    "id": "VN-y-FIGFtSM",
    "outputId": "39e33265-245d-4b5c-e3aa-4d03e677c5fe"
   },
   "outputs": [],
   "source": [
    "%%time\n",
    "from sklearn.cluster import MiniBatchKMeans\n",
    "within= []\n",
    "for k in range(1,10):\n",
    "    kmeanModel = MiniBatchKMeans(n_clusters=k).fit(nuevosACP)\n",
    "    within.append(kmeanModel.inertia_)\n",
    "fig=px.line(x=list(range(1,10)), y=within)\n",
    "fig.show()"
   ]
  },
  {
   "cell_type": "code",
   "execution_count": null,
   "metadata": {
    "executionInfo": {
     "elapsed": 2156,
     "status": "ok",
     "timestamp": 1601077677154,
     "user": {
      "displayName": "nelson alirio cruz gutierrez",
      "photoUrl": "https://lh3.googleusercontent.com/a-/AOh14GhDdjlbX7P6HT1cChQovqzRQSdg6HiAYjSwmILa5Q=s64",
      "userId": "04144189299847950459"
     },
     "user_tz": 300
    },
    "id": "27RS_bXbnxNY"
   },
   "outputs": [],
   "source": [
    "#### Cuantos grupos harian (2)\n",
    "kmedias = KMeans(n_clusters=2).fit(nuevosACP)  ### Consume \n",
    "MBkmedias= MiniBatchKMeans(n_clusters=2).fit(nuevosACP)"
   ]
  },
  {
   "cell_type": "code",
   "execution_count": null,
   "metadata": {
    "colab": {
     "base_uri": "https://localhost:8080/",
     "height": 171
    },
    "executionInfo": {
     "elapsed": 424,
     "status": "ok",
     "timestamp": 1601077678291,
     "user": {
      "displayName": "nelson alirio cruz gutierrez",
      "photoUrl": "https://lh3.googleusercontent.com/a-/AOh14GhDdjlbX7P6HT1cChQovqzRQSdg6HiAYjSwmILa5Q=s64",
      "userId": "04144189299847950459"
     },
     "user_tz": 300
    },
    "id": "IlKIjEAyoNo7",
    "outputId": "ec2e6313-41d7-4560-9534-c6a9de5276ce"
   },
   "outputs": [],
   "source": [
    "pd.crosstab(kmedias.labels_,MBkmedias.labels_,margins=True)"
   ]
  },
  {
   "cell_type": "code",
   "execution_count": null,
   "metadata": {
    "colab": {
     "base_uri": "https://localhost:8080/",
     "height": 235
    },
    "executionInfo": {
     "elapsed": 436,
     "status": "error",
     "timestamp": 1601076436554,
     "user": {
      "displayName": "nelson alirio cruz gutierrez",
      "photoUrl": "https://lh3.googleusercontent.com/a-/AOh14GhDdjlbX7P6HT1cChQovqzRQSdg6HiAYjSwmILa5Q=s64",
      "userId": "04144189299847950459"
     },
     "user_tz": 300
    },
    "id": "Y-90Ckk4GSIt",
    "outputId": "94399d0d-569b-49e0-e8bb-d40fe72ff355"
   },
   "outputs": [],
   "source": [
    "### Ejecutenlo en sus casitas\n",
    "#base=nuevosACP\n",
    "#within= {}\n",
    "#results = {}\n",
    "#for k in range(2,10):\n",
    " #   kmeanModel = MiniBatchKMeans(n_clusters=k).fit(base)\n",
    "  #  within[k]=kmeanModel.inertia_\n",
    "   # predictions = kmeanModel.predict(base)\n",
    "   # results[k] = silhouette_score(base, predictions)\n",
    "   # print(k)"
   ]
  },
  {
   "cell_type": "code",
   "execution_count": null,
   "metadata": {
    "colab": {
     "base_uri": "https://localhost:8080/",
     "height": 153
    },
    "executionInfo": {
     "elapsed": 451,
     "status": "ok",
     "timestamp": 1600974079296,
     "user": {
      "displayName": "nelson alirio cruz gutierrez",
      "photoUrl": "https://lh3.googleusercontent.com/a-/AOh14GhDdjlbX7P6HT1cChQovqzRQSdg6HiAYjSwmILa5Q=s64",
      "userId": "04144189299847950459"
     },
     "user_tz": 300
    },
    "id": "Sh1S3YecfOec",
    "outputId": "de73ff32-28eb-4d69-dc7b-ddf5e6f1b1d2"
   },
   "outputs": [],
   "source": [
    "# results"
   ]
  },
  {
   "cell_type": "markdown",
   "metadata": {},
   "source": [
    "## Propagación Afín\n",
    "\n",
    "[AffinityPropagation](https://scikit-learn.org/stable/modules/generated/sklearn.cluster.AffinityPropagation.html#sklearn.cluster.AffinityPropagation) crea clústeres enviando mensajes entre pares de muestras hasta la convergencia. A continuación, se describe un conjunto de datos utilizando una pequeña cantidad de ejemplos, que se identifican como los más representativos de otras muestras. Los mensajes enviados entre pares representan la idoneidad de una muestra para ser el ejemplar de la otra, que se actualiza en respuesta a los valores de otros pares. Esta actualización ocurre de forma iterativa hasta la convergencia, momento en el que se eligen los ejemplos finales y, por lo tanto, se da el agrupamiento final.\n",
    "\n",
    "![afpp](https://scikit-learn.org/stable/_images/sphx_glr_plot_affinity_propagation_0011.png)\n",
    "\n",
    "La propagación por afinidad puede ser interesante, ya que elige el número de grupos en función de los datos proporcionados. Para ello, los dos parámetros importantes son la preferencia, que controla cuántos ejemplares se utilizan, y el factor de amortiguación que amortigua los mensajes de responsabilidad y disponibilidad para evitar oscilaciones numéricas al actualizar estos mensajes.\n",
    "\n",
    "### Algoritmo:\n",
    "\n",
    "Sea $x_1$ a $x_n$ un conjunto de datos, sin suposiciones sobre su estructura interna, y sea $s$ una función que cuantifique la similitud entre dos puntos cualesquiera, tal que $s (i, j)> s (i, k)$ si y solo si $x_i$ es más similar a $x_j$ que a $x_k$. \n",
    "\n",
    "La diagonal de s (es decir, $s(i, i)$ es particularmente importante, ya que representa la preferencia de la instancia, es decir, la probabilidad de que una instancia en particular se convierta en un ejemplo. Cuando se establece en el mismo valor para todas las entradas, controla cuántas clases produce el algoritmo. Un valor cercano a la similitud mínima posible produce menos clases, mientras que un valor cercano o mayor que la similitud máxima posible produce muchas clases. Por lo general, se inicializa con la similitud mediana de todos los pares de entradas.\n",
    "\n",
    "El algoritmo procede alternando entre dos pasos de paso de mensajes, que actualizan dos matrices:\n",
    "\n",
    "La matriz de \"responsabilidad\" $R$ tiene valores $r(i, k)$ que cuantifican cuán adecuado es $x_k$ para servir como modelo para $x_i$, en relación con otros ejemplos candidatos para $xi$.\n",
    "\n",
    "La matriz de \"disponibilidad\" A contiene valores $a(i, k)$ que representan cuán \"apropiado\" sería para $x_i$ elegir $x_k$ como su ejemplo, teniendo en cuenta la preferencia de otros puntos por $x_k$ como ejemplo.\n",
    "\n",
    "Ambas matrices se inicializan como ceros y se pueden ver como tablas de probabilidad logarítmica. A continuación, el algoritmo realiza las siguientes actualizaciones de forma iterativa:\n",
    "\n",
    "Primero, se envían actualizaciones de responsabilidad: \n",
    "$$r(i, k) \\leftarrow s(i, k) - \\max_{k '\\neq k} \\left\\{ a(i, k') + s ( i, k ') \\right\\} $$\n",
    "\n",
    "Luego, la disponibilidad se actualiza por\n",
    "\n",
    "$$a(i, k) \\leftarrow \\min \\left(0, r(k, k) + \\sum_{i '\\not\\in \\{i, k \\}} \\max (0, r( i', k)) \\right)$$\n",
    "\n",
    "para $i\\neq k$.\n",
    "\n",
    "$$a(k, k) \\leftarrow \\sum_{i '\\neq k} \\max(0, r (i', k)).$$\n",
    "\n",
    "Las iteraciones se realizan hasta que los límites del clúster permanecen sin cambios durante una serie de iteraciones o hasta que se alcanza un número predeterminado (de iteraciones). Los ejemplos se extraen de las matrices finales como aquellos cuya \"responsabilidad + disponibilidad\" para sí mismos es positiva (es decir, $r(i, i) + a(i, i))> 0$).\n",
    "\n",
    "El principal inconveniente de la propagación por afinidad es su complejidad. El algoritmo tiene una complejidad temporal del orden $O(N^2T)$, donde $N$ es el número de muestras y $T$ es el número de iteraciones hasta la convergencia. Además, la complejidad de la memoria es del orden  $O(N^2)$ si se usa una matriz de similitud densa, aunque es reducible si se usa una matriz de similitud escasa. Esto hace que la propagación de afinidad sea más apropiada para conjuntos de datos de tamaño pequeño a mediano."
   ]
  },
  {
   "cell_type": "code",
   "execution_count": null,
   "metadata": {},
   "outputs": [],
   "source": [
    "print(__doc__)\n",
    "\n",
    "from sklearn.cluster import AffinityPropagation\n",
    "from sklearn import metrics\n",
    "from sklearn.datasets import make_blobs\n",
    "\n",
    "# #############################################################################\n",
    "# Generate sample data\n",
    "centers = [[1, 1], [-1, -1], [1, -1]]\n",
    "X, labels_true = make_blobs(n_samples=300, centers=centers, cluster_std=0.5,\n",
    "                            random_state=0)\n",
    "\n",
    "# #############################################################################\n",
    "# Compute Affinity Propagation\n",
    "af = AffinityPropagation(preference=-50,random_state=2).fit(X)\n",
    "cluster_centers_indices = af.cluster_centers_indices_\n",
    "labels = af.labels_\n",
    "\n",
    "n_clusters_ = len(cluster_centers_indices)\n",
    "\n",
    "print('Estimated number of clusters: %d' % n_clusters_)\n",
    "print(\"Homogeneity: %0.3f\" % metrics.homogeneity_score(labels_true, labels))\n",
    "print(\"Completeness: %0.3f\" % metrics.completeness_score(labels_true, labels))\n",
    "print(\"V-measure: %0.3f\" % metrics.v_measure_score(labels_true, labels))\n",
    "print(\"Adjusted Rand Index: %0.3f\"\n",
    "      % metrics.adjusted_rand_score(labels_true, labels))\n",
    "print(\"Adjusted Mutual Information: %0.3f\"\n",
    "      % metrics.adjusted_mutual_info_score(labels_true, labels))\n",
    "print(\"Silhouette Coefficient: %0.3f\"\n",
    "      % metrics.silhouette_score(X, labels, metric='sqeuclidean'))\n",
    "\n",
    "# #############################################################################\n",
    "# Plot result\n",
    "import matplotlib.pyplot as plt\n",
    "from itertools import cycle\n",
    "\n",
    "plt.close('all')\n",
    "plt.figure(1)\n",
    "plt.clf()\n",
    "\n",
    "colors = cycle('bgrcmykbgrcmykbgrcmykbgrcmyk')\n",
    "for k, col in zip(range(n_clusters_), colors):\n",
    "    class_members = labels == k\n",
    "    cluster_center = X[cluster_centers_indices[k]]\n",
    "    plt.plot(X[class_members, 0], X[class_members, 1], col + '.')\n",
    "    plt.plot(cluster_center[0], cluster_center[1], 'o', markerfacecolor=col,\n",
    "             markeredgecolor='k', markersize=14)\n",
    "    for x in X[class_members]:\n",
    "        plt.plot([cluster_center[0], x[0]], [cluster_center[1], x[1]], col)\n",
    "\n",
    "plt.title('Estimated number of clusters: %d' % n_clusters_)\n",
    "plt.show()"
   ]
  },
  {
   "cell_type": "markdown",
   "metadata": {
    "id": "3k81Kd5dDIp_"
   },
   "source": [
    "# K-mediods\n",
    "\n",
    "\n",
    "K-mdioides es un método de clustering muy similar a K-means, la diferencia es que, en K-medioides, cada cluster se centra en una observación presente en el cluster (medioides), mientras que en K-means cada cluster está centrado en su centroide que puede ser una observación lejana a los datos (punto medio).\n",
    "\n",
    "El medioide es el dato que satisface que el promedio entre él y todos los demás elementos del mismo cluster es lo menor posible. Sería la observación más centrada del cluster, esta idea permite que este método sea más robusto que K-means,pues el ruido no lo afecta. El algoritmo más empleado para aplicar K-medoids se conoce como PAM (Partitioning Around Medoids) y sigue los siguientes pasos:\n",
    "\n",
    "\n",
    "* Seleccionar K observaciones aleatorias como medioides iniciales. También es posible identificarlas de forma específica.\n",
    "\n",
    "* Calcular la matriz de distancia entre todas las observaciones si esta no se ha calculado anteriormente.\n",
    "\n",
    "* Asignar cada observación a su medioide más cercano.\n",
    "\n",
    "* Para cada uno de los clusters creados, comprobar si seleccionando otra observación como medioide se consigue reducir la distancia promedio del cluster, si esto ocurre, seleccionar la observación que consigue una mayor reducción como nuevo medioide.\n",
    "\n",
    "* Si al menos un medioide ha cambiado en el paso 4, volver al paso 3, de lo contrario, se termina el proceso.\n",
    "\n",
    "A diferencia del algoritmo K-means, en el que se minimiza la suma total de cuadrados intra-cluster (suma de las distancias al cuadrado de cada observación respecto a su centroide), el algoritmo K-medioide minimiza la suma de las diferencias de cada observación respecto a su medioide.\n",
    "\n",
    "Por lo general, el método de K-medioides se utiliza cuando se conoce o se sospecha de la presencia de outliers. Si esto ocurre, es recomendable utilizar como medida de similitud la distancia de Manhattan, ya que es menos sensible a outliers que la euclídea.\n",
    "\n",
    "***\n",
    "\n",
    "K-medoids es un método de clustering más robusto que K-means, por lo es más adecuado cuando el set de datos contiene outliers o ruido.\n",
    "\n",
    "Al igual que K-means, necesita que se especifique de antemano el número de clusters que se van a crear. Esto puede ser complicado de determinar si no se dispone de información adicional sobre los datos. Muchas de las estrategias empleadas en K-means para identificar el número óptimo, pueden aplicarse en K-medoids.\n",
    "\n",
    "Para sets de datos grandes se necesitan muchos recursos computacionales. En tal situación se recomienda aplicar el método CLARA.\n",
    "***\n",
    "\n",
    "El algoritmo K-medoids está implementado en la clase KMedoids de la librería sklearn_extra. Su funcionamiento es análogo al descrito en el apartado de K-means. También está disponible en la librería PyClustering."
   ]
  },
  {
   "cell_type": "markdown",
   "metadata": {},
   "source": [
    "Vamos a instalar el paquete [pyclustering](https://pypi.org/project/pyclustering/) y toda la documentación está acá [PYC](https://pyclustering.github.io/docs/0.9.0/html/index.html)\n"
   ]
  },
  {
   "cell_type": "code",
   "execution_count": null,
   "metadata": {
    "colab": {
     "base_uri": "https://localhost:8080/",
     "height": 367
    },
    "executionInfo": {
     "elapsed": 7424,
     "status": "ok",
     "timestamp": 1601078865653,
     "user": {
      "displayName": "nelson alirio cruz gutierrez",
      "photoUrl": "https://lh3.googleusercontent.com/a-/AOh14GhDdjlbX7P6HT1cChQovqzRQSdg6HiAYjSwmILa5Q=s64",
      "userId": "04144189299847950459"
     },
     "user_tz": 300
    },
    "id": "ozd7ua_5DbiQ",
    "outputId": "ccd73315-1a7a-43ff-b73e-1b22776ecec2"
   },
   "outputs": [],
   "source": [
    "#!pip install pyclustering\n"
   ]
  },
  {
   "cell_type": "code",
   "execution_count": null,
   "metadata": {
    "colab": {
     "base_uri": "https://localhost:8080/",
     "height": 35
    },
    "executionInfo": {
     "elapsed": 648,
     "status": "ok",
     "timestamp": 1601078872602,
     "user": {
      "displayName": "nelson alirio cruz gutierrez",
      "photoUrl": "https://lh3.googleusercontent.com/a-/AOh14GhDdjlbX7P6HT1cChQovqzRQSdg6HiAYjSwmILa5Q=s64",
      "userId": "04144189299847950459"
     },
     "user_tz": 300
    },
    "id": "CSXiJhXkDdwp",
    "outputId": "536d9d16-b757-4f01-b923-2444497b762a"
   },
   "outputs": [],
   "source": [
    "url=\"https://raw.githubusercontent.com/Cruzalirio/Ucentral/master/Bases/Delitos_Colombia.csv\"\n",
    "cuanti=pd.read_csv(url, sep=\";\",index_col=0)\n",
    "cuanti[\"DSP\"]=cuanti.Delitos_Sexuales/cuanti.Poblacion\n",
    "cuanti[\"HP\"]=cuanti.Homicidios/cuanti.Poblacion\n",
    "cuanti[\"IP\"]=cuanti.Intrafamiliar/cuanti.Poblacion\n",
    "cuanti[\"TP\"]=cuanti.Transito/cuanti.Poblacion\n",
    "cuanti[\"AP\"]=cuanti.Asalto/cuanti.Poblacion\n",
    "DC=cuanti[[\"DSP\", \"HP\", \"IP\", \"TP\", \"AP\"]]\n",
    "## Estandarizar \n",
    "escala=StandardScaler(with_mean=True, with_std=True)\n",
    "escala.fit(DC)\n",
    "datosestan=escala.transform(DC)\n",
    "## Realizo el ACP\n",
    "pca=PCA(0.9)\n",
    "pca.fit(datosestan)  ## Ajusto el PCA (valores, vectpores, varianza)\n",
    "nuevosACP=pca.transform(datosestan)\n",
    "pca.explained_variance_ratio_"
   ]
  },
  {
   "cell_type": "code",
   "execution_count": null,
   "metadata": {
    "colab": {
     "base_uri": "https://localhost:8080/",
     "height": 485
    },
    "executionInfo": {
     "elapsed": 440,
     "status": "ok",
     "timestamp": 1601079009897,
     "user": {
      "displayName": "nelson alirio cruz gutierrez",
      "photoUrl": "https://lh3.googleusercontent.com/a-/AOh14GhDdjlbX7P6HT1cChQovqzRQSdg6HiAYjSwmILa5Q=s64",
      "userId": "04144189299847950459"
     },
     "user_tz": 300
    },
    "id": "uidy1LrgDgRc",
    "outputId": "1de40ecf-54f3-4e5b-f3d8-30d3234bad71"
   },
   "outputs": [],
   "source": [
    "from pyclustering.cluster.kmedoids import kmedoids ## menos sensible a datos atipicos\n",
    "kmed=kmedoids(nuevosACP,[1,2]) ### la longitud del segundo argumento es el numero de grupos\n",
    "kmed.process()\n",
    "a=kmed.get_clusters()\n",
    "a  ## Problema, como le asigno ese agrupamiento a la base original"
   ]
  },
  {
   "cell_type": "code",
   "execution_count": null,
   "metadata": {
    "colab": {
     "base_uri": "https://localhost:8080/",
     "height": 1000
    },
    "executionInfo": {
     "elapsed": 458,
     "status": "ok",
     "timestamp": 1601079014024,
     "user": {
      "displayName": "nelson alirio cruz gutierrez",
      "photoUrl": "https://lh3.googleusercontent.com/a-/AOh14GhDdjlbX7P6HT1cChQovqzRQSdg6HiAYjSwmILa5Q=s64",
      "userId": "04144189299847950459"
     },
     "user_tz": 300
    },
    "id": "FUqwXnSRj-au",
    "outputId": "e73f6ba0-91a9-4a81-b72b-e892c8cfa618"
   },
   "outputs": [],
   "source": [
    "DC\n",
    "## Adicionar esos labels a la base original"
   ]
  },
  {
   "cell_type": "markdown",
   "metadata": {
    "id": "A1g1-o55Hw9g"
   },
   "source": [
    "# DBSCAN \n",
    "Conexidad entre los datos una introducción al análisis topológico de datos.\n",
    "\n",
    "\n",
    "La idea es establecer como se están conectando los datos, propuesto en 1996 por Ester como una forma de identificar grupos siguiendo el modo intuitivo en el que lo hace el cerebro humano, identificando regiones con alta densidad de observaciones separadas por regiones de baja densidad.\n",
    "\n",
    "\n",
    "DBSCAN evita este problema siguiendo la idea de que, para que una observación forme parte de un cluster, tiene que haber un mínimo de observaciones vecinas dentro de un radio de proximidad y de que los clusters están separados por regiones vacías o con pocas observaciones.\n",
    "\n",
    "El algoritmo DBSCAN necesita dos parámetros:\n",
    "\n",
    "* **Epsilon  (ϵ)** : radio que define la región vecina a una observación, también llamada  ϵ -neighborhood.\n",
    "\n",
    "* **Minimum points (min_samples)**: número mínimo de observaciones dentro de la región epsilon.\n",
    "\n",
    "Empleando estos dos parámetros, cada observación del set de datos se puede clasificar en una de las siguientes tres categorías:\n",
    "\n",
    "* **Core point**: observación que tiene en su  ϵ -neighborhood un número de observaciones vecinas igual o mayor a min_samples.\n",
    "\n",
    "* **Border point**: observación no satisface el mínimo de observaciones vecinas para ser core point pero que pertenece al  ϵ -neighborhood de otra observación que sí es core point.\n",
    "\n",
    "* **Noise u outlier**: observación que no es core point ni border point.\n",
    "\n",
    "Por último, empleando las tres categorías anteriores se pueden definir tres niveles de conectividad entre observaciones:\n",
    "\n",
    "* **Directamente alcanzable (direct density reachable)**: una observación  A  es directamente alcanzable desde otra observación  B  si  A  forma parte del  ϵ -neighborhood de  B  y  B  es un core point. Por definición, las observaciones solo pueden ser directamente alcanzables desde un core point.\n",
    "\n",
    "* **Alcanzable (density reachable)**: una observación  A  es alcanzable desde otra observación  B  si existe una secuencia de core points que van desde  B  a  A .\n",
    "\n",
    "* **Densamente conectadas (density conected)**: dos observaciones  A  y  B  están densamente conectadas si existe una observación core point  C  tal que  A  y  B  son alcanzables desde  C .\n",
    "\n",
    "La siguiente imagen muestra las conexiones existentes entre un conjunto de observaciones si se emplea  minsamples=4 . La observación  A  y el resto de observaciones marcadas en rojo son core points, ya que todas ellas contienen al menos 4 observaciones vecinas (incluyéndose a ellas mismas) en su  ϵ -neighborhood. Como todas son alcanzables entre ellas, forman un cluster. Las observaciones  B  y  C  no son core points pero son alcanzables desde  A  a través de otros core points, por lo tanto, pertenecen al mismo cluster que  A . La observación  N  no es ni un core point ni es directamente alcanzable, por lo que se considera como ruido.\n",
    "\n",
    "![img](data:image/png;base64,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)\n",
    "\n",
    "**Algoritmo**\n",
    "\n",
    "\n",
    "1. Para cada observación  $x_i$  calcular la distancia entre ella y el resto de observaciones. Si en su  ϵ -neighborhood hay un número de observaciones  '≥minsamples'  marcar la observación como core point, de lo contrario marcarla como visitada.\n",
    "\n",
    "2. Para cada observación  $x_i$  marcada como core point, si todavía no ha sido asignada a ningún cluster, crear uno nuevo y asignarla a él. Encontrar recursivamente todas las observaciones densamente conectadas a ella y asignarlas al mismo cluster.\n",
    "\n",
    "3. Iterar el mismo proceso para todas las observaciones que no hayan sido visitadas.\n",
    "\n",
    "4. Aquellas observaciones que tras haber sido visitadas no pertenecen a ningún cluster se marcan como outliers.\n",
    "\n",
    "Como resultado, todo cluster cumple dos propiedades: todos los puntos que forman parte de un mismo cluster están densamente conectados entre ellos y, si una observación  A  es densamente alcanzable desde cualquier otra observación de un cluster, entonces  A  también pertenece al cluster.\n",
    "\n",
    "\n",
    "**Hiperparámetros**\n",
    "\n",
    "\n",
    "Como ocurre en muchas otras técnicas estadísticas, en DBSCAN no existe una forma única y exacta de encontrar el valor adecuado de epsilon  (ϵ)  y  minsamples . A modo orientativo se pueden seguir las siguientes premisas:\n",
    "\n",
    "minsamples : cuanto mayor sea el tamaño del set de datos, mayor debe ser el valor mínimo de observaciones vecinas. En el libro Practical Guide to Cluster Analysis in R recomiendan no bajar nunca de 3. Si los datos contienen niveles altos de ruido, aumentar  minsamples  favorecerá la creación de clusters significativos menos influenciados por outliers.\n",
    "\n",
    "epsilon: una buena forma de escoger el valor de  ϵ  es estudiar las distancias promedio entre las  k=minsamples  observaciones más próximas. Al representar estas distancias en función de  ϵ , el punto de inflexión de la curva suele ser un valor óptimo. Si el valor de  ϵ  escogido es muy pequeño, una proporción alta de las observaciones no se asignarán a ningún cluster, por el contrario, si el valor es demasiado grande, la mayoría de observaciones se agruparán en un único cluster.\n",
    "\n",
    "\n",
    "**Ventajas y desventajas**\n",
    "\n",
    "\n",
    "***Ventajas***\n",
    "\n",
    "No requiere que el usuario especifique el número de clusters.\n",
    "\n",
    "Es independiente de la forma que tengan los clusters.\n",
    "\n",
    "Puede identificar outliers, por lo que los clusters generados no se ven influenciados por ellos.\n",
    "\n",
    "\n",
    "***Desventajas***\n",
    "\n",
    "Es un método determinístico siempre y cuando el orden de los datos sea el mismo. Los border points que son alcanzables desde más de un cluster pueden asignarse a uno u otro dependiendo del orden en el que se procesen los datos.\n",
    "\n",
    "No genera buenos resultados cuando la densidad de los grupos es muy distinta, ya que no es posible encontrar los parámetros  ϵ  y min_samples que sirvan para todos a la vez.\n"
   ]
  },
  {
   "cell_type": "code",
   "execution_count": null,
   "metadata": {},
   "outputs": [],
   "source": [
    "import numpy as np\n",
    "import pandas as pd\n",
    "from sklearn.datasets import make_blobs\n",
    "\n",
    "import matplotlib.pyplot as plt\n",
    "from matplotlib import style\n",
    "style.use('ggplot') or plt.style.use('ggplot')\n",
    "\n",
    "from sklearn.cluster import DBSCAN\n",
    "from sklearn.preprocessing import scale\n",
    "from sklearn.metrics import silhouette_score\n",
    "\n",
    "#Datos\n",
    "url = 'https://raw.githubusercontent.com/JoaquinAmatRodrigo/' \\\n",
    "      + 'Estadistica-machine-learning-python/master/data/multishape.csv'\n",
    "datos = pd.read_csv(url)\n",
    "datos.head()\n",
    "\n",
    "\n",
    "X = datos.drop(columns='shape').to_numpy()\n",
    "X_scaled = scale(X)\n",
    "\n",
    "#modelo\n",
    "modelo_dbscan = DBSCAN(\n",
    "                    eps          = 0.2,\n",
    "                    min_samples  = 5,\n",
    "                    metric       = 'euclidean',\n",
    "                )\n",
    "\n",
    "modelo_dbscan.fit(X=X_scaled)\n",
    "\n",
    "\n",
    "labels = modelo_dbscan.labels_\n",
    "\n",
    "fig, ax = plt.subplots(1, 1, figsize=(4.5, 4.5))\n",
    "\n",
    "ax.scatter(\n",
    "    x = X[:, 0],\n",
    "    y = X[:, 1], \n",
    "    c = labels,\n",
    "    marker    = 'o',\n",
    "    edgecolor = 'black'\n",
    ")\n",
    "\n",
    "# Los outliers se identifican con el label -1\n",
    "ax.scatter(\n",
    "    x = X[labels == -1, 0],\n",
    "    y = X[labels == -1, 1], \n",
    "    c = 'red',\n",
    "    marker    = 'o',\n",
    "    edgecolor = 'black',\n",
    "    label = 'outliers'\n",
    ")\n",
    "\n",
    "ax.legend()\n",
    "ax.set_title('Clusterings generados por DBSCAN');\n",
    "\n",
    "\n",
    "\n"
   ]
  },
  {
   "cell_type": "code",
   "execution_count": null,
   "metadata": {},
   "outputs": [],
   "source": [
    "# Número de clusters y observaciones \"outliers\"\n",
    "# ==============================================================================\n",
    "n_clusters = len(set(labels)) - (1 if -1 in labels else 0)\n",
    "n_noise    = list(labels).count(-1)\n",
    "\n",
    "print(f'Número de clusters encontrados: {n_clusters}')\n",
    "print(f'Número de outliers encontrados: {n_noise}')"
   ]
  },
  {
   "cell_type": "markdown",
   "metadata": {},
   "source": [
    "### Otro ejemplo"
   ]
  },
  {
   "cell_type": "code",
   "execution_count": null,
   "metadata": {
    "colab": {
     "base_uri": "https://localhost:8080/",
     "height": 52
    },
    "executionInfo": {
     "elapsed": 476,
     "status": "ok",
     "timestamp": 1601080620475,
     "user": {
      "displayName": "nelson alirio cruz gutierrez",
      "photoUrl": "https://lh3.googleusercontent.com/a-/AOh14GhDdjlbX7P6HT1cChQovqzRQSdg6HiAYjSwmILa5Q=s64",
      "userId": "04144189299847950459"
     },
     "user_tz": 300
    },
    "id": "01GplN_WHwIo",
    "outputId": "58f9f272-129e-4c75-c82f-c76b6b7a8830"
   },
   "outputs": [],
   "source": [
    "from sklearn.cluster import DBSCAN\n",
    "dbscan=DBSCAN(eps=2).fit(nuevosACP)\n",
    "dbscan.labels_"
   ]
  },
  {
   "cell_type": "code",
   "execution_count": null,
   "metadata": {
    "colab": {
     "base_uri": "https://localhost:8080/",
     "height": 542
    },
    "executionInfo": {
     "elapsed": 969,
     "status": "ok",
     "timestamp": 1601080695605,
     "user": {
      "displayName": "nelson alirio cruz gutierrez",
      "photoUrl": "https://lh3.googleusercontent.com/a-/AOh14GhDdjlbX7P6HT1cChQovqzRQSdg6HiAYjSwmILa5Q=s64",
      "userId": "04144189299847950459"
     },
     "user_tz": 300
    },
    "id": "UhAalD6vMydK",
    "outputId": "b24d8db9-1f96-43e3-fc59-e3e9bea4d454"
   },
   "outputs": [],
   "source": [
    "dbscan=DBSCAN(eps=1.5).fit(nuevosACP)\n",
    "\n",
    "features = DC.columns\n",
    "\n",
    "components = pca.fit_transform(datosestan)\n",
    "\n",
    "loadings = pca.components_.T * np.sqrt(pca.explained_variance_)\n",
    "\n",
    "fig = px.scatter(components, x=0, y=1, color=dbscan.labels_.astype(str))\n",
    "\n",
    "for i, feature in enumerate(features):\n",
    "    fig.add_shape(\n",
    "        type='line',\n",
    "        x0=0, y0=0,\n",
    "        x1=loadings[i, 0],\n",
    "        y1=loadings[i, 1]\n",
    "    )\n",
    "    fig.add_annotation(\n",
    "        x=loadings[i, 0],\n",
    "        y=loadings[i, 1],\n",
    "        ax=0, ay=0,\n",
    "        xanchor=\"center\",\n",
    "        yanchor=\"bottom\",\n",
    "        text=feature,\n",
    "    )\n",
    "fig.show()"
   ]
  },
  {
   "cell_type": "markdown",
   "metadata": {
    "id": "3X4SPNb7vry-"
   },
   "source": [
    "# Fuzzy Clustering"
   ]
  },
  {
   "cell_type": "code",
   "execution_count": null,
   "metadata": {
    "colab": {
     "base_uri": "https://localhost:8080/",
     "height": 367
    },
    "executionInfo": {
     "elapsed": 469,
     "status": "error",
     "timestamp": 1601067656283,
     "user": {
      "displayName": "nelson alirio cruz gutierrez",
      "photoUrl": "https://lh3.googleusercontent.com/a-/AOh14GhDdjlbX7P6HT1cChQovqzRQSdg6HiAYjSwmILa5Q=s64",
      "userId": "04144189299847950459"
     },
     "user_tz": 300
    },
    "id": "UjaFMIq5vrAZ",
    "outputId": "b655a15f-b2a1-4577-f386-7c8fcbdf4ed1"
   },
   "outputs": [],
   "source": [
    "from pyclustering.samples.definitions import FAMOUS_SAMPLES\n",
    "from pyclustering.cluster import cluster_visualizer\n",
    "from pyclustering.cluster.center_initializer import kmeans_plusplus_initializer\n",
    "from pyclustering.cluster.fcm import fcm\n",
    "from pyclustering.utils import read_sample\n",
    "# load list of points for cluster analysis\n",
    "sample = read_sample(FAMOUS_SAMPLES.SAMPLE_OLD_FAITHFUL)\n",
    "# initialize\n",
    "initial_centers = kmeans_plusplus_initializer(sample, 2, kmeans_plusplus_initializer.FARTHEST_CENTER_CANDIDATE).initialize()\n",
    "# create instance of Fuzzy C-Means algorithm\n",
    "fcm_instance = fcm(sample, initial_centers)\n",
    "# run cluster analysis and obtain results\n",
    "fcm_instance.process()\n",
    "clusters = fcm_instance.get_clusters()\n",
    "centers = fcm_instance.get_centers()\n",
    "# visualize clustering results\n",
    "visualizer = cluster_visualizer()\n",
    "visualizer.append_clusters(clusters, sample)\n",
    "visualizer.append_cluster(centers, marker='*', markersize=10)\n",
    "visualizer.show()"
   ]
  }
 ],
 "metadata": {
  "accelerator": "TPU",
  "colab": {
   "authorship_tag": "ABX9TyM9tMdI9P65Iwgvx8H9H0tY",
   "name": "10_OtrastecnicasCluster.ipynb",
   "provenance": [],
   "toc_visible": true
  },
  "kernelspec": {
   "display_name": "Python 3",
   "language": "python",
   "name": "python3"
  },
  "language_info": {
   "codemirror_mode": {
    "name": "ipython",
    "version": 3
   },
   "file_extension": ".py",
   "mimetype": "text/x-python",
   "name": "python",
   "nbconvert_exporter": "python",
   "pygments_lexer": "ipython3",
   "version": "3.8.5"
  }
 },
 "nbformat": 4,
 "nbformat_minor": 4
}
