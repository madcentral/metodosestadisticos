{
 "cells": [
  {
   "cell_type": "markdown",
   "metadata": {},
   "source": [
    "# Tarea 1\n",
    "\n",
    "*Universidad Central*\n",
    "\n",
    "*Métodos estadísticos*\n",
    "\n",
    "##  Base de gorriones\n",
    "> Tomado de  Bumpus, H.C., *Biological Lectures*, Marine Biology Laboratory, Woods Hole, MA, 1898.\n",
    "\n",
    "La base para este ejercicio se encuentra alojada en el [GitHub del curso (birds.csv).](https://github.com/Izainea/ucmadmetodosestadisticos/blob/master/Bases/birds.csv)\n",
    "\n",
    "**Ejercicios**\n",
    "\n",
    "1. Haga un análisis de componentes principales con la matriz de correlaciones.\n",
    "\n",
    "2. Compruebe que la suma de valores propios de la matriz de correlaciones es igual a la suma de los elementos de la diagonal *(traza)*.\n",
    "\n",
    "3. De acuerdo a los coeficientes que definen a la primera y segunda componente se dice que la primera indica el tamaño de los pajaros y la segunda la forma. Explique.\n",
    "\n",
    "4. Dibuje el plano factorial (e plano de las dos primeras componentes) y resalte los primeros 21 datos en el gráfico (use otro color para graficarlos, póngales una etiqueta, dibujelos de forma separada,...), si se sabe que sobrevivieron los primeros 21 registros ¿Tiene alguna observación al respecto?\n",
    "\n",
    "5. Haga un biplot de este ejercicio.\n",
    "\n",
    "7. ¿Cuantas componentes recomienda retener si requiero al menos el 90% de variabilidad total?\n",
    "\n",
    "7. Haga ahora un análisis de componentes con la matriz de covarianzas. \n",
    "\n",
    "8. ¿Cómo se ha afectado la escala respecto al ejercicio con correlaciones?\n",
    "\n",
    "9. Compare la proporcion acumulada de porcentaje de variabilidad y explique la diferencia.\n",
    "\n"
   ]
  },
  {
   "cell_type": "markdown",
   "metadata": {},
   "source": [
    "## Información de 96 paises\n",
    "\n",
    "La base de datos para este ejercicio la puede encontrar en el [Github del curso (96paises.xlsx)](https://github.com/Izainea/ucmadmetodosestadisticos/blob/master/Bases/96paises.xlsx) contiene 11 indicadores económicos y sociales de 96 países. Las variables observadas son:\n",
    "\n",
    ">*X1  = Tasa anual de crecimiento de la población.*  \n",
    "*X2  = Tasa de mortalidad infantil por cada 1000 nacidos vivos.*   \n",
    "*X3= Porcentaje de mujeres en la población activa.*   \n",
    "*X4= PNB en 1995 (en millones de dólares).*   \n",
    "*X5= Producción de electricidad (en millones kW/h).*   \n",
    "*X6= Líneas telefónicas por cada 1000 habitantes.*   \n",
    "*X7= Consumo de agua per cápita.*   \n",
    "*X8= Proporción de la superficie del país cubierta por bosques.*   \n",
    "*X9= Proporción de forestación anual.*   \n",
    "*X10= Consumo de energía per cápita.*   \n",
    "*X11= Emisión de CO2 per cápita.*\n",
    "\n",
    "\n",
    "1. Examine la correlación de las variables usando un gráfico de la matriz de correlación. Interprete sus resultados.\n",
    "2. Realice un análisis de componentes principales a partir de la matriz de correlaciones. \n",
    "3. Realice el gráfico de sedimentación y un gráfico que muestre la varianza acumulada por cada componente.\n",
    "3. Interprete las dos primeras componentes.\n",
    "4. Encuentre la función con la que se describen los 2 primeros componentes y las variables que más peso tienen.\n",
    "5. Grafique los datos en un plano adecuado.\n",
    "6. Como cambia el gráfico usando tSNE.\n"
   ]
  },
  {
   "cell_type": "markdown",
   "metadata": {},
   "source": [
    "## Investigue acerca de los siguientes métodos  y explique su utilidad:\n",
    "\n",
    "1. Test de esfericidad de Barlett\n",
    "2. Indicador KMO (Kaiser, Meyer y Olkin) \n",
    "3. Rotación de los componentes\n",
    "    1. VARIMAX\n",
    "    2. QUARTIMAX\n",
    "    3. Rotación de los componentes\n"
   ]
  },
  {
   "cell_type": "markdown",
   "metadata": {},
   "source": [
    "## Base acuicultura\n",
    "\n",
    "La base acuicultura, tomada del libro *Análisis de datos multivariado* de Luis Guillermo Díaz Monroy y disponible en el [GitHub del curso (acuicultura.xlsx)](https://github.com/Izainea/ucmadmetodosestadisticos/blob/master/Bases/acuicultura.xls) contiene información de un experimento realizado para probar el uso de carbonato de calcio como posible reductor del *virus del sindrome del taura*, en la especie de camarón *litopenaus vannamei*. Las variables medidas son:\n",
    "\n",
    ">PISCINA: Piscina donde se realizó el experimento.    \n",
    "dia: Dia en que se realizó el experimento.   \n",
    "OXIGESUP: Oxigeno disuelto en la superficie de la piscina.   \n",
    "OXIGEFON. Oxigeno disuelto en ell fondo de la piscina.   \n",
    "TEMPSUP: Temperatura en la superficie de la piscina.   \n",
    "TEMPFON: Temperatura en el fondo de la piscina.   \n",
    "SALINSUP: Salinidad en la superficie de la piscina.   \n",
    "SALINFON: Salinidad en el fondo de la piscina.   \n",
    "TRANSP: Transparencia del agua.   \n",
    "NIVEL: Nivel de agua en la piscina.   \n",
    "\n",
    "1. Podemos asumir que $R\\neq I$, ¿hay evidencia que las variables están correlacionadas? *(test de esfericidad de Barlett)*\n",
    "2. Debería hacerse un ACP en la matriz de covarianzas o correlaciones.\n",
    "3. Después de hacer el ACP ¿Cuántas componentes principales se requieren para describir los datos?\n",
    "4. Haga un biplot e interprete.\n"
   ]
  },
  {
   "cell_type": "markdown",
   "metadata": {},
   "source": [
    "## Ejercicios teóricos\n",
    "\n",
    "1. A un conjunto de estudiantes se les somete a pruebas de Matemáticas $(X_1)$, Física $(X_2)$, Química $(X_3)$, Inglés $(X_4)$, Historia $(X_5)$ y Francés $(X_6)$. El modelo factorial, asumiendo los supuestos requeridos, viene por las siguientes ecuaciones:\n",
    "\n",
    ">$X_1=0.8f_1+0.2f_2$   \n",
    "$X_2=0.7f_1+0.3f_2$     \n",
    "$X_3=0.6f_1+0.3f_2$     \n",
    "$X_4=0.2f_1+0.8f_2$     \n",
    "$X_5=0.15f_1+0.82f_2$     \n",
    "$X_6=0.25f_1+0.85f_2$     \n",
    "\n",
    "\n",
    "   a. Escriba explicitamente la matriz de ponderaciones $\\Lambda$.    \n",
    "   b. Exprese la varianza de cada $X_i$. Recuerde que debe sumar la varianza común y la única. ¿Cómo se llaman?    \n",
    "   c. Obtenga la matriz de correlaciones.   \n",
    "   d. ¿Hay una clasificación en bloques de asignaturas?"
   ]
  },
  {
   "cell_type": "markdown",
   "metadata": {},
   "source": [
    "2. La siguiente tabla indica las correlaciones de 9 indicadores financieros medidos sobre una muestra de empresas de transporte:\n",
    "\n",
    "![image.png](https://github.com/Izainea/ucmadmetodosestadisticos/blob/master/imagenes/corr.png?raw=true)\n",
    "\n",
    "Estudiaremos la posibilidad de determminar factores subyacentes a la evolución conjunta de los indicadores.\n",
    "\n",
    "a. Estime las ponderaciones $\\lambda_{ij}$ y las varianzas $\\varphi_{ij}$ mediante el método de la componente principal. \n",
    "\n",
    "b. Determine el número de factores apropiados."
   ]
  },
  {
   "cell_type": "code",
   "execution_count": null,
   "metadata": {},
   "outputs": [],
   "source": []
  }
 ],
 "metadata": {
  "kernelspec": {
   "display_name": "Python 3",
   "language": "python",
   "name": "python3"
  },
  "language_info": {
   "codemirror_mode": {
    "name": "ipython",
    "version": 3
   },
   "file_extension": ".py",
   "mimetype": "text/x-python",
   "name": "python",
   "nbconvert_exporter": "python",
   "pygments_lexer": "ipython3",
   "version": "3.8.3"
  },
  "toc": {
   "base_numbering": 1,
   "nav_menu": {},
   "number_sections": false,
   "sideBar": true,
   "skip_h1_title": false,
   "title_cell": "Table of Contents",
   "title_sidebar": "Contents",
   "toc_cell": false,
   "toc_position": {},
   "toc_section_display": true,
   "toc_window_display": false
  }
 },
 "nbformat": 4,
 "nbformat_minor": 2
}
