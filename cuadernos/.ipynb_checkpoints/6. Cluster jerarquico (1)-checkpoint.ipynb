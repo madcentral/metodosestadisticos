{
 "cells": [
  {
   "cell_type": "code",
   "execution_count": 1,
   "metadata": {
    "colab": {},
    "colab_type": "code",
    "executionInfo": {
     "elapsed": 2143,
     "status": "ok",
     "timestamp": 1599269434978,
     "user": {
      "displayName": "nelson alirio cruz gutierrez",
      "photoUrl": "https://lh3.googleusercontent.com/a-/AOh14GhDdjlbX7P6HT1cChQovqzRQSdg6HiAYjSwmILa5Q=s64",
      "userId": "04144189299847950459"
     },
     "user_tz": 300
    },
    "id": "Jo0tnHdiQ6dv"
   },
   "outputs": [],
   "source": [
    "import numpy as np\n",
    "import pandas as pd\n",
    "import plotly.express as px\n",
    "from matplotlib import pyplot as plt"
   ]
  },
  {
   "cell_type": "markdown",
   "metadata": {
    "colab_type": "text",
    "id": "M23b2w9n6bUo"
   },
   "source": [
    "# Agrupamiento jerarquico\n",
    "El agrupamiento jerarquico es un metodo descriptivo, cuyo objetivo es crear grupos de individuos buscando que se cumplan las siguientes condiciones:\n",
    "1. Son grupos muy homogeneos dentro de si.\n",
    "2. Son muy heteregeneos dentro de ellos.\n",
    "\n",
    "En el metodo jerarquico se realiza mediante los siguientes pasos:\n",
    "1.  Se calcula la matriz de distancia entre individuos\n",
    "2. Se agrupan los individuos que tengan la menor distancia entre ellos.\n",
    "3. Se repite el paso 1 y 2 hasta lograr tener a todos los individuos en 1 grupo.\n",
    "\n",
    "Para lograr este algoritmo se necesitan dos medidas importantes:\n",
    "1. Una medida de distancia entre individuos\n",
    "2. Una medida de distancia entre grupos de individuos"
   ]
  },
  {
   "cell_type": "markdown",
   "metadata": {
    "colab_type": "text",
    "id": "vrsJJnC56bX9"
   },
   "source": [
    "# Distancias usadas entre individuos\n",
    "Sea $x=(x_1, \\ldots, x_p)$ y $y=(y_1, \\ldots, y_p)$ dos individuos con sus vectores de variables observadas (todas cuantitativas) se definen las siguientes distancias:\n",
    "1. Distancia [Euclidiana](https://es.wikipedia.org/wiki/Distancia_euclidiana):\n",
    "$$D(x,y)=\\sqrt{\\sum_{i=1}^p (x_i-y_i)^2}=\\sqrt{(x-y)^T(x-y)}$$\n",
    "2. Distancia de [Mahalanobis](https://es.wikipedia.org/wiki/Distancia_de_Mahalanobis)\n",
    " $$D(x,y)=\\sqrt{(x-y)^T\\Sigma^{-1}(x-y)}$$\n",
    "3. Distancia de [Manhattan](https://es.wikipedia.org/wiki/Geometr%C3%ADa_del_taxista)  \n",
    "$$D(x,y)=\\sum_{i=1}^p |x_i-y_i|$$\n",
    "\n",
    "4. Distancia de [Minkowski](https://es.qwe.wiki/wiki/Minkowski_distance)\n",
    "$$D(x,y)=\\left(\\sum_{i=1}^p |x_i-y_i|^p\\right)^{\\frac{1}{p}}$$"
   ]
  },
  {
   "cell_type": "markdown",
   "metadata": {
    "colab_type": "text",
    "id": "vMA53PsXFhFd"
   },
   "source": [
    "# Medida de similaridad\n",
    "Sea $r$ y $s$ dos conjuntos (cluster) de $k$ y $l$ individuos, entonces las siguientes medidas de similaridad se definen entre los grupos (cluster):\n",
    "\n",
    "1. Enlace simple: \n",
    "$$D_{rs}=min\\{D(X_r, Y_s)\\}$$\n",
    "1. Enlace completo: \n",
    "$$D_{rs}=max\\{D(X_r, Y_s)\\}$$\n",
    "1. Enlace promedio: \n",
    "$$D_{rs}=\\frac{1}{lk}\\sum_{rs}D(X_r, Y_s)$$\n",
    "1. Enlace centroide: \n",
    "$$D_{rs}=D(\\bar{X}_r, \\bar{Y}_s)$$\n",
    "1. Metodo de Ward: \n",
    "$$D_{rs}=\\sqrt{\\frac{2kl}{k+l}}\\cdot||\\bar{X}_r- \\bar{Y}_s||$$"
   ]
  },
  {
   "cell_type": "code",
   "execution_count": 2,
   "metadata": {
    "colab": {
     "base_uri": "https://localhost:8080/",
     "height": 1000
    },
    "colab_type": "code",
    "executionInfo": {
     "elapsed": 1177,
     "status": "ok",
     "timestamp": 1599269441985,
     "user": {
      "displayName": "nelson alirio cruz gutierrez",
      "photoUrl": "https://lh3.googleusercontent.com/a-/AOh14GhDdjlbX7P6HT1cChQovqzRQSdg6HiAYjSwmILa5Q=s64",
      "userId": "04144189299847950459"
     },
     "user_tz": 300
    },
    "id": "O2txacVfRRN9",
    "outputId": "5ff467bb-7f7b-4b3e-9858-6b5088612f29"
   },
   "outputs": [
    {
     "data": {
      "text/html": [
       "<div>\n",
       "<style scoped>\n",
       "    .dataframe tbody tr th:only-of-type {\n",
       "        vertical-align: middle;\n",
       "    }\n",
       "\n",
       "    .dataframe tbody tr th {\n",
       "        vertical-align: top;\n",
       "    }\n",
       "\n",
       "    .dataframe thead th {\n",
       "        text-align: right;\n",
       "    }\n",
       "</style>\n",
       "<table border=\"1\" class=\"dataframe\">\n",
       "  <thead>\n",
       "    <tr style=\"text-align: right;\">\n",
       "      <th></th>\n",
       "      <th>Delitos_Sexuales</th>\n",
       "      <th>Homicidios</th>\n",
       "      <th>Transito</th>\n",
       "      <th>Asalto</th>\n",
       "      <th>Intrafamiliar</th>\n",
       "      <th>Poblacion</th>\n",
       "    </tr>\n",
       "    <tr>\n",
       "      <th>Departamento</th>\n",
       "      <th></th>\n",
       "      <th></th>\n",
       "      <th></th>\n",
       "      <th></th>\n",
       "      <th></th>\n",
       "      <th></th>\n",
       "    </tr>\n",
       "  </thead>\n",
       "  <tbody>\n",
       "    <tr>\n",
       "      <th>Antioquia</th>\n",
       "      <td>2163</td>\n",
       "      <td>375</td>\n",
       "      <td>5079</td>\n",
       "      <td>11897</td>\n",
       "      <td>8205</td>\n",
       "      <td>6690977</td>\n",
       "    </tr>\n",
       "    <tr>\n",
       "      <th>Atlantico</th>\n",
       "      <td>1042</td>\n",
       "      <td>85</td>\n",
       "      <td>1928</td>\n",
       "      <td>59</td>\n",
       "      <td>3659</td>\n",
       "      <td>2546138</td>\n",
       "    </tr>\n",
       "    <tr>\n",
       "      <th>Bogota_D.C.</th>\n",
       "      <td>4211</td>\n",
       "      <td>1463</td>\n",
       "      <td>725</td>\n",
       "      <td>2725</td>\n",
       "      <td>19811</td>\n",
       "      <td>8181047</td>\n",
       "    </tr>\n",
       "    <tr>\n",
       "      <th>Bolivar</th>\n",
       "      <td>944</td>\n",
       "      <td>28</td>\n",
       "      <td>922</td>\n",
       "      <td>3812</td>\n",
       "      <td>2085</td>\n",
       "      <td>2171558</td>\n",
       "    </tr>\n",
       "    <tr>\n",
       "      <th>Boyaca</th>\n",
       "      <td>517</td>\n",
       "      <td>95</td>\n",
       "      <td>1167</td>\n",
       "      <td>4084</td>\n",
       "      <td>2707</td>\n",
       "      <td>1281979</td>\n",
       "    </tr>\n",
       "    <tr>\n",
       "      <th>Caldas</th>\n",
       "      <td>443</td>\n",
       "      <td>65</td>\n",
       "      <td>1248</td>\n",
       "      <td>2243</td>\n",
       "      <td>975</td>\n",
       "      <td>993870</td>\n",
       "    </tr>\n",
       "    <tr>\n",
       "      <th>Caqueta</th>\n",
       "      <td>221</td>\n",
       "      <td>18</td>\n",
       "      <td>121</td>\n",
       "      <td>654</td>\n",
       "      <td>449</td>\n",
       "      <td>496262</td>\n",
       "    </tr>\n",
       "    <tr>\n",
       "      <th>Cauca</th>\n",
       "      <td>420</td>\n",
       "      <td>62</td>\n",
       "      <td>861</td>\n",
       "      <td>2378</td>\n",
       "      <td>1475</td>\n",
       "      <td>1416145</td>\n",
       "    </tr>\n",
       "    <tr>\n",
       "      <th>Cesar</th>\n",
       "      <td>561</td>\n",
       "      <td>44</td>\n",
       "      <td>842</td>\n",
       "      <td>2757</td>\n",
       "      <td>1402</td>\n",
       "      <td>1065637</td>\n",
       "    </tr>\n",
       "    <tr>\n",
       "      <th>Cordoba</th>\n",
       "      <td>530</td>\n",
       "      <td>14</td>\n",
       "      <td>881</td>\n",
       "      <td>1716</td>\n",
       "      <td>647</td>\n",
       "      <td>1788648</td>\n",
       "    </tr>\n",
       "    <tr>\n",
       "      <th>Cundinamarca</th>\n",
       "      <td>1459</td>\n",
       "      <td>361</td>\n",
       "      <td>2569</td>\n",
       "      <td>10293</td>\n",
       "      <td>627</td>\n",
       "      <td>2804238</td>\n",
       "    </tr>\n",
       "    <tr>\n",
       "      <th>Choco</th>\n",
       "      <td>159</td>\n",
       "      <td>2</td>\n",
       "      <td>101</td>\n",
       "      <td>528</td>\n",
       "      <td>293</td>\n",
       "      <td>515166</td>\n",
       "    </tr>\n",
       "    <tr>\n",
       "      <th>Huila</th>\n",
       "      <td>498</td>\n",
       "      <td>68</td>\n",
       "      <td>1103</td>\n",
       "      <td>3815</td>\n",
       "      <td>2206</td>\n",
       "      <td>1197049</td>\n",
       "    </tr>\n",
       "    <tr>\n",
       "      <th>La_Guajira</th>\n",
       "      <td>319</td>\n",
       "      <td>27</td>\n",
       "      <td>194</td>\n",
       "      <td>1244</td>\n",
       "      <td>753</td>\n",
       "      <td>1040193</td>\n",
       "    </tr>\n",
       "    <tr>\n",
       "      <th>Magdalena</th>\n",
       "      <td>500</td>\n",
       "      <td>25</td>\n",
       "      <td>690</td>\n",
       "      <td>2993</td>\n",
       "      <td>1842</td>\n",
       "      <td>1298562</td>\n",
       "    </tr>\n",
       "    <tr>\n",
       "      <th>Meta</th>\n",
       "      <td>826</td>\n",
       "      <td>94</td>\n",
       "      <td>1103</td>\n",
       "      <td>3766</td>\n",
       "      <td>2769</td>\n",
       "      <td>1016672</td>\n",
       "    </tr>\n",
       "    <tr>\n",
       "      <th>narigno</th>\n",
       "      <td>199</td>\n",
       "      <td>77</td>\n",
       "      <td>1791</td>\n",
       "      <td>3605</td>\n",
       "      <td>1501</td>\n",
       "      <td>1809301</td>\n",
       "    </tr>\n",
       "    <tr>\n",
       "      <th>Norte_de_Santander</th>\n",
       "      <td>374</td>\n",
       "      <td>68</td>\n",
       "      <td>1069</td>\n",
       "      <td>3282</td>\n",
       "      <td>2184</td>\n",
       "      <td>1391366</td>\n",
       "    </tr>\n",
       "    <tr>\n",
       "      <th>Quindio</th>\n",
       "      <td>400</td>\n",
       "      <td>81</td>\n",
       "      <td>1217</td>\n",
       "      <td>2039</td>\n",
       "      <td>976</td>\n",
       "      <td>574960</td>\n",
       "    </tr>\n",
       "    <tr>\n",
       "      <th>Risaralda</th>\n",
       "      <td>540</td>\n",
       "      <td>73</td>\n",
       "      <td>2149</td>\n",
       "      <td>2251</td>\n",
       "      <td>1396</td>\n",
       "      <td>967780</td>\n",
       "    </tr>\n",
       "    <tr>\n",
       "      <th>Santander</th>\n",
       "      <td>1299</td>\n",
       "      <td>187</td>\n",
       "      <td>3277</td>\n",
       "      <td>7474</td>\n",
       "      <td>398</td>\n",
       "      <td>2090854</td>\n",
       "    </tr>\n",
       "    <tr>\n",
       "      <th>Sucre</th>\n",
       "      <td>404</td>\n",
       "      <td>17</td>\n",
       "      <td>271</td>\n",
       "      <td>1688</td>\n",
       "      <td>1083</td>\n",
       "      <td>877024</td>\n",
       "    </tr>\n",
       "    <tr>\n",
       "      <th>Tolima</th>\n",
       "      <td>616</td>\n",
       "      <td>68</td>\n",
       "      <td>2643</td>\n",
       "      <td>4263</td>\n",
       "      <td>2142</td>\n",
       "      <td>1419957</td>\n",
       "    </tr>\n",
       "    <tr>\n",
       "      <th>Valle_del_Cauca</th>\n",
       "      <td>1871</td>\n",
       "      <td>283</td>\n",
       "      <td>5599</td>\n",
       "      <td>9456</td>\n",
       "      <td>5146</td>\n",
       "      <td>4755760</td>\n",
       "    </tr>\n",
       "    <tr>\n",
       "      <th>Arauca</th>\n",
       "      <td>224</td>\n",
       "      <td>43</td>\n",
       "      <td>215</td>\n",
       "      <td>790</td>\n",
       "      <td>857</td>\n",
       "      <td>270708</td>\n",
       "    </tr>\n",
       "    <tr>\n",
       "      <th>Casanare</th>\n",
       "      <td>260</td>\n",
       "      <td>58</td>\n",
       "      <td>602</td>\n",
       "      <td>1384</td>\n",
       "      <td>1293</td>\n",
       "      <td>375258</td>\n",
       "    </tr>\n",
       "    <tr>\n",
       "      <th>Putumayo</th>\n",
       "      <td>204</td>\n",
       "      <td>22</td>\n",
       "      <td>143</td>\n",
       "      <td>698</td>\n",
       "      <td>411</td>\n",
       "      <td>358896</td>\n",
       "    </tr>\n",
       "    <tr>\n",
       "      <th>San_Andres</th>\n",
       "      <td>23</td>\n",
       "      <td>4</td>\n",
       "      <td>108</td>\n",
       "      <td>494</td>\n",
       "      <td>236</td>\n",
       "      <td>78413</td>\n",
       "    </tr>\n",
       "    <tr>\n",
       "      <th>Amazonas</th>\n",
       "      <td>66</td>\n",
       "      <td>3</td>\n",
       "      <td>24</td>\n",
       "      <td>251</td>\n",
       "      <td>204</td>\n",
       "      <td>78830</td>\n",
       "    </tr>\n",
       "    <tr>\n",
       "      <th>Guainia</th>\n",
       "      <td>37</td>\n",
       "      <td>17</td>\n",
       "      <td>28</td>\n",
       "      <td>88</td>\n",
       "      <td>59</td>\n",
       "      <td>43446</td>\n",
       "    </tr>\n",
       "    <tr>\n",
       "      <th>Guaviare</th>\n",
       "      <td>57</td>\n",
       "      <td>6</td>\n",
       "      <td>21</td>\n",
       "      <td>143</td>\n",
       "      <td>132</td>\n",
       "      <td>115829</td>\n",
       "    </tr>\n",
       "    <tr>\n",
       "      <th>Vaupes</th>\n",
       "      <td>0</td>\n",
       "      <td>0</td>\n",
       "      <td>0</td>\n",
       "      <td>1</td>\n",
       "      <td>2</td>\n",
       "      <td>44928</td>\n",
       "    </tr>\n",
       "    <tr>\n",
       "      <th>Vichada</th>\n",
       "      <td>12</td>\n",
       "      <td>1</td>\n",
       "      <td>40</td>\n",
       "      <td>61</td>\n",
       "      <td>30</td>\n",
       "      <td>77276</td>\n",
       "    </tr>\n",
       "  </tbody>\n",
       "</table>\n",
       "</div>"
      ],
      "text/plain": [
       "                    Delitos_Sexuales  Homicidios  ...  Intrafamiliar  Poblacion\n",
       "Departamento                                      ...                          \n",
       "Antioquia                       2163         375  ...           8205    6690977\n",
       "Atlantico                       1042          85  ...           3659    2546138\n",
       "Bogota_D.C.                     4211        1463  ...          19811    8181047\n",
       "Bolivar                          944          28  ...           2085    2171558\n",
       "Boyaca                           517          95  ...           2707    1281979\n",
       "Caldas                           443          65  ...            975     993870\n",
       "Caqueta                          221          18  ...            449     496262\n",
       "Cauca                            420          62  ...           1475    1416145\n",
       "Cesar                            561          44  ...           1402    1065637\n",
       "Cordoba                          530          14  ...            647    1788648\n",
       "Cundinamarca                    1459         361  ...            627    2804238\n",
       "Choco                            159           2  ...            293     515166\n",
       "Huila                            498          68  ...           2206    1197049\n",
       "La_Guajira                       319          27  ...            753    1040193\n",
       "Magdalena                        500          25  ...           1842    1298562\n",
       "Meta                             826          94  ...           2769    1016672\n",
       "narigno                          199          77  ...           1501    1809301\n",
       "Norte_de_Santander               374          68  ...           2184    1391366\n",
       "Quindio                          400          81  ...            976     574960\n",
       "Risaralda                        540          73  ...           1396     967780\n",
       "Santander                       1299         187  ...            398    2090854\n",
       "Sucre                            404          17  ...           1083     877024\n",
       "Tolima                           616          68  ...           2142    1419957\n",
       "Valle_del_Cauca                 1871         283  ...           5146    4755760\n",
       "Arauca                           224          43  ...            857     270708\n",
       "Casanare                         260          58  ...           1293     375258\n",
       "Putumayo                         204          22  ...            411     358896\n",
       "San_Andres                        23           4  ...            236      78413\n",
       "Amazonas                          66           3  ...            204      78830\n",
       "Guainia                           37          17  ...             59      43446\n",
       "Guaviare                          57           6  ...            132     115829\n",
       "Vaupes                             0           0  ...              2      44928\n",
       "Vichada                           12           1  ...             30      77276\n",
       "\n",
       "[33 rows x 6 columns]"
      ]
     },
     "execution_count": 2,
     "metadata": {
      "tags": []
     },
     "output_type": "execute_result"
    }
   ],
   "source": [
    "url=\"https://raw.githubusercontent.com/Cruzalirio/Ucentral/master/Bases/Delitos_Colombia.csv\"\n",
    "datos=pd.read_csv(url, sep=\";\", index_col=0)\n",
    "datos"
   ]
  },
  {
   "cell_type": "code",
   "execution_count": 3,
   "metadata": {
    "colab": {},
    "colab_type": "code",
    "executionInfo": {
     "elapsed": 1540,
     "status": "ok",
     "timestamp": 1599269477732,
     "user": {
      "displayName": "nelson alirio cruz gutierrez",
      "photoUrl": "https://lh3.googleusercontent.com/a-/AOh14GhDdjlbX7P6HT1cChQovqzRQSdg6HiAYjSwmILa5Q=s64",
      "userId": "04144189299847950459"
     },
     "user_tz": 300
    },
    "id": "G9_7vyWUROWn"
   },
   "outputs": [],
   "source": [
    "from scipy.cluster.hierarchy import dendrogram\n",
    "from sklearn.cluster import AgglomerativeClustering\n",
    "import scipy.cluster.hierarchy as sch"
   ]
  },
  {
   "cell_type": "code",
   "execution_count": 4,
   "metadata": {
    "colab": {
     "base_uri": "https://localhost:8080/",
     "height": 436
    },
    "colab_type": "code",
    "executionInfo": {
     "elapsed": 1155,
     "status": "ok",
     "timestamp": 1599269505115,
     "user": {
      "displayName": "nelson alirio cruz gutierrez",
      "photoUrl": "https://lh3.googleusercontent.com/a-/AOh14GhDdjlbX7P6HT1cChQovqzRQSdg6HiAYjSwmILa5Q=s64",
      "userId": "04144189299847950459"
     },
     "user_tz": 300
    },
    "id": "74pUsNVLSI-k",
    "outputId": "1199e718-8413-4bbe-a7b0-da67de27c30a"
   },
   "outputs": [
    {
     "data": {
      "image/png": "[encoded data removed]",
      "text/plain": [
       "<Figure size 1440x720 with 1 Axes>"
      ]
     },
     "metadata": {
      "needs_background": "light",
      "tags": []
     },
     "output_type": "display_data"
    }
   ],
   "source": [
    "plt.rcParams[\"figure.figsize\"] = (20,10)\n",
    "dendogram=sch.dendrogram(sch.linkage(datos, method='single',metric=\"mahalanobis\"),labels=datos.index)"
   ]
  },
  {
   "cell_type": "markdown",
   "metadata": {
    "colab_type": "text",
    "id": "xxaLjoRQq_pH"
   },
   "source": [
    "## Estandarizar los datos"
   ]
  },
  {
   "cell_type": "code",
   "execution_count": 5,
   "metadata": {
    "colab": {
     "base_uri": "https://localhost:8080/",
     "height": 1000
    },
    "colab_type": "code",
    "executionInfo": {
     "elapsed": 482,
     "status": "ok",
     "timestamp": 1599269550775,
     "user": {
      "displayName": "nelson alirio cruz gutierrez",
      "photoUrl": "https://lh3.googleusercontent.com/a-/AOh14GhDdjlbX7P6HT1cChQovqzRQSdg6HiAYjSwmILa5Q=s64",
      "userId": "04144189299847950459"
     },
     "user_tz": 300
    },
    "id": "FNM-Ihpzq_Yq",
    "outputId": "75e3a849-537b-4cf8-8962-38356e7dabe5"
   },
   "outputs": [
    {
     "data": {
      "text/plain": [
       "array([[ 1.86500696e+00,  1.01240803e+00,  2.89170883e+00,\n",
       "         3.07253846e+00,  1.73801004e+00,  2.87917032e+00],\n",
       "       [ 4.84610753e-01, -1.21972587e-01,  5.58547037e-01,\n",
       "        -9.32878984e-01,  4.52408787e-01,  5.75738481e-01],\n",
       "       [ 4.38690834e+00,  5.26829119e+00, -3.32215781e-01,\n",
       "        -3.08310942e-02,  5.02016758e+00,  3.70725428e+00],\n",
       "       [ 3.63933832e-01, -3.44937054e-01, -1.86346890e-01,\n",
       "         3.36958124e-01,  7.28419967e-03,  3.67571288e-01],\n",
       "       [-1.61872753e-01, -8.28560141e-02, -4.93634147e-03,\n",
       "         4.28990017e-01,  1.83184767e-01, -1.26798841e-01],\n",
       "       [-2.52996143e-01, -2.00205734e-01,  5.50402074e-02,\n",
       "        -1.93917022e-01, -3.06621958e-01, -2.86911078e-01],\n",
       "       [-5.26366311e-01, -3.84053627e-01, -7.79448318e-01,\n",
       "        -7.31559218e-01, -4.55373885e-01, -5.63449228e-01],\n",
       "       [-2.81318277e-01, -2.11940705e-01, -2.31514415e-01,\n",
       "        -1.48239428e-01, -1.65222788e-01, -5.22381073e-02],\n",
       "       [-1.07691278e-01, -2.82350537e-01, -2.45582988e-01,\n",
       "        -2.00038127e-02, -1.85867067e-01, -2.47027648e-01],\n",
       "       [-1.45864590e-01, -3.99700257e-01, -2.16705390e-01,\n",
       "        -3.72228814e-01, -3.99379814e-01,  1.54774824e-01],\n",
       "       [ 9.98103367e-01,  9.57644832e-01,  1.03317627e+00,\n",
       "         2.52982098e+00, -4.05035780e-01,  7.19173668e-01],\n",
       "       [-6.02712935e-01, -4.46640144e-01, -7.94257342e-01,\n",
       "        -7.74191639e-01, -4.99490426e-01, -5.52943614e-01],\n",
       "       [-1.85269299e-01, -1.88470762e-01, -5.23252195e-02,\n",
       "         3.37973182e-01,  4.15027988e-02, -1.73997409e-01],\n",
       "       [-4.05689390e-01, -3.48848712e-01, -7.25395379e-01,\n",
       "        -5.31931216e-01, -3.69403190e-01, -2.61167768e-01],\n",
       "       [-1.82806505e-01, -3.56672026e-01, -3.58131573e-01,\n",
       "         5.98473883e-02, -6.14357970e-02, -1.17583088e-01],\n",
       "       [ 2.18628968e-01, -8.67676714e-02, -5.23252195e-02,\n",
       "         3.21393907e-01,  2.00718264e-01, -2.74239209e-01],\n",
       "       [-5.53457049e-01, -1.53265846e-01,  4.57105220e-01,\n",
       "         2.66919147e-01, -1.57870031e-01,  1.66252417e-01],\n",
       "       [-3.37962546e-01, -1.88470762e-01, -7.75005610e-02,\n",
       "         1.57631274e-01,  3.52812354e-02, -6.60086633e-02],\n",
       "       [-3.05946220e-01, -1.37619216e-01,  3.20862195e-02,\n",
       "        -2.62940941e-01, -3.06339160e-01, -5.19714000e-01],\n",
       "       [-1.33550619e-01, -1.68912475e-01,  7.22186757e-01,\n",
       "        -1.91210201e-01, -1.87563857e-01, -3.01410202e-01],\n",
       "       [ 8.01079822e-01,  2.77016459e-01,  1.55741573e+00,\n",
       "         1.57600515e+00, -4.69796600e-01,  3.22721256e-01],\n",
       "       [-3.01020632e-01, -3.87965285e-01, -6.68380635e-01,\n",
       "        -3.81702685e-01, -2.76079737e-01, -3.51846482e-01],\n",
       "       [-3.99644349e-02, -1.88470762e-01,  1.08796966e+00,\n",
       "         4.89555123e-01,  2.34037051e-02, -5.01196457e-02],\n",
       "       [ 1.50543899e+00,  6.52535561e-01,  3.27674347e+00,\n",
       "         2.24661990e+00,  8.72929919e-01,  1.80370262e+00],\n",
       "       [-5.22672120e-01, -2.86262194e-01, -7.09845903e-01,\n",
       "        -6.85543272e-01, -3.39992162e-01, -6.88797466e-01],\n",
       "       [-4.78341822e-01, -2.27587335e-01, -4.23291281e-01,\n",
       "        -4.84561859e-01, -2.16692086e-01, -6.30695378e-01],\n",
       "       [-5.47300063e-01, -3.68406998e-01, -7.63158391e-01,\n",
       "        -7.16671706e-01, -4.66120222e-01, -6.39788313e-01],\n",
       "       [-7.70182948e-01, -4.38816830e-01, -7.89074183e-01,\n",
       "        -7.85695626e-01, -5.15609931e-01, -7.95662515e-01],\n",
       "       [-7.17232870e-01, -4.42728487e-01, -8.51272086e-01,\n",
       "        -8.67915295e-01, -5.24659478e-01, -7.95430774e-01],\n",
       "       [-7.52943388e-01, -3.87965285e-01, -8.48310281e-01,\n",
       "        -9.23066760e-01, -5.65665238e-01, -8.15094899e-01],\n",
       "       [-7.28315445e-01, -4.30993515e-01, -8.53493440e-01,\n",
       "        -9.04457370e-01, -5.45020959e-01, -7.74869137e-01],\n",
       "       [-7.98505082e-01, -4.54463459e-01, -8.69042915e-01,\n",
       "        -9.52503431e-01, -5.81784743e-01, -8.14271299e-01],\n",
       "       [-7.83728317e-01, -4.50551802e-01, -8.39424866e-01,\n",
       "        -9.32202279e-01, -5.73866390e-01, -7.96294386e-01]])"
      ]
     },
     "execution_count": 5,
     "metadata": {
      "tags": []
     },
     "output_type": "execute_result"
    }
   ],
   "source": [
    "from sklearn.preprocessing import StandardScaler\n",
    "datosescalados=StandardScaler(with_mean=True, with_std=True).fit(datos)\n",
    "datosnuevos=datosescalados.transform(datos)\n",
    "datosnuevos"
   ]
  },
  {
   "cell_type": "code",
   "execution_count": 6,
   "metadata": {
    "colab": {
     "base_uri": "https://localhost:8080/",
     "height": 431
    },
    "colab_type": "code",
    "executionInfo": {
     "elapsed": 1038,
     "status": "ok",
     "timestamp": 1599269556808,
     "user": {
      "displayName": "nelson alirio cruz gutierrez",
      "photoUrl": "https://lh3.googleusercontent.com/a-/AOh14GhDdjlbX7P6HT1cChQovqzRQSdg6HiAYjSwmILa5Q=s64",
      "userId": "04144189299847950459"
     },
     "user_tz": 300
    },
    "id": "DKCMeGiRsSzk",
    "outputId": "cf1315b5-13fc-4672-b0ea-7428021434e9"
   },
   "outputs": [
    {
     "data": {
      "image/png": "[encoded data removed]",
      "text/plain": [
       "<Figure size 1440x720 with 1 Axes>"
      ]
     },
     "metadata": {
      "needs_background": "light",
      "tags": []
     },
     "output_type": "display_data"
    }
   ],
   "source": [
    "plt.rcParams[\"figure.figsize\"] = (20,10)\n",
    "dendogram=sch.dendrogram(sch.linkage(datosnuevos, method='ward',metric=\"euclidean\"),labels=datos.index)"
   ]
  },
  {
   "cell_type": "code",
   "execution_count": null,
   "metadata": {
    "colab": {},
    "colab_type": "code",
    "id": "PUTYz0zMRdqn"
   },
   "outputs": [],
   "source": [
    "ag= AgglomerativeClustering(distance_threshold=None, n_clusters=2)\n",
    "grupos=ag.fit(datos)"
   ]
  },
  {
   "cell_type": "code",
   "execution_count": null,
   "metadata": {
    "colab": {
     "base_uri": "https://localhost:8080/",
     "height": 52
    },
    "colab_type": "code",
    "executionInfo": {
     "elapsed": 615,
     "status": "ok",
     "timestamp": 1599166050017,
     "user": {
      "displayName": "nelson alirio cruz gutierrez",
      "photoUrl": "https://lh3.googleusercontent.com/a-/AOh14GhDdjlbX7P6HT1cChQovqzRQSdg6HiAYjSwmILa5Q=s64",
      "userId": "04144189299847950459"
     },
     "user_tz": 300
    },
    "id": "kspYl6x2lo6j",
    "outputId": "16d8b37c-6e11-4ede-e9e7-f16f90bd5867"
   },
   "outputs": [
    {
     "name": "stdout",
     "output_type": "stream",
     "text": [
      "The rpy2.ipython extension is already loaded. To reload it, use:\n",
      "  %reload_ext rpy2.ipython\n"
     ]
    }
   ],
   "source": [
    "import rpy2\n",
    "%load_ext rpy2.ipython"
   ]
  },
  {
   "cell_type": "markdown",
   "metadata": {
    "colab_type": "text",
    "id": "Pokb0nokmIuE"
   },
   "source": [
    "# Ejemplo de dendrograma con los datos de la clase\n"
   ]
  },
  {
   "cell_type": "code",
   "execution_count": null,
   "metadata": {
    "colab": {},
    "colab_type": "code",
    "id": "jxqFjzIbg0Dx"
   },
   "outputs": [],
   "source": [
    "Datos <- read.csv(\"C:/Users/nelso/Downloads/Datos.csv\", row.names=1)\n",
    "\n",
    "library(factoextra)\n",
    "library(cluster)\n",
    "cor(Datos)\n",
    "distancia=get_dist(Datos,stand = T ,method = \"pearson\")\n",
    "distancia\n",
    "\n",
    "fviz_dist(distancia)\n",
    "arbol=hclust(distancia, method = \"ward.D2\" )\n",
    "plot(arbol)\n",
    "\n",
    "\n",
    "cluster <- cutree(arbol, k = 3)\n",
    "cluster\n",
    "\n",
    "fviz_dend(arbol, k=3, rect=T)\n",
    "\n",
    "datos=data.frame(Datos, cluster)\n",
    "\n",
    "aggregate(.~cluster, data=datos, FUN=mean)"
   ]
  },
  {
   "cell_type": "markdown",
   "metadata": {
    "colab_type": "text",
    "id": "KJBzqojmqXJ7"
   },
   "source": [
    "# Cluster de departamentos"
   ]
  },
  {
   "cell_type": "code",
   "execution_count": null,
   "metadata": {
    "colab": {
     "base_uri": "https://localhost:8080/",
     "height": 121
    },
    "colab_type": "code",
    "executionInfo": {
     "elapsed": 553,
     "status": "ok",
     "timestamp": 1599158322088,
     "user": {
      "displayName": "nelson alirio cruz gutierrez",
      "photoUrl": "https://lh3.googleusercontent.com/a-/AOh14GhDdjlbX7P6HT1cChQovqzRQSdg6HiAYjSwmILa5Q=s64",
      "userId": "04144189299847950459"
     },
     "user_tz": 300
    },
    "id": "eYjKYKiFlwV8",
    "outputId": "7b830c7e-147b-4431-fc78-df49c775558f"
   },
   "outputs": [
    {
     "name": "stderr",
     "output_type": "stream",
     "text": [
      "R[write to console]: Error in library(factoextra) : there is no package called ‘factoextra’\n",
      "Calls: <Anonymous> -> <Anonymous> -> withVisible -> library\n",
      "\n"
     ]
    },
    {
     "name": "stdout",
     "output_type": "stream",
     "text": [
      "\n",
      "Error in library(factoextra) : there is no package called ‘factoextra’\n",
      "Calls: <Anonymous> -> <Anonymous> -> withVisible -> library\n"
     ]
    }
   ],
   "source": [
    "%%R\n",
    "library(cluster)\n",
    "library(factoextra)\n",
    "\n",
    "\n",
    "## Cargar delitos de colombia\n",
    "#### Seleccionar variables cuantitativas\n",
    "url=\"https://raw.githubusercontent.com/Cruzalirio/Ucentral/master/Bases/Delitos_Colombia.csv\"\n",
    "datos=read.csv(url, sep=\";\", row.names = 1)\n",
    "\n",
    "## Calcular distancia\n",
    "\n",
    "\n",
    "distancia=get_dist(datos, stand = TRUE, method = \"pearson\")\n",
    "distancia\n",
    "\n",
    "\n",
    "fviz_dist(distancia)\n",
    "arbol=hclust(distancia, method = \"complete\" )\n",
    "plot(arbol)\n",
    "\n",
    "plot(arbol, cex = 0.6)\n",
    "\n",
    "arbol=agnes(distancia, diss=T, method = \"complete\" )\n",
    "plot(arbol)\n",
    "a\n",
    "b\n",
    "\n",
    "arbol$ac\n",
    "\n",
    "### Como escoger el metodo de enlace\n",
    "library(purrr)\n",
    "metodos <- c( \"average\", \"single\", \"complete\", \"ward\")\n",
    "names(metodos) <- c( \"average\", \"single\", \"complete\", \"ward\")\n",
    "\n",
    "# function to compute coefficient\n",
    "escogermetodo <- function(x) {\n",
    "  agnes(distancia, diss=T, method = x)$ac\n",
    "}\n",
    "\n",
    "escogermetodo(metodos)\n",
    "map_dbl(metodos, escogermetodo)   \n",
    "\n",
    "### Se escoge el metodo de Ward\n",
    "arbol=agnes(distancia, diss=T, method = \"ward\" )\n",
    "plot(arbol)\n",
    "a\n",
    "b\n",
    "\n",
    "#### Cortar el arbol\n",
    "cluster <- cutree(arbol, k = 5)\n",
    "cluster\n",
    "\n",
    "rect.hclust(arbol, k = 3, border = 2:10)\n",
    "\n",
    "fviz_dend(arbol, k=3, rect=T)\n",
    "\n",
    "\n",
    "#### Algunos elementos para escoger el número de grupos\n",
    "\n",
    "library(\"NbClust\")\n",
    "set.seed(123)\n",
    "indicesCluster <- NbClust(datos,diss=distancia,distance=NULL,\n",
    "                          min.nc = 2, max.nc = 10, \n",
    "                          method = \"ward.D2\", index =\"all\") \n",
    "\n",
    "factoextra::fviz_nbclust(indicesCluster)\n",
    "\n",
    "### Indice de silueta\n",
    "arbol=hcut(distancia, k=2,isdiss=T, hc_func = \"agnes\",\n",
    "           hc_method = \"ward.D2\", hc_metric=\"pearson\")\n",
    "fviz_silhouette(arbol)\n",
    "arbol$silinfo$widths\n",
    "\n"
   ]
  }
 ],
 "metadata": {
  "colab": {
   "authorship_tag": "ABX9TyMPp4qYzetuePbS2DKxPYXv",
   "name": "6. Cluster jerarquico.ipynb",
   "provenance": [],
   "toc_visible": true
  },
  "kernelspec": {
   "display_name": "Python 3",
   "language": "python",
   "name": "python3"
  },
  "language_info": {
   "codemirror_mode": {
    "name": "ipython",
    "version": 3
   },
   "file_extension": ".py",
   "mimetype": "text/x-python",
   "name": "python",
   "nbconvert_exporter": "python",
   "pygments_lexer": "ipython3",
   "version": "3.8.5"
  }
 },
 "nbformat": 4,
 "nbformat_minor": 1
}
