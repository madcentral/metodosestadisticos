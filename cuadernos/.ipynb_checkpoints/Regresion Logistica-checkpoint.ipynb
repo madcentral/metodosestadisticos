{
 "cells": [
  {
   "cell_type": "markdown",
   "metadata": {
    "toc": true
   },
   "source": [
    "<h1>Table of Contents<span class=\"tocSkip\"></span></h1>\n",
    "<div class=\"toc\"><ul class=\"toc-item\"><li><span><a href=\"#Matriz-de-Confusión\" data-toc-modified-id=\"Matriz-de-Confusión-1\"><span class=\"toc-item-num\">1&nbsp;&nbsp;</span>Matriz de Confusión</a></span></li><li><span><a href=\"#Validación-cruzada\" data-toc-modified-id=\"Validación-cruzada-2\"><span class=\"toc-item-num\">2&nbsp;&nbsp;</span>Validación cruzada</a></span></li><li><span><a href=\"#Regresión-Logística\" data-toc-modified-id=\"Regresión-Logística-3\"><span class=\"toc-item-num\">3&nbsp;&nbsp;</span>Regresión Logística</a></span></li><li><span><a href=\"#Implementación-en-Python\" data-toc-modified-id=\"Implementación-en-Python-4\"><span class=\"toc-item-num\">4&nbsp;&nbsp;</span>Implementación en Python</a></span></li><li><span><a href=\"#Guardar-el-modelo\" data-toc-modified-id=\"Guardar-el-modelo-5\"><span class=\"toc-item-num\">5&nbsp;&nbsp;</span>Guardar el modelo</a></span></li><li><span><a href=\"#Conclusiones\" data-toc-modified-id=\"Conclusiones-6\"><span class=\"toc-item-num\">6&nbsp;&nbsp;</span>Conclusiones</a></span></li></ul></div>"
   ]
  },
  {
   "cell_type": "markdown",
   "metadata": {},
   "source": [
    "# Métodos de clasificación supervisada\n",
    "\n",
    "\n",
    "La clasificación supervisada es una de las tares que más frecuentemente son llevadas a cabo por los denominados Sistemas Inteligentes. Por lo tanto, un gran número de paradigmas desarrollados bien por la Estadística (Regresión Logística, Análisis Discriminante) o bien por la Inteligencia Artificial (Redes Neuronales, Inducción de Reglas, Árboles de Decisión, Redes Bayesianas) son capaces de realizar las tareas propias de la clasificación.\n",
    "\n",
    "La idea fundamental de este proceso es establecer un modelo que se entrena a partir de la clasificaciones conocidas, es decir, sobre la base estima una división en el siguiente sentido:\n",
    "\n",
    "||**Datos de Entrada**|**Variable Objetivo**|\n",
    "|:--:|:-----:|:--:|\n",
    "||||\n",
    "||$\\ \\begin{bmatrix}X_{1}& X_{2}&X_{3}&\\cdots&X_{p}\\end{bmatrix}$|$Y$|\n",
    "|**Entrenamiento**|$\\begin{bmatrix}x_{11}& x_{12}&x_{13}&\\cdots&x_{1p}\\\\\n",
    "x_{21}& x_{22}&x_{23}&\\cdots&x_{2p}\\\\\n",
    "\\vdots& \\vdots&\\vdots&\\ddots&\\vdots\\\\\n",
    "x_{k1}& x_{k2}&x_{k3}&\\cdots&x_{kp}\\\\\\end{bmatrix}$|$\\begin{bmatrix}Y_{1}\\\\ Y_{2}\\\\\\vdots\\\\Y_{k}\\end{bmatrix}$|\n",
    "||$\\ \\begin{bmatrix}X_{1}& X_{2}&X_{3}&\\cdots&X_{p}\\end{bmatrix}$|$Y$|\n",
    "||||\n",
    "|**Testeo**|$\\begin{bmatrix}x_{(k+1)1}& x_{(k+1)2}&x_{(k+1)3}&\\cdots&x_{(k+1)p}\\\\\n",
    "x_{(k+2)1}& x_{(k+2)2}&x_{(k+2)3}&\\cdots&x_{(k+2)p}\\\\\n",
    "\\vdots& \\vdots&\\vdots&\\ddots&\\vdots\\\\\n",
    "x_{n1}& x_{n2}&x_{n3}&\\cdots&x_{np}\\\\\\end{bmatrix}$|$\\begin{bmatrix}Y_{(k+1)}\\\\ Y_{(k+2)}\\\\\\vdots\\\\Y_{n}\\end{bmatrix}$\n",
    "\n",
    "Con la primera base de $k$ registros se estiman los parámetros del modelo  y con lo demás se prueba que tan eficiente es para clasificar. Iniciamos estudiando los estadísticos que permiten validar el modelo.\n",
    "\n",
    "\n",
    "\n",
    "\n"
   ]
  },
  {
   "cell_type": "markdown",
   "metadata": {},
   "source": [
    "\n",
    "\n",
    "##  Matriz de Confusión\n",
    "\n",
    "Supongamos por un momento que ya entrenamos un modelo, lo que debemos hacer a continuación es verificar su eficiencia con la base de testeo, suponiendo que la variable objetivo es  booleana tenemos cuatro casos posibles:\n",
    "\n",
    "* Verdaderos Positivos **VP**.\n",
    "* Verdaderos Negativos **VN**.\n",
    "* Falsos Positivos **FP**, (Predicho Verdadero - Real Falso) Error Tipo 1.\n",
    "* Falsos Negativos **FN**, (Predicho Falso - Real Verdadero) Error tipo 2.\n",
    "\n",
    "El conteo de estos valores conforman la matriz de confusión:\n",
    "\n",
    "<table align=\"center\">\n",
    "\n",
    "<tbody><tr>\n",
    "<th colspan=\"2\">&#160;\n",
    "</th>\n",
    "<th colspan=\"2\" align=\"center\">Valor en la realidad\n",
    "</th></tr>\n",
    "<tr>\n",
    "<th colspan=\"2\">&#160;</th>\n",
    "<th><i>p</i></th>\n",
    "<th><i>n</i></th>\n",
    "<th style=\"padding-left:1em;\">total\n",
    "</th></tr>\n",
    "<tr>\n",
    "<th rowspan=\"2\" valign=\"middle\">Predicción<br />outcome\n",
    "</th>\n",
    "<th valign=\"middle\" style=\"padding-right:1em;\"><i>p'</i>\n",
    "</th>\n",
    "<td style=\"border:thin solid; padding:1em;\">Verdaderos<br />Positivos</td>\n",
    "<td style=\"border:thin solid; padding:1em;\">Falsos<br />Positivos\n",
    "</td>\n",
    "<td style=\"padding-left:1em;\">P'\n",
    "</td></tr>\n",
    "<tr>\n",
    "<th valign=\"middle\" style=\"padding-right:1em;\"><i>n'</i>\n",
    "</th>\n",
    "<td style=\"border:thin solid; padding:1em;\">Falsos<br />Negativos</td>\n",
    "<td style=\"border:thin solid; padding:1em;\">Verdaderos<br />Negativos\n",
    "</td>\n",
    "<td style=\"padding-left:1em;\">N'\n",
    "</td></tr>\n",
    "<tr>\n",
    "<th colspan=\"2\" align=\"right\" style=\"padding-right:1em;\">total\n",
    "</th>\n",
    "<td align=\"center\">P</td>\n",
    "<td align=\"center\">N\n",
    "</td></tr></tbody></table>\n",
    "\n",
    "\n",
    "de esta tabla obtenemos las siguientes medidas:\n",
    "\n",
    "\n",
    "* **Exactitud (accuracy):** $$\\cfrac{VP+VN}{Total}$$\n",
    "\n",
    "* **Sensibilidad (Recall):** $$\\cfrac{VP}{Positivos}=\\cfrac{VP}{VP+FN}$$\n",
    "\n",
    "* **Especificidad:** $$\\cfrac{VN}{Negativos}=\\cfrac{VN}{FP+VN}$$\n",
    "\n",
    "* **Precisión:** $$\\cfrac{VP}{VP+FP}$$\n",
    "\n",
    "* **F1-Score:** $$2*\\cfrac{Prec\\cdot Recall}{Prec+Recall}$$\n",
    "\n",
    "* **AUC(ROC):** Área bajo la curva que compara (1-especificidad) y la sensibilidad. \n",
    "\n",
    "\n"
   ]
  },
  {
   "cell_type": "markdown",
   "metadata": {},
   "source": [
    "## Validación cruzada\n",
    "\n",
    "La validación cruzada o cross-validation es una técnica utilizada para evaluar los resultados de un análisis estadístico cuando el conjunto de datos se ha segmentado en una muestra de entrenamiento y otra de prueba, la validación cruzada comprueba si los resultados del análisis son independientes de la partición. Aunque la validación cruzada es una técnica diseñada para modelos de regresión y predicción, su uso se ha extendido a muchos otros ejercicios de machine learning.\n",
    "\n",
    "![ValCruza](https://bookdown.org/content/2274/Esquema.jpg)\n",
    "Figura 1: Validación cruzada(De Joan.domenech91 - Trabajo propio, CC BY-SA 3.0, https://commons.wikimedia.org/w/index.php?curid=17617674) \n",
    "\n",
    "El método de validación cruzada más utilizado se conoce como la validación cruzada de K iteraciones o K-fold cross-validation. Aquí, el total de los datos se dividen en $k$ subconjuntos, utilizamos cada subconjunto distinto para validar el modelo entrenado con los otros k-1 subconjuntos. El error medio obtenido de los k análisis realizados nos proporciona el error cometido por el método. En la práctica, la elección del número de iteraciones depende de la medida del conjunto de datos. Lo más común es utilizar la validación cruzada de 10 iteraciones (10-fold cross-validation).\n",
    "\n",
    "![ValCruza2](https://bookdown.org/content/2274/K-fold_cross_validation.jpg)\n",
    "\n"
   ]
  },
  {
   "cell_type": "markdown",
   "metadata": {},
   "source": [
    "## Regresión Logística\n",
    "\n",
    "El primer modelo de clasificación que vamos a desplegar es la regresión logística, este es un método estadístico que trata de modelar la probabilidad de una variable cualitativa binaria (dos posibles valores) en función de una o más variables independientes. La principal aplicación de la regresión logística es la creación de modelos de clasificación binaria.\n",
    "\n",
    "El modelo de regresión lineal (Legendre, Gauss, Galton y Pearson) considera que, dado un conjunto de observaciones $\\{y_i, x_{i1},...,x_{np}\\}^{n}_{i=1}$, la media $\\mu$ de la variable respuesta $y$ se relaciona de forma lineal con la o las variables regresoras $x_1$ ... $x_p$ acorde a la ecuación:\n",
    "$$\\mu_y = \\beta_0 + \\beta_1 x_{1} + \\beta_2 x_{2} + ... + \\beta_p x_{p}$$\n",
    "\n",
    "El resultado de esta ecuación se conoce como la línea de regresión poblacional, y recoge la relación entre los predictores y la <strong>media</strong> de la variable respuesta.\n",
    "\n",
    "Otra definición que se encuentra con frecuencia en los libros de estadística es:\n",
    "\n",
    "$$y_i= \\beta_0 + \\beta_1 x_{i1} + \\beta_2 x_{i2} + ... + \\beta_p x_{ip} +\\epsilon_i$$\n",
    "\n",
    "En este caso, se está haciendo referencia al valor de $y$ para una observación $i$ concreta. El valor de una observación puntual nunca va a ser exactamente igual al promedio, de ahí que se añada el término de error $\\epsilon$.\n",
    "\n",
    "En ambos casos, la interpretación de los elementos del modelo es la misma:\n",
    "\n",
    "<ul>\n",
    "<li><p>$\\beta_{0}$: es la ordenada en el origen, se corresponde con el valor promedio de la variable respuesta $y$ cuando todos los predictores son cero.</p>\n",
    "</li>\n",
    "<li><p>$\\beta_{p}$: es el efecto promedio que tiene sobre la variable respuesta el incremento en una unidad de la variable predictora $x_{p}$, manteniéndose constantes el resto de variables. Se conocen como coeficientes parciales de regresión.</p>\n",
    "</li>\n",
    "<li><p>$e$: es el residuo o error, la diferencia entre el valor observado y el estimado por el modelo. Recoge el efecto de todas aquellas variables que influyen en $y$ pero que no se incluyen en el modelo como predictores.</p>\n",
    "</li>\n",
    "</ul>\n",
    "\n",
    "En la gran mayoría de casos, los valores $\\beta_0$ y $\\beta_p$ poblacionales se desconocen, por lo que, a partir de una muestra, se obtienen sus estimaciones $\\hat{\\beta}_0$ y $\\hat{\\beta}_p$. Ajustar el modelo consiste en estimar, a partir de los datos disponibles, los valores de los coeficientes de regresión que maximizan la verosimilitud (<em>likelihood</em>), es decir, los que dan lugar al modelo que con mayor probabilidad puede haber generado los datos observados.\n",
    "\n",
    "El método empleado con más frecuencia es el ajuste por mínimos cuadrados ordinarios (<em>OLS</em>), que identifica como mejor modelo la recta (o plano si es regresión múltiple) que minimiza la suma de las desviaciones verticales entre cada dato de entrenamiento y la recta, elevadas al cuadrado.\n",
    "\n",
    "El término \"lineal\" en los modelos de regresión hace referencia al hecho de que los parámetros se incorporan en la ecuación de forma lineal, no a que necesariamente la relación entre cada predictor y la variable respuesta tenga que seguir un patrón de recta.\n",
    "\n",
    "\n",
    "<strong>¿Qué ocurre cuando la variable respuesta es binaria, solo dos posibles valores?</strong>\n",
    "<br>\n",
    "\n",
    "\n",
    "<p>Si una variable cualitativa con dos niveles (binaría) se codifica como 0 y 1, matemáticamente es posible ajustar un modelo de regresión lineal por mínimos cuadrados. Sin embargo, esta aproximación tiene dos problemas:</p>\n",
    "<ul>\n",
    "<li><p>Al generar una recta (hiperplano si hay múltiples variables), se pueden obtener valores predichos distintos de 0 y 1, lo que entra en contradicción con la definición de la variable respuesta binaria.</p>\n",
    "</li>\n",
    "<li><p>Si se quiere interpretar las predicciones del modelo como probabilidades de pertenencia a cada clase, no se cumpliría la condición de que toda probabilidad ha de estar dentro del intervalo [0,1], ya que podrían obtenerse valores fuera de este.</p>\n",
    "</li>\n",
    "</ul>\n",
    "<p>Para evitar estos problemas, la regresión logística (David Cox 1958) transforma el valor devuelto por la regresión lineal con una función cuyo resultado siempre está comprendido entre 0 y 1. Existen varias funciones que cumplen esta descripción, una de las más utilizadas es la función logística (también conocida como función sigmoide):</p>\n",
    "$$\\text{sigmoide} = \\sigma(y) = \\dfrac{1}{1 + e^{-y}} $$<p>Para valores de $y$ positivos muy grandes, $e^{−y}$ es aproximadamente 0, por lo que el valor de la función sigmoide es 1. Para valores de $y$ negativos muy grandes, $e^{−y}$ tiende a infinito, por lo que el valor de la función sigmoide es 0.</p>\n",
    "<p>Sustituyendo la $y$ de la ecuación anterior por la función de un modelo lineal $ y = \\beta_0 + \\beta_1 x_{1} + ... + \\beta_p x_{p}$ se obtiene que:</p>\n",
    "$$P(y=1|X=x)= \\frac{e^{\\beta_0 + \\beta_1 x_{1} + ... + \\beta_p x_{p}}}{1+e^{\\beta_0 + \\beta_1 x_{1} + ... + \\beta_p x_{p}}} \\tag{anexo 1}$$<p>donde $P(y=1|X=x)$ puede interpretarse como la probabilidad de que la variable respuesta $y$ adquiera el valor 1 (clase de referencia), dado los predictores $x_1, ..., x_p$.</p>\n",
    "<p>El modelo resultante tiene los coeficientes de regresión en los exponentes, por lo que no es un modelo lineal y no puede ajustarse con la estrategia descrita al inicio del documento. ¿Cómo evitar este inconveniente?</p>\n",
    "<p>La expresión obtenida tiene la característica de ser siempre positiva, ya que la función exponencial solo toma valores positivos y, el cociente de valores positivos, es siempre positivo. Esto hace posible aplicarle el logaritmo:</p>\n",
    "$$ln(\\frac{p(y=1|X=x)}{p(y=0|X=x)}) = \\beta_0 + \\beta_1 x_{1} + ... + \\beta_p x_{p}  \\tag{anexo 2}$$<p>Al realizar la transformación, en el lado derecho se obtiene la ecuación de un modelo lineal. El término de la izquierda resulta ser el logaritmo de un cociente de probabilidades, lo que se conoce como razón de probabilidad (<em>log of odds</em>).</p>\n",
    "<p>Como resultado de este proceso se consigue convertir un problema de clasificación no lineal, en un problema de regresión lineal que sí puede ajustarse mediante los métodos convencionales.</p>\n",
    "<p>Una vez obtenidos los coeficientes del modelo ($\\beta_0, \\beta_1, \\cdots, \\beta_p$) se puede obtener la probabilidad de que una nueva observación pertenezca a la clase $y=1$ con la ecuación:</p>\n",
    "$$p(y=1|X=x) = \\frac{e^{(\\beta_0 + \\beta_1 x_1 + \\cdots + \\beta_p x_p)}}{1+e^{(\\beta_0 + \\beta_1 x_1 + \\cdots + \\beta_p x_p)}}$$<p>Modelar el <em>log of odds</em> es la estrategia matemática que permite encontrar los valores de los coeficientes (ajustar el modelo).</p>\n",
    "\n",
    "\n",
    "<div class=\"output_jpeg output_subarea output_execute_result\">\n",
    "<img src=\"data:image/jpeg;base64,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\n",
    "\"\n",
    "width=700\n",
    ">\n",
    "\n",
    "\n",
    "<center><font size='2.5'> <i>Modelo de regresión lineal vs  regresión logística para una variable binaria. La línea gris representa la recta de regresión (el modelo).</i></font></center>\n",
    "\n",
    "<p><strong>Anexo 1</strong>\n",
    "<br></p>\n",
    "<p>Combinación de la función sigmoide y la ecuación de un modelo lineal para obtener un modelo que relacione los predictores con la probabilidad de que $y=1$.</p>\n",
    "$$P(y=1|X=x)=$$$$= \\frac{1}{1+e^{-(\\beta_0 + \\beta_1 x_{1} + ... + \\beta_p x_{p})}} =$$$$= \\frac{1}{\\frac{e^{\\beta_0 + \\beta_1 x_{1} + ... + \\beta_p x_{p}}}{e^{\\beta_0 + \\beta_1 x_{1} + ... + \\beta_p x_{p}}} + \\frac{1}{e^{\\beta_0 + \\beta_1 x_{1} + ... + \\beta_p x_{p}}}}=$$$$= \\frac{1}{\\frac{1 + e^{\\beta_0 + \\beta_1 x_{1} + ... + \\beta_p x_{p}}}{e^{\\beta_0 + \\beta_1 x_{1} + ... + \\beta_p x_{p}}}}=$$$$= \\frac{e^{\\beta_0 + \\beta_1 x_{1} + ... + \\beta_p x_{p}}}{1+e^{\\beta_0 + \\beta_1 x_{1} + ... + \\beta_p x_{p}}}$$<p><strong>Anexo 2</strong>\n",
    "<br></p>\n",
    "<p>Transformación logarítmica para linealizar el modelo.</p>\n",
    "<p>La probabilidad de que $y=1$ dado los predictores $X=x_1, ..., x_p$ es:</p>\n",
    "$$P(y=1|X=x) = \\frac{e^{\\beta_0 + \\beta_1 x_{1} + ... + \\beta_p x_{p}}}{1+e^{\\beta_0 + \\beta_1 x_{1} + ... + \\beta_p x_{p}}} = \\frac{e^{\\sum \\beta_i x_{i}}}{1+e^{\\sum \\beta_i x_{i}}}$$<p>Al ser un caso de clasificación binaria, la probabilidad de $y=0$ es la probabilidad complementaria:</p>\n",
    "$$P(y=0|X=x) = 1- P(y=0|X=x) = 1 - \\frac{e^{\\sum \\beta_i x_{i}}}{1+e^{\\sum \\beta_i x_{i}}} = \\frac{1}{1+e^{\\sum \\beta_i x_{i}}}$$<p>Si se divide una probabilidad entre otra:</p>\n",
    "$$\\frac{P(y=1|X=x)}{P(y=0|X=x)} = \\frac{\\frac{e^{\\sum \\beta_i x_{i}}}{1+e^{\\sum \\beta_i x_{i}}}}{\\frac{1}{1+e^{\\sum \\beta_i x_{i}}}} = e^{\\sum \\beta_i x_{i}}$$$$ln(\\frac{P(y=1|X=x)}{P(y=0|X=x)}) = ln(e^{\\sum \\beta_i x_{i}}) = \\sum \\beta_i x_{i}$$$$ln(\\frac{P(y=1|X=x)}{P(y=0|X=x)}) = \\sum \\beta_i x_{i}$$$$ln(\\frac{P(y=1|X=x)}{P(y=0|X=x)}) = \\beta_0 + \\beta_1 x_{1} + ... + \\beta_p x_{p}$$\n"
   ]
  },
  {
   "cell_type": "markdown",
   "metadata": {},
   "source": [
    "## Implementación en Python"
   ]
  },
  {
   "cell_type": "code",
   "execution_count": 1,
   "metadata": {},
   "outputs": [],
   "source": [
    "url='https://raw.githubusercontent.com/madcentral/metodosestadisticos/master/bases/usuarios_win_mac_lin.csv'"
   ]
  },
  {
   "cell_type": "code",
   "execution_count": 2,
   "metadata": {},
   "outputs": [],
   "source": [
    "import pandas as pd "
   ]
  },
  {
   "cell_type": "markdown",
   "metadata": {},
   "source": [
    "Esta es una base de datos que contiene información acerca de usuarios de sistemas operativos. Las clases estan dadas por:\n",
    "\n",
    "0- Windows\n",
    "1- Mac\n",
    "2- Linux"
   ]
  },
  {
   "cell_type": "code",
   "execution_count": 3,
   "metadata": {},
   "outputs": [
    {
     "data": {
      "text/html": [
       "<div>\n",
       "<style scoped>\n",
       "    .dataframe tbody tr th:only-of-type {\n",
       "        vertical-align: middle;\n",
       "    }\n",
       "\n",
       "    .dataframe tbody tr th {\n",
       "        vertical-align: top;\n",
       "    }\n",
       "\n",
       "    .dataframe thead th {\n",
       "        text-align: right;\n",
       "    }\n",
       "</style>\n",
       "<table border=\"1\" class=\"dataframe\">\n",
       "  <thead>\n",
       "    <tr style=\"text-align: right;\">\n",
       "      <th></th>\n",
       "      <th>duracion</th>\n",
       "      <th>paginas</th>\n",
       "      <th>acciones</th>\n",
       "      <th>valor</th>\n",
       "      <th>clase</th>\n",
       "    </tr>\n",
       "  </thead>\n",
       "  <tbody>\n",
       "    <tr>\n",
       "      <th>0</th>\n",
       "      <td>7.0</td>\n",
       "      <td>2</td>\n",
       "      <td>4</td>\n",
       "      <td>8</td>\n",
       "      <td>2</td>\n",
       "    </tr>\n",
       "    <tr>\n",
       "      <th>1</th>\n",
       "      <td>21.0</td>\n",
       "      <td>2</td>\n",
       "      <td>6</td>\n",
       "      <td>6</td>\n",
       "      <td>2</td>\n",
       "    </tr>\n",
       "    <tr>\n",
       "      <th>2</th>\n",
       "      <td>57.0</td>\n",
       "      <td>2</td>\n",
       "      <td>4</td>\n",
       "      <td>4</td>\n",
       "      <td>2</td>\n",
       "    </tr>\n",
       "    <tr>\n",
       "      <th>3</th>\n",
       "      <td>101.0</td>\n",
       "      <td>3</td>\n",
       "      <td>6</td>\n",
       "      <td>12</td>\n",
       "      <td>2</td>\n",
       "    </tr>\n",
       "    <tr>\n",
       "      <th>4</th>\n",
       "      <td>109.0</td>\n",
       "      <td>2</td>\n",
       "      <td>6</td>\n",
       "      <td>12</td>\n",
       "      <td>2</td>\n",
       "    </tr>\n",
       "    <tr>\n",
       "      <th>...</th>\n",
       "      <td>...</td>\n",
       "      <td>...</td>\n",
       "      <td>...</td>\n",
       "      <td>...</td>\n",
       "      <td>...</td>\n",
       "    </tr>\n",
       "    <tr>\n",
       "      <th>165</th>\n",
       "      <td>13.0</td>\n",
       "      <td>1</td>\n",
       "      <td>7</td>\n",
       "      <td>42</td>\n",
       "      <td>0</td>\n",
       "    </tr>\n",
       "    <tr>\n",
       "      <th>166</th>\n",
       "      <td>12.0</td>\n",
       "      <td>1</td>\n",
       "      <td>2</td>\n",
       "      <td>6</td>\n",
       "      <td>0</td>\n",
       "    </tr>\n",
       "    <tr>\n",
       "      <th>167</th>\n",
       "      <td>13.0</td>\n",
       "      <td>1</td>\n",
       "      <td>3</td>\n",
       "      <td>9</td>\n",
       "      <td>0</td>\n",
       "    </tr>\n",
       "    <tr>\n",
       "      <th>168</th>\n",
       "      <td>13.0</td>\n",
       "      <td>1</td>\n",
       "      <td>7</td>\n",
       "      <td>28</td>\n",
       "      <td>0</td>\n",
       "    </tr>\n",
       "    <tr>\n",
       "      <th>169</th>\n",
       "      <td>12.0</td>\n",
       "      <td>1</td>\n",
       "      <td>6</td>\n",
       "      <td>18</td>\n",
       "      <td>0</td>\n",
       "    </tr>\n",
       "  </tbody>\n",
       "</table>\n",
       "<p>170 rows × 5 columns</p>\n",
       "</div>"
      ],
      "text/plain": [
       "     duracion  paginas  acciones  valor  clase\n",
       "0         7.0        2         4      8      2\n",
       "1        21.0        2         6      6      2\n",
       "2        57.0        2         4      4      2\n",
       "3       101.0        3         6     12      2\n",
       "4       109.0        2         6     12      2\n",
       "..        ...      ...       ...    ...    ...\n",
       "165      13.0        1         7     42      0\n",
       "166      12.0        1         2      6      0\n",
       "167      13.0        1         3      9      0\n",
       "168      13.0        1         7     28      0\n",
       "169      12.0        1         6     18      0\n",
       "\n",
       "[170 rows x 5 columns]"
      ]
     },
     "execution_count": 3,
     "metadata": {},
     "output_type": "execute_result"
    }
   ],
   "source": [
    "SOdataframe=pd.read_csv(url)\n",
    "SOdataframe"
   ]
  },
  {
   "cell_type": "code",
   "execution_count": 4,
   "metadata": {},
   "outputs": [],
   "source": [
    "import pandas_profiling as ppd"
   ]
  },
  {
   "cell_type": "code",
   "execution_count": 5,
   "metadata": {
    "scrolled": true
   },
   "outputs": [
    {
     "data": {
      "application/vnd.jupyter.widget-view+json": {
       "model_id": "23a344a77aec432787736523417f0c96",
       "version_major": 2,
       "version_minor": 0
      },
      "text/plain": [
       "Summarize dataset:   0%|          | 0/13 [00:00<?, ?it/s]"
      ]
     },
     "metadata": {},
     "output_type": "display_data"
    },
    {
     "data": {
      "application/vnd.jupyter.widget-view+json": {
       "model_id": "e558e41d64c0493a8820ade4faa1ff25",
       "version_major": 2,
       "version_minor": 0
      },
      "text/plain": [
       "Generate report structure:   0%|          | 0/1 [00:00<?, ?it/s]"
      ]
     },
     "metadata": {},
     "output_type": "display_data"
    },
    {
     "data": {
      "application/vnd.jupyter.widget-view+json": {
       "model_id": "e3f4cf81a78f493c881da27d8630c52b",
       "version_major": 2,
       "version_minor": 0
      },
      "text/plain": [
       "Render HTML:   0%|          | 0/1 [00:00<?, ?it/s]"
      ]
     },
     "metadata": {},
     "output_type": "display_data"
    },
    {
     "data": {
      "application/vnd.jupyter.widget-view+json": {
       "model_id": "47771f58581d41e79c2b9643ceb49375",
       "version_major": 2,
       "version_minor": 0
      },
      "text/plain": [
       "Export report to file:   0%|          | 0/1 [00:00<?, ?it/s]"
      ]
     },
     "metadata": {},
     "output_type": "display_data"
    }
   ],
   "source": [
    "reportSO=ppd.ProfileReport(SOdataframe,\"Resumen SO\",explorative=True)\n",
    "reportSO.to_file('report.html')"
   ]
  },
  {
   "cell_type": "markdown",
   "metadata": {},
   "source": [
    "Estadísticos de validación del modelo:"
   ]
  },
  {
   "cell_type": "code",
   "execution_count": 6,
   "metadata": {},
   "outputs": [],
   "source": [
    "from sklearn.metrics import classification_report\n",
    "from sklearn.metrics import confusion_matrix\n",
    "from sklearn.metrics import  accuracy_score\n",
    "from sklearn.metrics import  roc_auc_score\n",
    "from sklearn.metrics import roc_curve\n",
    "from sklearn.metrics import RocCurveDisplay\n",
    "from sklearn.metrics import auc"
   ]
  },
  {
   "cell_type": "markdown",
   "metadata": {},
   "source": [
    "Paquetes de soporte y visualización:"
   ]
  },
  {
   "cell_type": "code",
   "execution_count": 7,
   "metadata": {},
   "outputs": [],
   "source": [
    "import matplotlib.pyplot as plt\n",
    "import numpy as np\n",
    "import seaborn as sns \n",
    "%matplotlib inline"
   ]
  },
  {
   "cell_type": "markdown",
   "metadata": {},
   "source": [
    "Modulos para generar el modelo:"
   ]
  },
  {
   "cell_type": "code",
   "execution_count": 8,
   "metadata": {},
   "outputs": [],
   "source": [
    "from sklearn import linear_model\n",
    "from sklearn import model_selection"
   ]
  },
  {
   "cell_type": "code",
   "execution_count": 9,
   "metadata": {},
   "outputs": [
    {
     "data": {
      "text/html": [
       "<div>\n",
       "<style scoped>\n",
       "    .dataframe tbody tr th:only-of-type {\n",
       "        vertical-align: middle;\n",
       "    }\n",
       "\n",
       "    .dataframe tbody tr th {\n",
       "        vertical-align: top;\n",
       "    }\n",
       "\n",
       "    .dataframe thead th {\n",
       "        text-align: right;\n",
       "    }\n",
       "</style>\n",
       "<table border=\"1\" class=\"dataframe\">\n",
       "  <thead>\n",
       "    <tr style=\"text-align: right;\">\n",
       "      <th></th>\n",
       "      <th>duracion</th>\n",
       "      <th>paginas</th>\n",
       "      <th>acciones</th>\n",
       "      <th>valor</th>\n",
       "      <th>clase</th>\n",
       "    </tr>\n",
       "  </thead>\n",
       "  <tbody>\n",
       "    <tr>\n",
       "      <th>count</th>\n",
       "      <td>170.000000</td>\n",
       "      <td>170.000000</td>\n",
       "      <td>170.000000</td>\n",
       "      <td>170.000000</td>\n",
       "      <td>170.000000</td>\n",
       "    </tr>\n",
       "    <tr>\n",
       "      <th>mean</th>\n",
       "      <td>111.075729</td>\n",
       "      <td>2.041176</td>\n",
       "      <td>8.723529</td>\n",
       "      <td>32.676471</td>\n",
       "      <td>0.752941</td>\n",
       "    </tr>\n",
       "    <tr>\n",
       "      <th>std</th>\n",
       "      <td>202.453200</td>\n",
       "      <td>1.500911</td>\n",
       "      <td>9.136054</td>\n",
       "      <td>44.751993</td>\n",
       "      <td>0.841327</td>\n",
       "    </tr>\n",
       "    <tr>\n",
       "      <th>min</th>\n",
       "      <td>1.000000</td>\n",
       "      <td>1.000000</td>\n",
       "      <td>1.000000</td>\n",
       "      <td>1.000000</td>\n",
       "      <td>0.000000</td>\n",
       "    </tr>\n",
       "    <tr>\n",
       "      <th>25%</th>\n",
       "      <td>11.000000</td>\n",
       "      <td>1.000000</td>\n",
       "      <td>3.000000</td>\n",
       "      <td>8.000000</td>\n",
       "      <td>0.000000</td>\n",
       "    </tr>\n",
       "    <tr>\n",
       "      <th>50%</th>\n",
       "      <td>13.000000</td>\n",
       "      <td>2.000000</td>\n",
       "      <td>6.000000</td>\n",
       "      <td>20.000000</td>\n",
       "      <td>0.000000</td>\n",
       "    </tr>\n",
       "    <tr>\n",
       "      <th>75%</th>\n",
       "      <td>108.000000</td>\n",
       "      <td>2.000000</td>\n",
       "      <td>10.000000</td>\n",
       "      <td>36.000000</td>\n",
       "      <td>2.000000</td>\n",
       "    </tr>\n",
       "    <tr>\n",
       "      <th>max</th>\n",
       "      <td>898.000000</td>\n",
       "      <td>9.000000</td>\n",
       "      <td>63.000000</td>\n",
       "      <td>378.000000</td>\n",
       "      <td>2.000000</td>\n",
       "    </tr>\n",
       "  </tbody>\n",
       "</table>\n",
       "</div>"
      ],
      "text/plain": [
       "         duracion     paginas    acciones       valor       clase\n",
       "count  170.000000  170.000000  170.000000  170.000000  170.000000\n",
       "mean   111.075729    2.041176    8.723529   32.676471    0.752941\n",
       "std    202.453200    1.500911    9.136054   44.751993    0.841327\n",
       "min      1.000000    1.000000    1.000000    1.000000    0.000000\n",
       "25%     11.000000    1.000000    3.000000    8.000000    0.000000\n",
       "50%     13.000000    2.000000    6.000000   20.000000    0.000000\n",
       "75%    108.000000    2.000000   10.000000   36.000000    2.000000\n",
       "max    898.000000    9.000000   63.000000  378.000000    2.000000"
      ]
     },
     "execution_count": 9,
     "metadata": {},
     "output_type": "execute_result"
    }
   ],
   "source": [
    "SOdataframe.describe()"
   ]
  },
  {
   "cell_type": "code",
   "execution_count": 10,
   "metadata": {},
   "outputs": [
    {
     "data": {
      "text/plain": [
       "clase\n",
       "0    86\n",
       "1    40\n",
       "2    44\n",
       "dtype: int64"
      ]
     },
     "execution_count": 10,
     "metadata": {},
     "output_type": "execute_result"
    }
   ],
   "source": [
    "SOdataframe.groupby('clase').size()"
   ]
  },
  {
   "cell_type": "code",
   "execution_count": 11,
   "metadata": {},
   "outputs": [
    {
     "data": {
      "text/plain": [
       "<seaborn.axisgrid.PairGrid at 0x7f68f4679e10>"
      ]
     },
     "execution_count": 11,
     "metadata": {},
     "output_type": "execute_result"
    },
    {
     "data": {
      "image/png": "[encoded data removed]",
      "text/plain": [
       "<Figure size 762.375x720 with 20 Axes>"
      ]
     },
     "metadata": {
      "needs_background": "light"
     },
     "output_type": "display_data"
    }
   ],
   "source": [
    "sns.pairplot(SOdataframe.dropna(),hue='clase',vars=['duracion','paginas','acciones','valor'])"
   ]
  },
  {
   "cell_type": "code",
   "execution_count": 10,
   "metadata": {},
   "outputs": [],
   "source": [
    "from sklearn.decomposition import PCA"
   ]
  },
  {
   "cell_type": "code",
   "execution_count": 12,
   "metadata": {},
   "outputs": [],
   "source": [
    "pca=PCA(n_components=2)\n",
    "X=SOdataframe[['duracion','paginas','acciones','valor']]\n",
    "pca.fit_transform(X);"
   ]
  },
  {
   "cell_type": "code",
   "execution_count": 13,
   "metadata": {},
   "outputs": [
    {
     "data": {
      "text/html": [
       "<div>\n",
       "<style scoped>\n",
       "    .dataframe tbody tr th:only-of-type {\n",
       "        vertical-align: middle;\n",
       "    }\n",
       "\n",
       "    .dataframe tbody tr th {\n",
       "        vertical-align: top;\n",
       "    }\n",
       "\n",
       "    .dataframe thead th {\n",
       "        text-align: right;\n",
       "    }\n",
       "</style>\n",
       "<table border=\"1\" class=\"dataframe\">\n",
       "  <thead>\n",
       "    <tr style=\"text-align: right;\">\n",
       "      <th></th>\n",
       "      <th>duracion</th>\n",
       "      <th>paginas</th>\n",
       "      <th>acciones</th>\n",
       "      <th>valor</th>\n",
       "      <th>clase</th>\n",
       "      <th>Comp1</th>\n",
       "      <th>Comp2</th>\n",
       "    </tr>\n",
       "  </thead>\n",
       "  <tbody>\n",
       "    <tr>\n",
       "      <th>0</th>\n",
       "      <td>7.0</td>\n",
       "      <td>2</td>\n",
       "      <td>4</td>\n",
       "      <td>8</td>\n",
       "      <td>2</td>\n",
       "      <td>-104.607418</td>\n",
       "      <td>-22.801758</td>\n",
       "    </tr>\n",
       "    <tr>\n",
       "      <th>1</th>\n",
       "      <td>21.0</td>\n",
       "      <td>2</td>\n",
       "      <td>6</td>\n",
       "      <td>6</td>\n",
       "      <td>2</td>\n",
       "      <td>-90.638232</td>\n",
       "      <td>-24.734186</td>\n",
       "    </tr>\n",
       "    <tr>\n",
       "      <th>2</th>\n",
       "      <td>57.0</td>\n",
       "      <td>2</td>\n",
       "      <td>4</td>\n",
       "      <td>4</td>\n",
       "      <td>2</td>\n",
       "      <td>-54.704850</td>\n",
       "      <td>-27.849191</td>\n",
       "    </tr>\n",
       "    <tr>\n",
       "      <th>3</th>\n",
       "      <td>101.0</td>\n",
       "      <td>3</td>\n",
       "      <td>6</td>\n",
       "      <td>12</td>\n",
       "      <td>2</td>\n",
       "      <td>-10.529505</td>\n",
       "      <td>-20.584792</td>\n",
       "    </tr>\n",
       "    <tr>\n",
       "      <th>4</th>\n",
       "      <td>109.0</td>\n",
       "      <td>2</td>\n",
       "      <td>6</td>\n",
       "      <td>12</td>\n",
       "      <td>2</td>\n",
       "      <td>-2.533621</td>\n",
       "      <td>-20.781177</td>\n",
       "    </tr>\n",
       "    <tr>\n",
       "      <th>...</th>\n",
       "      <td>...</td>\n",
       "      <td>...</td>\n",
       "      <td>...</td>\n",
       "      <td>...</td>\n",
       "      <td>...</td>\n",
       "      <td>...</td>\n",
       "      <td>...</td>\n",
       "    </tr>\n",
       "    <tr>\n",
       "      <th>165</th>\n",
       "      <td>13.0</td>\n",
       "      <td>1</td>\n",
       "      <td>7</td>\n",
       "      <td>42</td>\n",
       "      <td>0</td>\n",
       "      <td>-97.868509</td>\n",
       "      <td>11.036308</td>\n",
       "    </tr>\n",
       "    <tr>\n",
       "      <th>166</th>\n",
       "      <td>12.0</td>\n",
       "      <td>1</td>\n",
       "      <td>2</td>\n",
       "      <td>6</td>\n",
       "      <td>0</td>\n",
       "      <td>-99.668215</td>\n",
       "      <td>-25.247459</td>\n",
       "    </tr>\n",
       "    <tr>\n",
       "      <th>167</th>\n",
       "      <td>13.0</td>\n",
       "      <td>1</td>\n",
       "      <td>3</td>\n",
       "      <td>9</td>\n",
       "      <td>0</td>\n",
       "      <td>-98.597403</td>\n",
       "      <td>-22.142916</td>\n",
       "    </tr>\n",
       "    <tr>\n",
       "      <th>168</th>\n",
       "      <td>13.0</td>\n",
       "      <td>1</td>\n",
       "      <td>7</td>\n",
       "      <td>28</td>\n",
       "      <td>0</td>\n",
       "      <td>-98.164926</td>\n",
       "      <td>-2.745200</td>\n",
       "    </tr>\n",
       "    <tr>\n",
       "      <th>169</th>\n",
       "      <td>12.0</td>\n",
       "      <td>1</td>\n",
       "      <td>6</td>\n",
       "      <td>18</td>\n",
       "      <td>0</td>\n",
       "      <td>-99.383946</td>\n",
       "      <td>-12.740497</td>\n",
       "    </tr>\n",
       "  </tbody>\n",
       "</table>\n",
       "<p>170 rows × 7 columns</p>\n",
       "</div>"
      ],
      "text/plain": [
       "     duracion  paginas  acciones  valor  clase       Comp1      Comp2\n",
       "0         7.0        2         4      8      2 -104.607418 -22.801758\n",
       "1        21.0        2         6      6      2  -90.638232 -24.734186\n",
       "2        57.0        2         4      4      2  -54.704850 -27.849191\n",
       "3       101.0        3         6     12      2  -10.529505 -20.584792\n",
       "4       109.0        2         6     12      2   -2.533621 -20.781177\n",
       "..        ...      ...       ...    ...    ...         ...        ...\n",
       "165      13.0        1         7     42      0  -97.868509  11.036308\n",
       "166      12.0        1         2      6      0  -99.668215 -25.247459\n",
       "167      13.0        1         3      9      0  -98.597403 -22.142916\n",
       "168      13.0        1         7     28      0  -98.164926  -2.745200\n",
       "169      12.0        1         6     18      0  -99.383946 -12.740497\n",
       "\n",
       "[170 rows x 7 columns]"
      ]
     },
     "execution_count": 13,
     "metadata": {},
     "output_type": "execute_result"
    }
   ],
   "source": [
    "otrabase=SOdataframe\n",
    "otrabase['Comp1']=pca.fit_transform(X).T[0]\n",
    "otrabase['Comp2']=pca.fit_transform(X).T[1]\n",
    "otrabase"
   ]
  },
  {
   "cell_type": "code",
   "execution_count": 14,
   "metadata": {},
   "outputs": [
    {
     "data": {
      "text/plain": [
       "<AxesSubplot:xlabel='Comp1', ylabel='Comp2'>"
      ]
     },
     "execution_count": 14,
     "metadata": {},
     "output_type": "execute_result"
    },
    {
     "data": {
      "image/png": "[encoded data removed]",
      "text/plain": [
       "<Figure size 432x288 with 1 Axes>"
      ]
     },
     "metadata": {
      "needs_background": "light"
     },
     "output_type": "display_data"
    }
   ],
   "source": [
    "sns.scatterplot(data=otrabase,x='Comp1',y='Comp2',hue='clase')"
   ]
  },
  {
   "cell_type": "code",
   "execution_count": 15,
   "metadata": {},
   "outputs": [
    {
     "data": {
      "text/plain": [
       "array([0.95197826, 0.04752402])"
      ]
     },
     "execution_count": 15,
     "metadata": {},
     "output_type": "execute_result"
    }
   ],
   "source": [
    "pca.explained_variance_ratio_"
   ]
  },
  {
   "cell_type": "code",
   "execution_count": 16,
   "metadata": {},
   "outputs": [],
   "source": [
    "SOdataframe['prim_comp']=pca.fit_transform(X).T[0]\n",
    "SOdataframe['seg_comp']=pca.fit_transform(X).T[1]"
   ]
  },
  {
   "cell_type": "code",
   "execution_count": 17,
   "metadata": {},
   "outputs": [
    {
     "data": {
      "text/plain": [
       "<AxesSubplot:xlabel='prim_comp', ylabel='seg_comp'>"
      ]
     },
     "execution_count": 17,
     "metadata": {},
     "output_type": "execute_result"
    },
    {
     "data": {
      "image/png": "[encoded data removed]",
      "text/plain": [
       "<Figure size 432x288 with 1 Axes>"
      ]
     },
     "metadata": {
      "needs_background": "light"
     },
     "output_type": "display_data"
    }
   ],
   "source": [
    "sns.scatterplot(data=SOdataframe,x='prim_comp',y='seg_comp',hue='clase')"
   ]
  },
  {
   "cell_type": "code",
   "execution_count": 18,
   "metadata": {},
   "outputs": [],
   "source": [
    "X=SOdataframe[['duracion','paginas','acciones','valor']]\n",
    "y=SOdataframe['clase']"
   ]
  },
  {
   "cell_type": "code",
   "execution_count": 19,
   "metadata": {},
   "outputs": [
    {
     "data": {
      "text/html": [
       "<div>\n",
       "<style scoped>\n",
       "    .dataframe tbody tr th:only-of-type {\n",
       "        vertical-align: middle;\n",
       "    }\n",
       "\n",
       "    .dataframe tbody tr th {\n",
       "        vertical-align: top;\n",
       "    }\n",
       "\n",
       "    .dataframe thead th {\n",
       "        text-align: right;\n",
       "    }\n",
       "</style>\n",
       "<table border=\"1\" class=\"dataframe\">\n",
       "  <thead>\n",
       "    <tr style=\"text-align: right;\">\n",
       "      <th></th>\n",
       "      <th>duracion</th>\n",
       "      <th>paginas</th>\n",
       "      <th>acciones</th>\n",
       "      <th>valor</th>\n",
       "    </tr>\n",
       "  </thead>\n",
       "  <tbody>\n",
       "    <tr>\n",
       "      <th>0</th>\n",
       "      <td>7.0</td>\n",
       "      <td>2</td>\n",
       "      <td>4</td>\n",
       "      <td>8</td>\n",
       "    </tr>\n",
       "    <tr>\n",
       "      <th>1</th>\n",
       "      <td>21.0</td>\n",
       "      <td>2</td>\n",
       "      <td>6</td>\n",
       "      <td>6</td>\n",
       "    </tr>\n",
       "    <tr>\n",
       "      <th>2</th>\n",
       "      <td>57.0</td>\n",
       "      <td>2</td>\n",
       "      <td>4</td>\n",
       "      <td>4</td>\n",
       "    </tr>\n",
       "    <tr>\n",
       "      <th>3</th>\n",
       "      <td>101.0</td>\n",
       "      <td>3</td>\n",
       "      <td>6</td>\n",
       "      <td>12</td>\n",
       "    </tr>\n",
       "    <tr>\n",
       "      <th>4</th>\n",
       "      <td>109.0</td>\n",
       "      <td>2</td>\n",
       "      <td>6</td>\n",
       "      <td>12</td>\n",
       "    </tr>\n",
       "    <tr>\n",
       "      <th>...</th>\n",
       "      <td>...</td>\n",
       "      <td>...</td>\n",
       "      <td>...</td>\n",
       "      <td>...</td>\n",
       "    </tr>\n",
       "    <tr>\n",
       "      <th>165</th>\n",
       "      <td>13.0</td>\n",
       "      <td>1</td>\n",
       "      <td>7</td>\n",
       "      <td>42</td>\n",
       "    </tr>\n",
       "    <tr>\n",
       "      <th>166</th>\n",
       "      <td>12.0</td>\n",
       "      <td>1</td>\n",
       "      <td>2</td>\n",
       "      <td>6</td>\n",
       "    </tr>\n",
       "    <tr>\n",
       "      <th>167</th>\n",
       "      <td>13.0</td>\n",
       "      <td>1</td>\n",
       "      <td>3</td>\n",
       "      <td>9</td>\n",
       "    </tr>\n",
       "    <tr>\n",
       "      <th>168</th>\n",
       "      <td>13.0</td>\n",
       "      <td>1</td>\n",
       "      <td>7</td>\n",
       "      <td>28</td>\n",
       "    </tr>\n",
       "    <tr>\n",
       "      <th>169</th>\n",
       "      <td>12.0</td>\n",
       "      <td>1</td>\n",
       "      <td>6</td>\n",
       "      <td>18</td>\n",
       "    </tr>\n",
       "  </tbody>\n",
       "</table>\n",
       "<p>170 rows × 4 columns</p>\n",
       "</div>"
      ],
      "text/plain": [
       "     duracion  paginas  acciones  valor\n",
       "0         7.0        2         4      8\n",
       "1        21.0        2         6      6\n",
       "2        57.0        2         4      4\n",
       "3       101.0        3         6     12\n",
       "4       109.0        2         6     12\n",
       "..        ...      ...       ...    ...\n",
       "165      13.0        1         7     42\n",
       "166      12.0        1         2      6\n",
       "167      13.0        1         3      9\n",
       "168      13.0        1         7     28\n",
       "169      12.0        1         6     18\n",
       "\n",
       "[170 rows x 4 columns]"
      ]
     },
     "execution_count": 19,
     "metadata": {},
     "output_type": "execute_result"
    }
   ],
   "source": [
    "X"
   ]
  },
  {
   "cell_type": "code",
   "execution_count": 24,
   "metadata": {},
   "outputs": [
    {
     "data": {
      "text/plain": [
       "0      2\n",
       "1      2\n",
       "2      2\n",
       "3      2\n",
       "4      2\n",
       "      ..\n",
       "165    0\n",
       "166    0\n",
       "167    0\n",
       "168    0\n",
       "169    0\n",
       "Name: clase, Length: 170, dtype: int64"
      ]
     },
     "execution_count": 24,
     "metadata": {},
     "output_type": "execute_result"
    }
   ],
   "source": [
    "y"
   ]
  },
  {
   "cell_type": "code",
   "execution_count": 20,
   "metadata": {},
   "outputs": [],
   "source": [
    "X_entreno,X_testeo,Y_entreno,Y_testeo= model_selection.train_test_split(X,y,test_size=0.2,random_state=29)"
   ]
  },
  {
   "cell_type": "code",
   "execution_count": 21,
   "metadata": {},
   "outputs": [
    {
     "data": {
      "text/html": [
       "<div>\n",
       "<style scoped>\n",
       "    .dataframe tbody tr th:only-of-type {\n",
       "        vertical-align: middle;\n",
       "    }\n",
       "\n",
       "    .dataframe tbody tr th {\n",
       "        vertical-align: top;\n",
       "    }\n",
       "\n",
       "    .dataframe thead th {\n",
       "        text-align: right;\n",
       "    }\n",
       "</style>\n",
       "<table border=\"1\" class=\"dataframe\">\n",
       "  <thead>\n",
       "    <tr style=\"text-align: right;\">\n",
       "      <th></th>\n",
       "      <th>duracion</th>\n",
       "      <th>paginas</th>\n",
       "      <th>acciones</th>\n",
       "      <th>valor</th>\n",
       "    </tr>\n",
       "  </thead>\n",
       "  <tbody>\n",
       "    <tr>\n",
       "      <th>125</th>\n",
       "      <td>11.0</td>\n",
       "      <td>1</td>\n",
       "      <td>2</td>\n",
       "      <td>4</td>\n",
       "    </tr>\n",
       "    <tr>\n",
       "      <th>120</th>\n",
       "      <td>11.0</td>\n",
       "      <td>1</td>\n",
       "      <td>3</td>\n",
       "      <td>6</td>\n",
       "    </tr>\n",
       "    <tr>\n",
       "      <th>140</th>\n",
       "      <td>11.0</td>\n",
       "      <td>1</td>\n",
       "      <td>2</td>\n",
       "      <td>10</td>\n",
       "    </tr>\n",
       "    <tr>\n",
       "      <th>68</th>\n",
       "      <td>230.0</td>\n",
       "      <td>2</td>\n",
       "      <td>12</td>\n",
       "      <td>60</td>\n",
       "    </tr>\n",
       "    <tr>\n",
       "      <th>135</th>\n",
       "      <td>12.0</td>\n",
       "      <td>1</td>\n",
       "      <td>10</td>\n",
       "      <td>20</td>\n",
       "    </tr>\n",
       "    <tr>\n",
       "      <th>...</th>\n",
       "      <td>...</td>\n",
       "      <td>...</td>\n",
       "      <td>...</td>\n",
       "      <td>...</td>\n",
       "    </tr>\n",
       "    <tr>\n",
       "      <th>105</th>\n",
       "      <td>13.0</td>\n",
       "      <td>1</td>\n",
       "      <td>3</td>\n",
       "      <td>18</td>\n",
       "    </tr>\n",
       "    <tr>\n",
       "      <th>96</th>\n",
       "      <td>13.0</td>\n",
       "      <td>1</td>\n",
       "      <td>2</td>\n",
       "      <td>16</td>\n",
       "    </tr>\n",
       "    <tr>\n",
       "      <th>40</th>\n",
       "      <td>11.0</td>\n",
       "      <td>2</td>\n",
       "      <td>10</td>\n",
       "      <td>40</td>\n",
       "    </tr>\n",
       "    <tr>\n",
       "      <th>34</th>\n",
       "      <td>848.0</td>\n",
       "      <td>3</td>\n",
       "      <td>18</td>\n",
       "      <td>54</td>\n",
       "    </tr>\n",
       "    <tr>\n",
       "      <th>115</th>\n",
       "      <td>12.0</td>\n",
       "      <td>1</td>\n",
       "      <td>3</td>\n",
       "      <td>6</td>\n",
       "    </tr>\n",
       "  </tbody>\n",
       "</table>\n",
       "<p>136 rows × 4 columns</p>\n",
       "</div>"
      ],
      "text/plain": [
       "     duracion  paginas  acciones  valor\n",
       "125      11.0        1         2      4\n",
       "120      11.0        1         3      6\n",
       "140      11.0        1         2     10\n",
       "68      230.0        2        12     60\n",
       "135      12.0        1        10     20\n",
       "..        ...      ...       ...    ...\n",
       "105      13.0        1         3     18\n",
       "96       13.0        1         2     16\n",
       "40       11.0        2        10     40\n",
       "34      848.0        3        18     54\n",
       "115      12.0        1         3      6\n",
       "\n",
       "[136 rows x 4 columns]"
      ]
     },
     "execution_count": 21,
     "metadata": {},
     "output_type": "execute_result"
    }
   ],
   "source": [
    "X_entreno"
   ]
  },
  {
   "cell_type": "code",
   "execution_count": 24,
   "metadata": {},
   "outputs": [
    {
     "data": {
      "text/plain": [
       "(34, 4)"
      ]
     },
     "execution_count": 24,
     "metadata": {},
     "output_type": "execute_result"
    }
   ],
   "source": [
    "X_testeo.shape"
   ]
  },
  {
   "cell_type": "code",
   "execution_count": 25,
   "metadata": {},
   "outputs": [],
   "source": [
    "miprimeralogistica=linear_model.LogisticRegression(max_iter=100,solver='liblinear',random_state=29)"
   ]
  },
  {
   "cell_type": "code",
   "execution_count": 26,
   "metadata": {},
   "outputs": [
    {
     "data": {
      "text/plain": [
       "LogisticRegression(random_state=29, solver='liblinear')"
      ]
     },
     "execution_count": 26,
     "metadata": {},
     "output_type": "execute_result"
    }
   ],
   "source": [
    "miprimeralogistica.fit(X_entreno,Y_entreno)"
   ]
  },
  {
   "cell_type": "code",
   "execution_count": 27,
   "metadata": {},
   "outputs": [
    {
     "data": {
      "text/plain": [
       "array([2, 2, 0, 0, 0, 0, 1, 1, 0, 1, 2, 1, 2, 0, 1, 2, 0, 2, 0, 1, 2, 0,\n",
       "       2, 0, 0, 0, 2, 1, 0, 0, 2, 2, 2, 0, 0, 2, 2, 1, 0, 0, 0, 1, 0, 0,\n",
       "       0, 0, 0, 0, 0, 0, 2, 0, 0, 0, 0, 0, 0, 1, 0, 2, 2, 2, 2, 0, 1, 2,\n",
       "       1, 0, 2, 0, 1, 0, 0, 2, 0, 2, 0, 1, 0, 1, 0, 2, 0, 2, 2, 0, 0, 0,\n",
       "       0, 2, 2, 1, 0, 2, 0, 2, 0, 1, 0, 0, 0, 2, 0, 0, 2, 0, 0, 0, 1, 1,\n",
       "       2, 1, 0, 2, 2, 0, 2, 0, 0, 2, 0, 0, 2, 0, 1, 2, 0, 0, 2, 0, 2, 0,\n",
       "       1, 0, 0, 2])"
      ]
     },
     "execution_count": 27,
     "metadata": {},
     "output_type": "execute_result"
    }
   ],
   "source": [
    "miprimeralogistica.predict(X_entreno)"
   ]
  },
  {
   "cell_type": "code",
   "execution_count": 32,
   "metadata": {},
   "outputs": [
    {
     "data": {
      "text/html": [
       "<div>\n",
       "<style scoped>\n",
       "    .dataframe tbody tr th:only-of-type {\n",
       "        vertical-align: middle;\n",
       "    }\n",
       "\n",
       "    .dataframe tbody tr th {\n",
       "        vertical-align: top;\n",
       "    }\n",
       "\n",
       "    .dataframe thead th {\n",
       "        text-align: right;\n",
       "    }\n",
       "</style>\n",
       "<table border=\"1\" class=\"dataframe\">\n",
       "  <thead>\n",
       "    <tr style=\"text-align: right;\">\n",
       "      <th></th>\n",
       "      <th>125</th>\n",
       "      <th>120</th>\n",
       "      <th>140</th>\n",
       "      <th>68</th>\n",
       "      <th>135</th>\n",
       "      <th>154</th>\n",
       "      <th>30</th>\n",
       "      <th>73</th>\n",
       "      <th>143</th>\n",
       "      <th>87</th>\n",
       "      <th>...</th>\n",
       "      <th>161</th>\n",
       "      <th>94</th>\n",
       "      <th>97</th>\n",
       "      <th>152</th>\n",
       "      <th>113</th>\n",
       "      <th>105</th>\n",
       "      <th>96</th>\n",
       "      <th>40</th>\n",
       "      <th>34</th>\n",
       "      <th>115</th>\n",
       "    </tr>\n",
       "  </thead>\n",
       "  <tbody>\n",
       "    <tr>\n",
       "      <th>0</th>\n",
       "      <td>2</td>\n",
       "      <td>2</td>\n",
       "      <td>0</td>\n",
       "      <td>0</td>\n",
       "      <td>0</td>\n",
       "      <td>0</td>\n",
       "      <td>1</td>\n",
       "      <td>0</td>\n",
       "      <td>0</td>\n",
       "      <td>0</td>\n",
       "      <td>...</td>\n",
       "      <td>0</td>\n",
       "      <td>0</td>\n",
       "      <td>2</td>\n",
       "      <td>0</td>\n",
       "      <td>2</td>\n",
       "      <td>1</td>\n",
       "      <td>1</td>\n",
       "      <td>1</td>\n",
       "      <td>1</td>\n",
       "      <td>2</td>\n",
       "    </tr>\n",
       "    <tr>\n",
       "      <th>1</th>\n",
       "      <td>2</td>\n",
       "      <td>2</td>\n",
       "      <td>0</td>\n",
       "      <td>0</td>\n",
       "      <td>0</td>\n",
       "      <td>0</td>\n",
       "      <td>1</td>\n",
       "      <td>1</td>\n",
       "      <td>0</td>\n",
       "      <td>1</td>\n",
       "      <td>...</td>\n",
       "      <td>0</td>\n",
       "      <td>0</td>\n",
       "      <td>2</td>\n",
       "      <td>0</td>\n",
       "      <td>2</td>\n",
       "      <td>0</td>\n",
       "      <td>1</td>\n",
       "      <td>0</td>\n",
       "      <td>0</td>\n",
       "      <td>2</td>\n",
       "    </tr>\n",
       "  </tbody>\n",
       "</table>\n",
       "<p>2 rows × 136 columns</p>\n",
       "</div>"
      ],
      "text/plain": [
       "   125  120  140  68   135  154  30   73   143  87   ...  161  94   97   152  \\\n",
       "0    2    2    0    0    0    0    1    0    0    0  ...    0    0    2    0   \n",
       "1    2    2    0    0    0    0    1    1    0    1  ...    0    0    2    0   \n",
       "\n",
       "   113  105  96   40   34   115  \n",
       "0    2    1    1    1    1    2  \n",
       "1    2    0    1    0    0    2  \n",
       "\n",
       "[2 rows x 136 columns]"
      ]
     },
     "execution_count": 32,
     "metadata": {},
     "output_type": "execute_result"
    }
   ],
   "source": [
    "pd.DataFrame(data=[Y_entreno.values,miprimeralogistica.predict(X_entreno)],columns=Y_entreno.index)"
   ]
  },
  {
   "cell_type": "code",
   "execution_count": 39,
   "metadata": {},
   "outputs": [],
   "source": [
    "X_predicciones=dict()\n",
    "X_predicciones['predicción']=miprimeralogistica.predict(X_entreno)"
   ]
  },
  {
   "cell_type": "code",
   "execution_count": 40,
   "metadata": {},
   "outputs": [],
   "source": [
    "miprimeralogistica.predict_proba(X_entreno);"
   ]
  },
  {
   "cell_type": "code",
   "execution_count": 41,
   "metadata": {},
   "outputs": [],
   "source": [
    "X_predicciones['Real']=Y_entreno"
   ]
  },
  {
   "cell_type": "code",
   "execution_count": 42,
   "metadata": {},
   "outputs": [
    {
     "data": {
      "text/html": [
       "<div>\n",
       "<style scoped>\n",
       "    .dataframe tbody tr th:only-of-type {\n",
       "        vertical-align: middle;\n",
       "    }\n",
       "\n",
       "    .dataframe tbody tr th {\n",
       "        vertical-align: top;\n",
       "    }\n",
       "\n",
       "    .dataframe thead th {\n",
       "        text-align: right;\n",
       "    }\n",
       "</style>\n",
       "<table border=\"1\" class=\"dataframe\">\n",
       "  <thead>\n",
       "    <tr style=\"text-align: right;\">\n",
       "      <th></th>\n",
       "      <th>predicción</th>\n",
       "      <th>Real</th>\n",
       "    </tr>\n",
       "  </thead>\n",
       "  <tbody>\n",
       "    <tr>\n",
       "      <th>125</th>\n",
       "      <td>2</td>\n",
       "      <td>2</td>\n",
       "    </tr>\n",
       "    <tr>\n",
       "      <th>120</th>\n",
       "      <td>2</td>\n",
       "      <td>2</td>\n",
       "    </tr>\n",
       "    <tr>\n",
       "      <th>140</th>\n",
       "      <td>0</td>\n",
       "      <td>0</td>\n",
       "    </tr>\n",
       "    <tr>\n",
       "      <th>68</th>\n",
       "      <td>0</td>\n",
       "      <td>0</td>\n",
       "    </tr>\n",
       "    <tr>\n",
       "      <th>135</th>\n",
       "      <td>0</td>\n",
       "      <td>0</td>\n",
       "    </tr>\n",
       "    <tr>\n",
       "      <th>...</th>\n",
       "      <td>...</td>\n",
       "      <td>...</td>\n",
       "    </tr>\n",
       "    <tr>\n",
       "      <th>105</th>\n",
       "      <td>0</td>\n",
       "      <td>1</td>\n",
       "    </tr>\n",
       "    <tr>\n",
       "      <th>96</th>\n",
       "      <td>1</td>\n",
       "      <td>1</td>\n",
       "    </tr>\n",
       "    <tr>\n",
       "      <th>40</th>\n",
       "      <td>0</td>\n",
       "      <td>1</td>\n",
       "    </tr>\n",
       "    <tr>\n",
       "      <th>34</th>\n",
       "      <td>0</td>\n",
       "      <td>1</td>\n",
       "    </tr>\n",
       "    <tr>\n",
       "      <th>115</th>\n",
       "      <td>2</td>\n",
       "      <td>2</td>\n",
       "    </tr>\n",
       "  </tbody>\n",
       "</table>\n",
       "<p>136 rows × 2 columns</p>\n",
       "</div>"
      ],
      "text/plain": [
       "     predicción  Real\n",
       "125           2     2\n",
       "120           2     2\n",
       "140           0     0\n",
       "68            0     0\n",
       "135           0     0\n",
       "..          ...   ...\n",
       "105           0     1\n",
       "96            1     1\n",
       "40            0     1\n",
       "34            0     1\n",
       "115           2     2\n",
       "\n",
       "[136 rows x 2 columns]"
      ]
     },
     "execution_count": 42,
     "metadata": {},
     "output_type": "execute_result"
    }
   ],
   "source": [
    "pd.DataFrame(data=X_predicciones)"
   ]
  },
  {
   "cell_type": "code",
   "execution_count": 43,
   "metadata": {},
   "outputs": [
    {
     "data": {
      "text/plain": [
       "0.7720588235294118"
      ]
     },
     "execution_count": 43,
     "metadata": {},
     "output_type": "execute_result"
    }
   ],
   "source": [
    "miprimeralogistica.score(X_entreno,Y_entreno)"
   ]
  },
  {
   "cell_type": "code",
   "execution_count": 44,
   "metadata": {},
   "outputs": [
    {
     "data": {
      "text/plain": [
       "0.7352941176470589"
      ]
     },
     "execution_count": 44,
     "metadata": {},
     "output_type": "execute_result"
    }
   ],
   "source": [
    "miprimeralogistica.score(X_testeo,Y_testeo)"
   ]
  },
  {
   "cell_type": "code",
   "execution_count": 45,
   "metadata": {},
   "outputs": [
    {
     "name": "stdout",
     "output_type": "stream",
     "text": [
      "              precision    recall  f1-score   support\n",
      "\n",
      "           0       0.78      0.74      0.76        19\n",
      "           1       0.43      0.43      0.43         7\n",
      "           2       0.89      1.00      0.94         8\n",
      "\n",
      "    accuracy                           0.74        34\n",
      "   macro avg       0.70      0.72      0.71        34\n",
      "weighted avg       0.73      0.74      0.73        34\n",
      "\n"
     ]
    }
   ],
   "source": [
    "print(classification_report(Y_testeo,miprimeralogistica.predict(X_testeo)))"
   ]
  },
  {
   "cell_type": "code",
   "execution_count": 48,
   "metadata": {},
   "outputs": [
    {
     "name": "stdout",
     "output_type": "stream",
     "text": [
      "[1 1 1 0 1 0 1 1 1]\n",
      "[1 1 1 1 1 1 1 1 1]\n"
     ]
    }
   ],
   "source": [
    "print(np.array([1,1,1,0,1,0,1,1,1]))\n",
    "print(np.array([1,1,1,1,1,1,1,1,1]))"
   ]
  },
  {
   "cell_type": "code",
   "execution_count": 49,
   "metadata": {},
   "outputs": [
    {
     "name": "stdout",
     "output_type": "stream",
     "text": [
      "              precision    recall  f1-score   support\n",
      "\n",
      "           0       0.00      0.00      0.00         2\n",
      "           1       0.78      1.00      0.88         7\n",
      "\n",
      "    accuracy                           0.78         9\n",
      "   macro avg       0.39      0.50      0.44         9\n",
      "weighted avg       0.60      0.78      0.68         9\n",
      "\n"
     ]
    }
   ],
   "source": [
    "print(classification_report(np.array([1,1,1,0,1,0,1,1,1]),np.array([1,1,1,1,1,1,1,1,1])))"
   ]
  },
  {
   "cell_type": "code",
   "execution_count": 50,
   "metadata": {},
   "outputs": [
    {
     "data": {
      "text/plain": [
       "array([[14,  4,  1],\n",
       "       [ 4,  3,  0],\n",
       "       [ 0,  0,  8]])"
      ]
     },
     "execution_count": 50,
     "metadata": {},
     "output_type": "execute_result"
    }
   ],
   "source": [
    "CM=confusion_matrix(Y_testeo,miprimeralogistica.predict(X_testeo))\n",
    "CM"
   ]
  },
  {
   "cell_type": "code",
   "execution_count": 51,
   "metadata": {},
   "outputs": [
    {
     "data": {
      "image/png": "[encoded data removed]",
      "text/plain": [
       "<Figure size 432x288 with 2 Axes>"
      ]
     },
     "metadata": {
      "needs_background": "light"
     },
     "output_type": "display_data"
    }
   ],
   "source": [
    "labels=['Win','Mac','Lin']\n",
    "sns.heatmap(CM,annot=True,cmap='Blues')\n",
    "plt.xlabel('Predicho')\n",
    "plt.ylabel('Real')\n",
    "plt.xticks([0.5,1.5,2.5],labels,va='center')\n",
    "plt.yticks([0.5,1.5,2.5],labels,va='center')\n",
    "plt.show()"
   ]
  },
  {
   "cell_type": "code",
   "execution_count": 52,
   "metadata": {},
   "outputs": [
    {
     "data": {
      "image/png": "[encoded data removed]",
      "text/plain": [
       "<Figure size 432x288 with 2 Axes>"
      ]
     },
     "metadata": {
      "needs_background": "light"
     },
     "output_type": "display_data"
    }
   ],
   "source": [
    "CM=confusion_matrix(Y_entreno,miprimeralogistica.predict(X_entreno))\n",
    "\n",
    "labels=['Win','Mac','Lin']\n",
    "sns.heatmap(CM,annot=True,cmap='Blues')\n",
    "plt.xlabel('Predicho')\n",
    "plt.ylabel('Real')\n",
    "plt.xticks([0.5,1.5,2.5],labels,va='center')\n",
    "plt.yticks([0.5,1.5,2.5],labels,va='center')\n",
    "plt.show()"
   ]
  },
  {
   "cell_type": "code",
   "execution_count": 54,
   "metadata": {},
   "outputs": [],
   "source": [
    "np.set_printoptions(formatter={'float':'{:.2f}'.format})"
   ]
  },
  {
   "cell_type": "code",
   "execution_count": 62,
   "metadata": {},
   "outputs": [
    {
     "data": {
      "text/html": [
       "<div>\n",
       "<style scoped>\n",
       "    .dataframe tbody tr th:only-of-type {\n",
       "        vertical-align: middle;\n",
       "    }\n",
       "\n",
       "    .dataframe tbody tr th {\n",
       "        vertical-align: top;\n",
       "    }\n",
       "\n",
       "    .dataframe thead th {\n",
       "        text-align: right;\n",
       "    }\n",
       "</style>\n",
       "<table border=\"1\" class=\"dataframe\">\n",
       "  <thead>\n",
       "    <tr style=\"text-align: right;\">\n",
       "      <th></th>\n",
       "      <th>0</th>\n",
       "      <th>1</th>\n",
       "      <th>2</th>\n",
       "      <th>Result</th>\n",
       "    </tr>\n",
       "  </thead>\n",
       "  <tbody>\n",
       "    <tr>\n",
       "      <th>0</th>\n",
       "      <td>0.867023</td>\n",
       "      <td>0.132917</td>\n",
       "      <td>6.048981e-05</td>\n",
       "      <td>0</td>\n",
       "    </tr>\n",
       "    <tr>\n",
       "      <th>1</th>\n",
       "      <td>0.433031</td>\n",
       "      <td>0.309388</td>\n",
       "      <td>2.575811e-01</td>\n",
       "      <td>0</td>\n",
       "    </tr>\n",
       "    <tr>\n",
       "      <th>2</th>\n",
       "      <td>0.167742</td>\n",
       "      <td>0.832258</td>\n",
       "      <td>1.188951e-08</td>\n",
       "      <td>1</td>\n",
       "    </tr>\n",
       "    <tr>\n",
       "      <th>3</th>\n",
       "      <td>0.734651</td>\n",
       "      <td>0.265346</td>\n",
       "      <td>2.402269e-06</td>\n",
       "      <td>0</td>\n",
       "    </tr>\n",
       "    <tr>\n",
       "      <th>4</th>\n",
       "      <td>0.486736</td>\n",
       "      <td>0.512378</td>\n",
       "      <td>8.855681e-04</td>\n",
       "      <td>1</td>\n",
       "    </tr>\n",
       "    <tr>\n",
       "      <th>5</th>\n",
       "      <td>0.324690</td>\n",
       "      <td>0.675310</td>\n",
       "      <td>6.132206e-53</td>\n",
       "      <td>1</td>\n",
       "    </tr>\n",
       "    <tr>\n",
       "      <th>6</th>\n",
       "      <td>0.120467</td>\n",
       "      <td>0.050548</td>\n",
       "      <td>8.289856e-01</td>\n",
       "      <td>2</td>\n",
       "    </tr>\n",
       "    <tr>\n",
       "      <th>7</th>\n",
       "      <td>0.257948</td>\n",
       "      <td>0.095594</td>\n",
       "      <td>6.464577e-01</td>\n",
       "      <td>2</td>\n",
       "    </tr>\n",
       "    <tr>\n",
       "      <th>8</th>\n",
       "      <td>0.652532</td>\n",
       "      <td>0.347099</td>\n",
       "      <td>3.682317e-04</td>\n",
       "      <td>0</td>\n",
       "    </tr>\n",
       "    <tr>\n",
       "      <th>9</th>\n",
       "      <td>0.994156</td>\n",
       "      <td>0.005844</td>\n",
       "      <td>1.135931e-13</td>\n",
       "      <td>0</td>\n",
       "    </tr>\n",
       "    <tr>\n",
       "      <th>10</th>\n",
       "      <td>0.205543</td>\n",
       "      <td>0.321554</td>\n",
       "      <td>4.729029e-01</td>\n",
       "      <td>2</td>\n",
       "    </tr>\n",
       "    <tr>\n",
       "      <th>11</th>\n",
       "      <td>0.534178</td>\n",
       "      <td>0.465822</td>\n",
       "      <td>9.193817e-08</td>\n",
       "      <td>0</td>\n",
       "    </tr>\n",
       "    <tr>\n",
       "      <th>12</th>\n",
       "      <td>0.524054</td>\n",
       "      <td>0.424667</td>\n",
       "      <td>5.127916e-02</td>\n",
       "      <td>0</td>\n",
       "    </tr>\n",
       "    <tr>\n",
       "      <th>13</th>\n",
       "      <td>0.695431</td>\n",
       "      <td>0.304539</td>\n",
       "      <td>2.990052e-05</td>\n",
       "      <td>0</td>\n",
       "    </tr>\n",
       "    <tr>\n",
       "      <th>14</th>\n",
       "      <td>0.300637</td>\n",
       "      <td>0.107732</td>\n",
       "      <td>5.916308e-01</td>\n",
       "      <td>2</td>\n",
       "    </tr>\n",
       "    <tr>\n",
       "      <th>15</th>\n",
       "      <td>0.985879</td>\n",
       "      <td>0.014121</td>\n",
       "      <td>3.023122e-12</td>\n",
       "      <td>0</td>\n",
       "    </tr>\n",
       "    <tr>\n",
       "      <th>16</th>\n",
       "      <td>0.365914</td>\n",
       "      <td>0.161398</td>\n",
       "      <td>4.726879e-01</td>\n",
       "      <td>2</td>\n",
       "    </tr>\n",
       "    <tr>\n",
       "      <th>17</th>\n",
       "      <td>0.339835</td>\n",
       "      <td>0.129072</td>\n",
       "      <td>5.310930e-01</td>\n",
       "      <td>2</td>\n",
       "    </tr>\n",
       "    <tr>\n",
       "      <th>18</th>\n",
       "      <td>0.334616</td>\n",
       "      <td>0.341306</td>\n",
       "      <td>3.240773e-01</td>\n",
       "      <td>1</td>\n",
       "    </tr>\n",
       "    <tr>\n",
       "      <th>19</th>\n",
       "      <td>0.776218</td>\n",
       "      <td>0.221299</td>\n",
       "      <td>2.483740e-03</td>\n",
       "      <td>0</td>\n",
       "    </tr>\n",
       "    <tr>\n",
       "      <th>20</th>\n",
       "      <td>0.682573</td>\n",
       "      <td>0.317427</td>\n",
       "      <td>1.406837e-10</td>\n",
       "      <td>0</td>\n",
       "    </tr>\n",
       "    <tr>\n",
       "      <th>21</th>\n",
       "      <td>0.684145</td>\n",
       "      <td>0.315855</td>\n",
       "      <td>1.391334e-10</td>\n",
       "      <td>0</td>\n",
       "    </tr>\n",
       "    <tr>\n",
       "      <th>22</th>\n",
       "      <td>0.301131</td>\n",
       "      <td>0.538004</td>\n",
       "      <td>1.608650e-01</td>\n",
       "      <td>1</td>\n",
       "    </tr>\n",
       "    <tr>\n",
       "      <th>23</th>\n",
       "      <td>0.558832</td>\n",
       "      <td>0.440966</td>\n",
       "      <td>2.019089e-04</td>\n",
       "      <td>0</td>\n",
       "    </tr>\n",
       "    <tr>\n",
       "      <th>24</th>\n",
       "      <td>0.221255</td>\n",
       "      <td>0.186255</td>\n",
       "      <td>5.924894e-01</td>\n",
       "      <td>2</td>\n",
       "    </tr>\n",
       "    <tr>\n",
       "      <th>25</th>\n",
       "      <td>0.993456</td>\n",
       "      <td>0.003953</td>\n",
       "      <td>2.590527e-03</td>\n",
       "      <td>0</td>\n",
       "    </tr>\n",
       "    <tr>\n",
       "      <th>26</th>\n",
       "      <td>0.253595</td>\n",
       "      <td>0.156830</td>\n",
       "      <td>5.895747e-01</td>\n",
       "      <td>2</td>\n",
       "    </tr>\n",
       "    <tr>\n",
       "      <th>27</th>\n",
       "      <td>0.701353</td>\n",
       "      <td>0.298647</td>\n",
       "      <td>1.003406e-08</td>\n",
       "      <td>0</td>\n",
       "    </tr>\n",
       "    <tr>\n",
       "      <th>28</th>\n",
       "      <td>0.476944</td>\n",
       "      <td>0.523056</td>\n",
       "      <td>1.103323e-18</td>\n",
       "      <td>1</td>\n",
       "    </tr>\n",
       "    <tr>\n",
       "      <th>29</th>\n",
       "      <td>0.731158</td>\n",
       "      <td>0.268842</td>\n",
       "      <td>6.017665e-12</td>\n",
       "      <td>0</td>\n",
       "    </tr>\n",
       "    <tr>\n",
       "      <th>30</th>\n",
       "      <td>0.300149</td>\n",
       "      <td>0.108014</td>\n",
       "      <td>5.918365e-01</td>\n",
       "      <td>2</td>\n",
       "    </tr>\n",
       "    <tr>\n",
       "      <th>31</th>\n",
       "      <td>0.443888</td>\n",
       "      <td>0.140016</td>\n",
       "      <td>4.160965e-01</td>\n",
       "      <td>0</td>\n",
       "    </tr>\n",
       "    <tr>\n",
       "      <th>32</th>\n",
       "      <td>0.707394</td>\n",
       "      <td>0.292606</td>\n",
       "      <td>4.054635e-12</td>\n",
       "      <td>0</td>\n",
       "    </tr>\n",
       "    <tr>\n",
       "      <th>33</th>\n",
       "      <td>0.107126</td>\n",
       "      <td>0.892874</td>\n",
       "      <td>2.335857e-07</td>\n",
       "      <td>1</td>\n",
       "    </tr>\n",
       "  </tbody>\n",
       "</table>\n",
       "</div>"
      ],
      "text/plain": [
       "           0         1             2  Result\n",
       "0   0.867023  0.132917  6.048981e-05       0\n",
       "1   0.433031  0.309388  2.575811e-01       0\n",
       "2   0.167742  0.832258  1.188951e-08       1\n",
       "3   0.734651  0.265346  2.402269e-06       0\n",
       "4   0.486736  0.512378  8.855681e-04       1\n",
       "5   0.324690  0.675310  6.132206e-53       1\n",
       "6   0.120467  0.050548  8.289856e-01       2\n",
       "7   0.257948  0.095594  6.464577e-01       2\n",
       "8   0.652532  0.347099  3.682317e-04       0\n",
       "9   0.994156  0.005844  1.135931e-13       0\n",
       "10  0.205543  0.321554  4.729029e-01       2\n",
       "11  0.534178  0.465822  9.193817e-08       0\n",
       "12  0.524054  0.424667  5.127916e-02       0\n",
       "13  0.695431  0.304539  2.990052e-05       0\n",
       "14  0.300637  0.107732  5.916308e-01       2\n",
       "15  0.985879  0.014121  3.023122e-12       0\n",
       "16  0.365914  0.161398  4.726879e-01       2\n",
       "17  0.339835  0.129072  5.310930e-01       2\n",
       "18  0.334616  0.341306  3.240773e-01       1\n",
       "19  0.776218  0.221299  2.483740e-03       0\n",
       "20  0.682573  0.317427  1.406837e-10       0\n",
       "21  0.684145  0.315855  1.391334e-10       0\n",
       "22  0.301131  0.538004  1.608650e-01       1\n",
       "23  0.558832  0.440966  2.019089e-04       0\n",
       "24  0.221255  0.186255  5.924894e-01       2\n",
       "25  0.993456  0.003953  2.590527e-03       0\n",
       "26  0.253595  0.156830  5.895747e-01       2\n",
       "27  0.701353  0.298647  1.003406e-08       0\n",
       "28  0.476944  0.523056  1.103323e-18       1\n",
       "29  0.731158  0.268842  6.017665e-12       0\n",
       "30  0.300149  0.108014  5.918365e-01       2\n",
       "31  0.443888  0.140016  4.160965e-01       0\n",
       "32  0.707394  0.292606  4.054635e-12       0\n",
       "33  0.107126  0.892874  2.335857e-07       1"
      ]
     },
     "execution_count": 62,
     "metadata": {},
     "output_type": "execute_result"
    }
   ],
   "source": [
    "Y_pred_prob=miprimeralogistica.predict_proba(X_testeo)\n",
    "\n",
    "Prob=pd.DataFrame(Y_pred_prob,columns=['0','1','2'])\n",
    "Prob['Result']=miprimeralogistica.predict(X_testeo)\n",
    "Prob"
   ]
  },
  {
   "cell_type": "code",
   "execution_count": 56,
   "metadata": {},
   "outputs": [
    {
     "data": {
      "text/html": [
       "<div>\n",
       "<style scoped>\n",
       "    .dataframe tbody tr th:only-of-type {\n",
       "        vertical-align: middle;\n",
       "    }\n",
       "\n",
       "    .dataframe tbody tr th {\n",
       "        vertical-align: top;\n",
       "    }\n",
       "\n",
       "    .dataframe thead th {\n",
       "        text-align: right;\n",
       "    }\n",
       "</style>\n",
       "<table border=\"1\" class=\"dataframe\">\n",
       "  <thead>\n",
       "    <tr style=\"text-align: right;\">\n",
       "      <th></th>\n",
       "      <th>0</th>\n",
       "      <th>1</th>\n",
       "      <th>2</th>\n",
       "    </tr>\n",
       "  </thead>\n",
       "  <tbody>\n",
       "    <tr>\n",
       "      <th>158</th>\n",
       "      <td>1</td>\n",
       "      <td>0</td>\n",
       "      <td>0</td>\n",
       "    </tr>\n",
       "    <tr>\n",
       "      <th>166</th>\n",
       "      <td>1</td>\n",
       "      <td>0</td>\n",
       "      <td>0</td>\n",
       "    </tr>\n",
       "    <tr>\n",
       "      <th>45</th>\n",
       "      <td>0</td>\n",
       "      <td>1</td>\n",
       "      <td>0</td>\n",
       "    </tr>\n",
       "    <tr>\n",
       "      <th>106</th>\n",
       "      <td>0</td>\n",
       "      <td>1</td>\n",
       "      <td>0</td>\n",
       "    </tr>\n",
       "    <tr>\n",
       "      <th>141</th>\n",
       "      <td>1</td>\n",
       "      <td>0</td>\n",
       "      <td>0</td>\n",
       "    </tr>\n",
       "    <tr>\n",
       "      <th>75</th>\n",
       "      <td>1</td>\n",
       "      <td>0</td>\n",
       "      <td>0</td>\n",
       "    </tr>\n",
       "    <tr>\n",
       "      <th>39</th>\n",
       "      <td>0</td>\n",
       "      <td>0</td>\n",
       "      <td>1</td>\n",
       "    </tr>\n",
       "    <tr>\n",
       "      <th>2</th>\n",
       "      <td>0</td>\n",
       "      <td>0</td>\n",
       "      <td>1</td>\n",
       "    </tr>\n",
       "    <tr>\n",
       "      <th>132</th>\n",
       "      <td>1</td>\n",
       "      <td>0</td>\n",
       "      <td>0</td>\n",
       "    </tr>\n",
       "    <tr>\n",
       "      <th>83</th>\n",
       "      <td>1</td>\n",
       "      <td>0</td>\n",
       "      <td>0</td>\n",
       "    </tr>\n",
       "    <tr>\n",
       "      <th>63</th>\n",
       "      <td>1</td>\n",
       "      <td>0</td>\n",
       "      <td>0</td>\n",
       "    </tr>\n",
       "    <tr>\n",
       "      <th>162</th>\n",
       "      <td>1</td>\n",
       "      <td>0</td>\n",
       "      <td>0</td>\n",
       "    </tr>\n",
       "    <tr>\n",
       "      <th>138</th>\n",
       "      <td>1</td>\n",
       "      <td>0</td>\n",
       "      <td>0</td>\n",
       "    </tr>\n",
       "    <tr>\n",
       "      <th>103</th>\n",
       "      <td>0</td>\n",
       "      <td>1</td>\n",
       "      <td>0</td>\n",
       "    </tr>\n",
       "    <tr>\n",
       "      <th>127</th>\n",
       "      <td>0</td>\n",
       "      <td>0</td>\n",
       "      <td>1</td>\n",
       "    </tr>\n",
       "    <tr>\n",
       "      <th>90</th>\n",
       "      <td>1</td>\n",
       "      <td>0</td>\n",
       "      <td>0</td>\n",
       "    </tr>\n",
       "    <tr>\n",
       "      <th>95</th>\n",
       "      <td>0</td>\n",
       "      <td>0</td>\n",
       "      <td>1</td>\n",
       "    </tr>\n",
       "    <tr>\n",
       "      <th>7</th>\n",
       "      <td>0</td>\n",
       "      <td>0</td>\n",
       "      <td>1</td>\n",
       "    </tr>\n",
       "    <tr>\n",
       "      <th>156</th>\n",
       "      <td>1</td>\n",
       "      <td>0</td>\n",
       "      <td>0</td>\n",
       "    </tr>\n",
       "    <tr>\n",
       "      <th>48</th>\n",
       "      <td>0</td>\n",
       "      <td>1</td>\n",
       "      <td>0</td>\n",
       "    </tr>\n",
       "    <tr>\n",
       "      <th>131</th>\n",
       "      <td>1</td>\n",
       "      <td>0</td>\n",
       "      <td>0</td>\n",
       "    </tr>\n",
       "    <tr>\n",
       "      <th>163</th>\n",
       "      <td>1</td>\n",
       "      <td>0</td>\n",
       "      <td>0</td>\n",
       "    </tr>\n",
       "    <tr>\n",
       "      <th>28</th>\n",
       "      <td>0</td>\n",
       "      <td>1</td>\n",
       "      <td>0</td>\n",
       "    </tr>\n",
       "    <tr>\n",
       "      <th>160</th>\n",
       "      <td>1</td>\n",
       "      <td>0</td>\n",
       "      <td>0</td>\n",
       "    </tr>\n",
       "    <tr>\n",
       "      <th>126</th>\n",
       "      <td>0</td>\n",
       "      <td>0</td>\n",
       "      <td>1</td>\n",
       "    </tr>\n",
       "    <tr>\n",
       "      <th>53</th>\n",
       "      <td>1</td>\n",
       "      <td>0</td>\n",
       "      <td>0</td>\n",
       "    </tr>\n",
       "    <tr>\n",
       "      <th>10</th>\n",
       "      <td>0</td>\n",
       "      <td>0</td>\n",
       "      <td>1</td>\n",
       "    </tr>\n",
       "    <tr>\n",
       "      <th>62</th>\n",
       "      <td>1</td>\n",
       "      <td>0</td>\n",
       "      <td>0</td>\n",
       "    </tr>\n",
       "    <tr>\n",
       "      <th>77</th>\n",
       "      <td>1</td>\n",
       "      <td>0</td>\n",
       "      <td>0</td>\n",
       "    </tr>\n",
       "    <tr>\n",
       "      <th>27</th>\n",
       "      <td>0</td>\n",
       "      <td>1</td>\n",
       "      <td>0</td>\n",
       "    </tr>\n",
       "    <tr>\n",
       "      <th>111</th>\n",
       "      <td>0</td>\n",
       "      <td>0</td>\n",
       "      <td>1</td>\n",
       "    </tr>\n",
       "    <tr>\n",
       "      <th>164</th>\n",
       "      <td>1</td>\n",
       "      <td>0</td>\n",
       "      <td>0</td>\n",
       "    </tr>\n",
       "    <tr>\n",
       "      <th>153</th>\n",
       "      <td>1</td>\n",
       "      <td>0</td>\n",
       "      <td>0</td>\n",
       "    </tr>\n",
       "    <tr>\n",
       "      <th>31</th>\n",
       "      <td>0</td>\n",
       "      <td>1</td>\n",
       "      <td>0</td>\n",
       "    </tr>\n",
       "  </tbody>\n",
       "</table>\n",
       "</div>"
      ],
      "text/plain": [
       "     0  1  2\n",
       "158  1  0  0\n",
       "166  1  0  0\n",
       "45   0  1  0\n",
       "106  0  1  0\n",
       "141  1  0  0\n",
       "75   1  0  0\n",
       "39   0  0  1\n",
       "2    0  0  1\n",
       "132  1  0  0\n",
       "83   1  0  0\n",
       "63   1  0  0\n",
       "162  1  0  0\n",
       "138  1  0  0\n",
       "103  0  1  0\n",
       "127  0  0  1\n",
       "90   1  0  0\n",
       "95   0  0  1\n",
       "7    0  0  1\n",
       "156  1  0  0\n",
       "48   0  1  0\n",
       "131  1  0  0\n",
       "163  1  0  0\n",
       "28   0  1  0\n",
       "160  1  0  0\n",
       "126  0  0  1\n",
       "53   1  0  0\n",
       "10   0  0  1\n",
       "62   1  0  0\n",
       "77   1  0  0\n",
       "27   0  1  0\n",
       "111  0  0  1\n",
       "164  1  0  0\n",
       "153  1  0  0\n",
       "31   0  1  0"
      ]
     },
     "execution_count": 56,
     "metadata": {},
     "output_type": "execute_result"
    }
   ],
   "source": [
    "Y_testeo_dummy=pd.get_dummies(Y_testeo)\n",
    "Y_testeo_dummy"
   ]
  },
  {
   "cell_type": "code",
   "execution_count": 63,
   "metadata": {},
   "outputs": [],
   "source": [
    "fpr, tpr, umbrales=roc_curve(Y_testeo_dummy[0],Y_pred_prob[:,0])"
   ]
  },
  {
   "cell_type": "code",
   "execution_count": 64,
   "metadata": {},
   "outputs": [
    {
     "data": {
      "text/plain": [
       "Text(0.5, 1.0, 'Curva Roc para WIN')"
      ]
     },
     "execution_count": 64,
     "metadata": {},
     "output_type": "execute_result"
    },
    {
     "data": {
      "image/png": "[encoded data removed]",
      "text/plain": [
       "<Figure size 432x288 with 1 Axes>"
      ]
     },
     "metadata": {
      "needs_background": "light"
     },
     "output_type": "display_data"
    }
   ],
   "source": [
    "AUC=auc(fpr,tpr)\n",
    "plt.plot(fpr,tpr)\n",
    "plt.title('Curva Roc para WIN')"
   ]
  },
  {
   "cell_type": "code",
   "execution_count": 65,
   "metadata": {},
   "outputs": [],
   "source": [
    "display=RocCurveDisplay(fpr=fpr,tpr=tpr,roc_auc=AUC)"
   ]
  },
  {
   "cell_type": "code",
   "execution_count": 66,
   "metadata": {},
   "outputs": [
    {
     "data": {
      "text/plain": [
       "<sklearn.metrics._plot.roc_curve.RocCurveDisplay at 0x7f6e5e99c460>"
      ]
     },
     "execution_count": 66,
     "metadata": {},
     "output_type": "execute_result"
    },
    {
     "data": {
      "image/png": "[encoded data removed]",
      "text/plain": [
       "<Figure size 432x288 with 1 Axes>"
      ]
     },
     "metadata": {
      "needs_background": "light"
     },
     "output_type": "display_data"
    }
   ],
   "source": [
    "display.plot()"
   ]
  },
  {
   "cell_type": "code",
   "execution_count": 68,
   "metadata": {},
   "outputs": [
    {
     "data": {
      "image/png": "[encoded data removed]",
      "text/plain": [
       "<Figure size 432x288 with 1 Axes>"
      ]
     },
     "metadata": {
      "needs_background": "light"
     },
     "output_type": "display_data"
    },
    {
     "data": {
      "image/png": "[encoded data removed]",
      "text/plain": [
       "<Figure size 432x288 with 1 Axes>"
      ]
     },
     "metadata": {
      "needs_background": "light"
     },
     "output_type": "display_data"
    },
    {
     "data": {
      "image/png": "[encoded data removed]",
      "text/plain": [
       "<Figure size 432x288 with 1 Axes>"
      ]
     },
     "metadata": {
      "needs_background": "light"
     },
     "output_type": "display_data"
    }
   ],
   "source": [
    "osd=['WIN','MAC','LIN']\n",
    "for i in range(3):\n",
    "    fpr, tpr, umbrales=roc_curve(Y_testeo_dummy[i],Y_pred_prob[:,i])\n",
    "    AUC=auc(fpr,tpr)\n",
    "    display=RocCurveDisplay(fpr=fpr,tpr=tpr,roc_auc=AUC)\n",
    "    display.plot()\n",
    "    plt.title('Curva Roc para '+osd[i])\n",
    "plt.show()\n"
   ]
  },
  {
   "cell_type": "code",
   "execution_count": 70,
   "metadata": {},
   "outputs": [
    {
     "data": {
      "image/png": "[encoded data removed]",
      "text/plain": [
       "<Figure size 432x288 with 1 Axes>"
      ]
     },
     "metadata": {
      "needs_background": "light"
     },
     "output_type": "display_data"
    },
    {
     "data": {
      "image/png": "[encoded data removed]",
      "text/plain": [
       "<Figure size 432x288 with 1 Axes>"
      ]
     },
     "metadata": {
      "needs_background": "light"
     },
     "output_type": "display_data"
    },
    {
     "data": {
      "image/png": "[encoded data removed]",
      "text/plain": [
       "<Figure size 432x288 with 1 Axes>"
      ]
     },
     "metadata": {
      "needs_background": "light"
     },
     "output_type": "display_data"
    }
   ],
   "source": [
    "Y_prob=miprimeralogistica.predict_proba(X)\n",
    "Y_dummy=pd.get_dummies(y)\n",
    "for i in range(3):\n",
    "    fpr, tpr, umbrales=roc_curve(Y_dummy[i],Y_prob[:,i])\n",
    "    AUC=auc(fpr,tpr)\n",
    "    display=RocCurveDisplay(fpr=fpr,tpr=tpr,roc_auc=AUC)\n",
    "    display.plot()\n",
    "    plt.title('Curva Roc para '+osd[i])\n",
    "plt.show()"
   ]
  },
  {
   "cell_type": "code",
   "execution_count": 71,
   "metadata": {},
   "outputs": [
    {
     "data": {
      "text/plain": [
       "array([-0.39, -0.60, 0.98])"
      ]
     },
     "execution_count": 71,
     "metadata": {},
     "output_type": "execute_result"
    }
   ],
   "source": [
    "miprimeralogistica.intercept_\n"
   ]
  },
  {
   "cell_type": "code",
   "execution_count": 72,
   "metadata": {},
   "outputs": [
    {
     "data": {
      "text/plain": [
       "array([[-0.00, -0.55, 0.35, -0.03],\n",
       "       [0.00, -0.05, -0.37, 0.06],\n",
       "       [0.01, 0.62, 1.65, -1.03]])"
      ]
     },
     "execution_count": 72,
     "metadata": {},
     "output_type": "execute_result"
    }
   ],
   "source": [
    "miprimeralogistica.coef_"
   ]
  },
  {
   "cell_type": "markdown",
   "metadata": {},
   "source": [
    "## Guardar el modelo\n",
    "\n",
    "A continuación vamos a guardar los parametros del modelo para utilizarlos después. Utilizamos el paquete pickle."
   ]
  },
  {
   "cell_type": "code",
   "execution_count": 73,
   "metadata": {},
   "outputs": [],
   "source": [
    "import pickle\n",
    "\n",
    "pkl_filename = \"logistica.pkl\"\n",
    "with open(pkl_filename, 'wb') as file:\n",
    "    pickle.dump(miprimeralogistica, file)\n",
    "    \n"
   ]
  },
  {
   "cell_type": "code",
   "execution_count": 74,
   "metadata": {},
   "outputs": [
    {
     "name": "stdout",
     "output_type": "stream",
     "text": [
      "Test score: 77.21 %\n"
     ]
    }
   ],
   "source": [
    "import pickle\n",
    "with open('logistica.pkl', 'rb') as file:\n",
    "    pickle_model = pickle.load(file)\n",
    "    \n",
    "score = pickle_model.score(X_entreno, Y_entreno)\n",
    "print(\"Test score: {0:.2f} %\".format(100 * score))\n",
    "Ypredict = pickle_model.predict(X)"
   ]
  },
  {
   "cell_type": "code",
   "execution_count": 75,
   "metadata": {},
   "outputs": [],
   "source": [
    "import numpy as np\n",
    "Xsim=dict()\n",
    "Xsim['duracion']=[i if i>0 else 0 for i in np.random.normal(loc=111,scale=202,size=100)]\n",
    "Xsim['paginas']=[i if i>0 else 0 for i in np.random.normal(loc=2,scale=1,size=100)]\n",
    "Xsim['acciones']=[i if i>0 else 0 for i in np.random.normal(loc=9,scale=4,size=100)]\n",
    "Xsim['valor']=[i if i>0 else 0 for i in np.random.normal(loc=32,scale=20,size=100)]\n",
    "DFsim=pd.DataFrame(data=Xsim)"
   ]
  },
  {
   "cell_type": "code",
   "execution_count": 76,
   "metadata": {},
   "outputs": [
    {
     "data": {
      "text/html": [
       "<div>\n",
       "<style scoped>\n",
       "    .dataframe tbody tr th:only-of-type {\n",
       "        vertical-align: middle;\n",
       "    }\n",
       "\n",
       "    .dataframe tbody tr th {\n",
       "        vertical-align: top;\n",
       "    }\n",
       "\n",
       "    .dataframe thead th {\n",
       "        text-align: right;\n",
       "    }\n",
       "</style>\n",
       "<table border=\"1\" class=\"dataframe\">\n",
       "  <thead>\n",
       "    <tr style=\"text-align: right;\">\n",
       "      <th></th>\n",
       "      <th>duracion</th>\n",
       "      <th>paginas</th>\n",
       "      <th>acciones</th>\n",
       "      <th>valor</th>\n",
       "    </tr>\n",
       "  </thead>\n",
       "  <tbody>\n",
       "    <tr>\n",
       "      <th>0</th>\n",
       "      <td>226.366488</td>\n",
       "      <td>1.357444</td>\n",
       "      <td>1.113066</td>\n",
       "      <td>33.363376</td>\n",
       "    </tr>\n",
       "    <tr>\n",
       "      <th>1</th>\n",
       "      <td>303.046889</td>\n",
       "      <td>2.261032</td>\n",
       "      <td>9.348397</td>\n",
       "      <td>6.962098</td>\n",
       "    </tr>\n",
       "    <tr>\n",
       "      <th>2</th>\n",
       "      <td>315.391340</td>\n",
       "      <td>1.416925</td>\n",
       "      <td>5.750586</td>\n",
       "      <td>22.054640</td>\n",
       "    </tr>\n",
       "    <tr>\n",
       "      <th>3</th>\n",
       "      <td>0.000000</td>\n",
       "      <td>2.278638</td>\n",
       "      <td>13.090509</td>\n",
       "      <td>40.096715</td>\n",
       "    </tr>\n",
       "    <tr>\n",
       "      <th>4</th>\n",
       "      <td>0.000000</td>\n",
       "      <td>3.036802</td>\n",
       "      <td>8.341853</td>\n",
       "      <td>57.019361</td>\n",
       "    </tr>\n",
       "    <tr>\n",
       "      <th>...</th>\n",
       "      <td>...</td>\n",
       "      <td>...</td>\n",
       "      <td>...</td>\n",
       "      <td>...</td>\n",
       "    </tr>\n",
       "    <tr>\n",
       "      <th>95</th>\n",
       "      <td>191.313890</td>\n",
       "      <td>1.070003</td>\n",
       "      <td>12.931554</td>\n",
       "      <td>14.587579</td>\n",
       "    </tr>\n",
       "    <tr>\n",
       "      <th>96</th>\n",
       "      <td>0.000000</td>\n",
       "      <td>3.027091</td>\n",
       "      <td>5.646881</td>\n",
       "      <td>79.564936</td>\n",
       "    </tr>\n",
       "    <tr>\n",
       "      <th>97</th>\n",
       "      <td>362.052473</td>\n",
       "      <td>1.061019</td>\n",
       "      <td>15.934280</td>\n",
       "      <td>9.311250</td>\n",
       "    </tr>\n",
       "    <tr>\n",
       "      <th>98</th>\n",
       "      <td>306.450875</td>\n",
       "      <td>2.591814</td>\n",
       "      <td>16.541496</td>\n",
       "      <td>20.019787</td>\n",
       "    </tr>\n",
       "    <tr>\n",
       "      <th>99</th>\n",
       "      <td>0.000000</td>\n",
       "      <td>2.189735</td>\n",
       "      <td>13.928121</td>\n",
       "      <td>31.239782</td>\n",
       "    </tr>\n",
       "  </tbody>\n",
       "</table>\n",
       "<p>100 rows × 4 columns</p>\n",
       "</div>"
      ],
      "text/plain": [
       "      duracion   paginas   acciones      valor\n",
       "0   226.366488  1.357444   1.113066  33.363376\n",
       "1   303.046889  2.261032   9.348397   6.962098\n",
       "2   315.391340  1.416925   5.750586  22.054640\n",
       "3     0.000000  2.278638  13.090509  40.096715\n",
       "4     0.000000  3.036802   8.341853  57.019361\n",
       "..         ...       ...        ...        ...\n",
       "95  191.313890  1.070003  12.931554  14.587579\n",
       "96    0.000000  3.027091   5.646881  79.564936\n",
       "97  362.052473  1.061019  15.934280   9.311250\n",
       "98  306.450875  2.591814  16.541496  20.019787\n",
       "99    0.000000  2.189735  13.928121  31.239782\n",
       "\n",
       "[100 rows x 4 columns]"
      ]
     },
     "execution_count": 76,
     "metadata": {},
     "output_type": "execute_result"
    }
   ],
   "source": [
    "DFsim"
   ]
  },
  {
   "cell_type": "code",
   "execution_count": 77,
   "metadata": {},
   "outputs": [
    {
     "data": {
      "text/plain": [
       "array([1, 2, 1, 0, 1, 0, 0, 0, 1, 1, 0, 0, 1, 1, 0, 1, 2, 2, 0, 1, 2, 0,\n",
       "       1, 0, 2, 0, 0, 1, 0, 0, 0, 0, 2, 1, 0, 0, 0, 2, 0, 1, 0, 1, 1, 1,\n",
       "       1, 2, 0, 2, 1, 1, 1, 0, 0, 2, 0, 2, 0, 1, 0, 0, 0, 1, 1, 2, 0, 0,\n",
       "       1, 0, 0, 2, 1, 0, 1, 1, 0, 0, 0, 0, 1, 2, 0, 0, 0, 0, 1, 0, 1, 0,\n",
       "       2, 2, 1, 2, 0, 2, 0, 2, 1, 2, 2, 0])"
      ]
     },
     "execution_count": 77,
     "metadata": {},
     "output_type": "execute_result"
    }
   ],
   "source": [
    "pickle_model.predict(DFsim)"
   ]
  },
  {
   "cell_type": "markdown",
   "metadata": {},
   "source": [
    "## Conclusiones\n",
    "\n",
    "En este apartado trabajamos en varias cosas:\n",
    "\n",
    "1. Definimos la metodología del desarrollo y depliegue de modelos de clasificación supervisada. No solo nos apropiamos de la diferente terminología detras de los modelos de clasificación sino que exploramos varias formas de validarlo. \n",
    "\n",
    "2. Estudiamos algunos conceptos teóricos de la regresión logística y explicamos cuales son las entradas y salidas que se traza el módulo Logistic-Regression  en python.\n",
    "\n",
    "3. La generalización de la regresión logística para múltiples categorías resulto útil para determinar el valor de clasificación en la predicción que estamos montando.\n",
    "\n",
    "4. Hizo falta hablar sobre la significancia del modelo:\n",
    "\n",
    "* Likelihood Ratio\n",
    "* Pseudo R2\n",
    "* Significancia de los predictores y prueba chi cuadrado.\n",
    "\n",
    "\n"
   ]
  }
 ],
 "metadata": {
  "kernelspec": {
   "display_name": "Python 3",
   "language": "python",
   "name": "python3"
  },
  "language_info": {
   "codemirror_mode": {
    "name": "ipython",
    "version": 3
   },
   "file_extension": ".py",
   "mimetype": "text/x-python",
   "name": "python",
   "nbconvert_exporter": "python",
   "pygments_lexer": "ipython3",
   "version": "3.8.5"
  },
  "toc": {
   "base_numbering": 1,
   "nav_menu": {},
   "number_sections": true,
   "sideBar": true,
   "skip_h1_title": true,
   "title_cell": "Table of Contents",
   "title_sidebar": "Contents",
   "toc_cell": true,
   "toc_position": {},
   "toc_section_display": true,
   "toc_window_display": false
  }
 },
 "nbformat": 4,
 "nbformat_minor": 4
}
