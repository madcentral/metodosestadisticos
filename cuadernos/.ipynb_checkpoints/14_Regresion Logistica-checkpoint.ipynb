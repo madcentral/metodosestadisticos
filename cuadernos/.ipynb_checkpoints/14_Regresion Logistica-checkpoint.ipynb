{
 "cells": [
  {
   "cell_type": "markdown",
   "metadata": {
    "id": "0DaN9KZKc-yG"
   },
   "source": [
    "# Regresion logistica\n",
    "En una regresión logística se tiene una variable objetivo $Y$ la cual es binaria y es de interes para el investigador.\n",
    "Se quiere construir una función $f(X)$ donde $X=(X_1, \\ldots, X_p)$ es un conjunto de variables exogenas que se utilizaran para pronosticar a $Y$.\n",
    "\n",
    "En un modelo de regresión lineal logística, se usan las funciones del tipo:\n",
    "$$\\ln \\left(\\frac{p}{1-p} \\right)=\\beta_0 +\\beta_1X_1+\\beta_2X_2+...+\\beta_pX_p  $$ \n",
    "donde $p=P(Y=1)$"
   ]
  },
  {
   "cell_type": "code",
   "execution_count": null,
   "metadata": {
    "executionInfo": {
     "elapsed": 540,
     "status": "ok",
     "timestamp": 1604013162532,
     "user": {
      "displayName": "nelson alirio cruz gutierrez",
      "photoUrl": "https://lh3.googleusercontent.com/a-/AOh14GhDdjlbX7P6HT1cChQovqzRQSdg6HiAYjSwmILa5Q=s64",
      "userId": "04144189299847950459"
     },
     "user_tz": 300
    },
    "id": "CFqFldEjc9pq"
   },
   "outputs": [],
   "source": [
    "import pandas as pd\n",
    "import numpy as np\n",
    "import plotly.express as px\n",
    "import matplotlib.pyplot as plt\n",
    "from scipy import stats\n",
    "from sklearn.feature_selection import RFE\n",
    "from sklearn.model_selection import train_test_split\n",
    "from sklearn.linear_model import LogisticRegression\n",
    "from sklearn.metrics import confusion_matrix, accuracy_score, precision_score, classification_report\n",
    "from sklearn.feature_selection import RFE"
   ]
  },
  {
   "cell_type": "code",
   "execution_count": null,
   "metadata": {
    "colab": {
     "base_uri": "https://localhost:8080/"
    },
    "executionInfo": {
     "elapsed": 522,
     "status": "ok",
     "timestamp": 1604013201570,
     "user": {
      "displayName": "nelson alirio cruz gutierrez",
      "photoUrl": "https://lh3.googleusercontent.com/a-/AOh14GhDdjlbX7P6HT1cChQovqzRQSdg6HiAYjSwmILa5Q=s64",
      "userId": "04144189299847950459"
     },
     "user_tz": 300
    },
    "id": "osznm7OUgqtU",
    "outputId": "30d12ac3-65db-4ca5-81d8-688ea6ad868f"
   },
   "outputs": [],
   "source": [
    "url=\"https://raw.githubusercontent.com/Cruzalirio/Ucentral/master/Bases/Cancer.csv\"\n",
    "cancer=pd.read_csv(url, sep=\";\", index_col=0)\n",
    "Y=cancer[\"Tipo\"]\n",
    "X=cancer.drop(\"Tipo\", axis=1)\n",
    "X_train, X_test, y_train, y_test=train_test_split(X, Y, test_size=0.2, stratify=Y)\n",
    "X_train.shape"
   ]
  },
  {
   "cell_type": "code",
   "execution_count": null,
   "metadata": {
    "colab": {
     "base_uri": "https://localhost:8080/",
     "height": 935
    },
    "executionInfo": {
     "elapsed": 557,
     "status": "ok",
     "timestamp": 1604013342520,
     "user": {
      "displayName": "nelson alirio cruz gutierrez",
      "photoUrl": "https://lh3.googleusercontent.com/a-/AOh14GhDdjlbX7P6HT1cChQovqzRQSdg6HiAYjSwmILa5Q=s64",
      "userId": "04144189299847950459"
     },
     "user_tz": 300
    },
    "id": "ISQOe8hgJuEw",
    "outputId": "f77351d6-246b-453c-c8d6-f5d606dac3cb"
   },
   "outputs": [],
   "source": [
    "logreg=LogisticRegression()\n",
    "logreg.fit(X_train, y_train)\n",
    "pd.DataFrame(np.transpose(logreg.coef_), index=X_train.columns)"
   ]
  },
  {
   "cell_type": "code",
   "execution_count": null,
   "metadata": {
    "colab": {
     "base_uri": "https://localhost:8080/"
    },
    "executionInfo": {
     "elapsed": 533,
     "status": "ok",
     "timestamp": 1604014170353,
     "user": {
      "displayName": "nelson alirio cruz gutierrez",
      "photoUrl": "https://lh3.googleusercontent.com/a-/AOh14GhDdjlbX7P6HT1cChQovqzRQSdg6HiAYjSwmILa5Q=s64",
      "userId": "04144189299847950459"
     },
     "user_tz": 300
    },
    "id": "2qzj9DRtsE--",
    "outputId": "977384ac-9916-4ee1-a1ff-40016d93123e"
   },
   "outputs": [],
   "source": [
    "np.round(logreg.predict_proba(X_train),3)## Probabilidades"
   ]
  },
  {
   "cell_type": "code",
   "execution_count": null,
   "metadata": {
    "colab": {
     "base_uri": "https://localhost:8080/"
    },
    "executionInfo": {
     "elapsed": 543,
     "status": "ok",
     "timestamp": 1604014850310,
     "user": {
      "displayName": "nelson alirio cruz gutierrez",
      "photoUrl": "https://lh3.googleusercontent.com/a-/AOh14GhDdjlbX7P6HT1cChQovqzRQSdg6HiAYjSwmILa5Q=s64",
      "userId": "04144189299847950459"
     },
     "user_tz": 300
    },
    "id": "p6Y7n4louqwk",
    "outputId": "a68b778f-36c4-43a3-8b2b-5777ac82e263"
   },
   "outputs": [],
   "source": [
    "logreg.predict(X_train)[0:10]"
   ]
  },
  {
   "cell_type": "code",
   "execution_count": null,
   "metadata": {
    "colab": {
     "base_uri": "https://localhost:8080/"
    },
    "executionInfo": {
     "elapsed": 513,
     "status": "ok",
     "timestamp": 1604014853478,
     "user": {
      "displayName": "nelson alirio cruz gutierrez",
      "photoUrl": "https://lh3.googleusercontent.com/a-/AOh14GhDdjlbX7P6HT1cChQovqzRQSdg6HiAYjSwmILa5Q=s64",
      "userId": "04144189299847950459"
     },
     "user_tz": 300
    },
    "id": "hsCQMUz1u50V",
    "outputId": "4a138c83-e0ab-4f03-a523-5050a7e39de7"
   },
   "outputs": [],
   "source": [
    "y_pred=logreg.predict(X_train)\n",
    "print(classification_report(y_train, y_pred))"
   ]
  },
  {
   "cell_type": "markdown",
   "metadata": {
    "id": "ixk6QI6Dr4Ij"
   },
   "source": [
    "# Curva ROC\n",
    "\n",
    "Sirve para escoger el umbral de decisión"
   ]
  },
  {
   "cell_type": "code",
   "execution_count": null,
   "metadata": {
    "colab": {
     "base_uri": "https://localhost:8080/",
     "height": 362
    },
    "executionInfo": {
     "elapsed": 796,
     "status": "ok",
     "timestamp": 1604015103797,
     "user": {
      "displayName": "nelson alirio cruz gutierrez",
      "photoUrl": "https://lh3.googleusercontent.com/a-/AOh14GhDdjlbX7P6HT1cChQovqzRQSdg6HiAYjSwmILa5Q=s64",
      "userId": "04144189299847950459"
     },
     "user_tz": 300
    },
    "id": "nYLrmarmvuKp",
    "outputId": "2df9dbfe-11c4-4403-e42a-f1351c9406f1"
   },
   "outputs": [],
   "source": [
    "from sklearn.metrics import roc_auc_score\n",
    "from sklearn.metrics import roc_curve\n",
    "from sklearn.preprocessing import label_binarize\n",
    "Y=cancer[\"Tipo\"] ## Selecciono a Y\n",
    "X=cancer.drop(\"Tipo\", axis=1) ## Selecciono las X\n",
    "Y = label_binarize(Y, classes=[\"B\", \"M\"]) ## Vuelvo a Y de 0 y 1 (dummy)\n",
    "X_train, X_test, y_train, y_test=train_test_split(X, Y, test_size=0.2, stratify=Y) ## Divido en entrenamiento y prueba\n",
    "logreg=LogisticRegression() ### Llamo la regresion\n",
    "logreg.fit(X_train, y_train)  ### La ajusto en entrenamiento\n",
    "logit_roc_auc = roc_auc_score(y_test, logreg.predict(X_test))  ## Calculo el area bajo la curva\n",
    "fpr, tpr, thresholds = roc_curve(y_test, logreg.predict_proba(X_test)[:,1]) ## Calculo la fpr(false positive rate),\n",
    "## la tpr(true positive rate) y thresholds (los umbrales)\n",
    "plt.figure()\n",
    "plt.plot(fpr, tpr, label='Logistic Regression (area = %0.2f)' % logit_roc_auc)\n",
    "plt.plot([0, 1], [0, 1],'r--')\n",
    "plt.xlim([0.0, 1.0])\n",
    "plt.ylim([0.0, 1.05])\n",
    "plt.xlabel('False Positive Rate')\n",
    "plt.ylabel('True Positive Rate')\n",
    "plt.title('Receiver operating characteristic')\n",
    "plt.legend(loc=\"lower right\")\n",
    "plt.savefig('Log_ROC')\n",
    "plt.show()"
   ]
  },
  {
   "cell_type": "code",
   "execution_count": null,
   "metadata": {
    "colab": {
     "base_uri": "https://localhost:8080/",
     "height": 402
    },
    "executionInfo": {
     "elapsed": 1248,
     "status": "ok",
     "timestamp": 1604015930995,
     "user": {
      "displayName": "nelson alirio cruz gutierrez",
      "photoUrl": "https://lh3.googleusercontent.com/a-/AOh14GhDdjlbX7P6HT1cChQovqzRQSdg6HiAYjSwmILa5Q=s64",
      "userId": "04144189299847950459"
     },
     "user_tz": 300
    },
    "id": "ScVjzoQN7Y4v",
    "outputId": "1d176d2b-e379-4824-c5eb-2b29ae07acaf"
   },
   "outputs": [],
   "source": [
    "paraumbral=pd.DataFrame(np.transpose(np.round(roc_curve(y_test, logreg.predict_proba(X_test)[:,1]),4)), columns=[\"fpr\", \"tpr\", \"umbral\"])\n",
    "paraumbral"
   ]
  },
  {
   "cell_type": "code",
   "execution_count": null,
   "metadata": {
    "colab": {
     "base_uri": "https://localhost:8080/"
    },
    "executionInfo": {
     "elapsed": 573,
     "status": "ok",
     "timestamp": 1604016680468,
     "user": {
      "displayName": "nelson alirio cruz gutierrez",
      "photoUrl": "https://lh3.googleusercontent.com/a-/AOh14GhDdjlbX7P6HT1cChQovqzRQSdg6HiAYjSwmILa5Q=s64",
      "userId": "04144189299847950459"
     },
     "user_tz": 300
    },
    "id": "c7G255ms8zAI",
    "outputId": "c991b4c4-370a-42b6-f083-256c639b7601"
   },
   "outputs": [],
   "source": [
    "thres=0.5761\n",
    "y_pred= np.where(logreg.predict_proba(X_train)[:,1] > thres, 1, 0)\n",
    "y_pred"
   ]
  },
  {
   "cell_type": "code",
   "execution_count": null,
   "metadata": {
    "colab": {
     "base_uri": "https://localhost:8080/"
    },
    "executionInfo": {
     "elapsed": 526,
     "status": "ok",
     "timestamp": 1604016758629,
     "user": {
      "displayName": "nelson alirio cruz gutierrez",
      "photoUrl": "https://lh3.googleusercontent.com/a-/AOh14GhDdjlbX7P6HT1cChQovqzRQSdg6HiAYjSwmILa5Q=s64",
      "userId": "04144189299847950459"
     },
     "user_tz": 300
    },
    "id": "nMZ9-DWK9l4l",
    "outputId": "97b22c21-f3a7-471d-bff7-59d659b15009"
   },
   "outputs": [],
   "source": [
    "thres=0.5\n",
    "y_pred= np.where(logreg.predict_proba(X_train)[:,1] > thres, 1, 0)\n",
    "print(classification_report(y_train, y_pred)) ### Esto con el umbral de 0.5761"
   ]
  },
  {
   "cell_type": "code",
   "execution_count": null,
   "metadata": {
    "colab": {
     "base_uri": "https://localhost:8080/"
    },
    "executionInfo": {
     "elapsed": 544,
     "status": "ok",
     "timestamp": 1604016908110,
     "user": {
      "displayName": "nelson alirio cruz gutierrez",
      "photoUrl": "https://lh3.googleusercontent.com/a-/AOh14GhDdjlbX7P6HT1cChQovqzRQSdg6HiAYjSwmILa5Q=s64",
      "userId": "04144189299847950459"
     },
     "user_tz": 300
    },
    "id": "ItFKaIYTSHLp",
    "outputId": "39a877f2-d4fd-4bfb-f69a-f6917c597967"
   },
   "outputs": [],
   "source": [
    "thres=0.5 ## Conjunto de datos de prueba\n",
    "y_pred= np.where(logreg.predict_proba(X_test)[:,1] > thres, 1, 0)\n",
    "print(classification_report(y_test, y_pred))"
   ]
  },
  {
   "cell_type": "markdown",
   "metadata": {
    "id": "i6o3yGY4SBFV"
   },
   "source": [
    "# Para selección automática de caracteristicas"
   ]
  },
  {
   "cell_type": "code",
   "execution_count": null,
   "metadata": {
    "colab": {
     "base_uri": "https://localhost:8080/"
    },
    "executionInfo": {
     "elapsed": 927,
     "status": "ok",
     "timestamp": 1604018104173,
     "user": {
      "displayName": "nelson alirio cruz gutierrez",
      "photoUrl": "https://lh3.googleusercontent.com/a-/AOh14GhDdjlbX7P6HT1cChQovqzRQSdg6HiAYjSwmILa5Q=s64",
      "userId": "04144189299847950459"
     },
     "user_tz": 300
    },
    "id": "q6JHKfpEgsaX",
    "outputId": "bd23a786-1570-4078-8a10-49d5427831d3"
   },
   "outputs": [],
   "source": [
    "logreg1=LogisticRegression() ### LLamo a la regresión logistica\n",
    "rfe=RFE(logreg1, n_features_to_select=10) ## Le digo que solo me seleccione 10 variables mas importantes\n",
    "## Pueden ser menos si lo desea.\n",
    "rfe.fit(X_train, y_train)\n",
    "X_train.columns[rfe.ranking_==1]"
   ]
  },
  {
   "cell_type": "markdown",
   "metadata": {
    "id": "ykTQxYXW6FHd"
   },
   "source": [
    "## Despues de seleccionar las 10 variables, ajusto el modelo"
   ]
  },
  {
   "cell_type": "code",
   "execution_count": null,
   "metadata": {
    "colab": {
     "base_uri": "https://localhost:8080/"
    },
    "executionInfo": {
     "elapsed": 512,
     "status": "ok",
     "timestamp": 1604018106313,
     "user": {
      "displayName": "nelson alirio cruz gutierrez",
      "photoUrl": "https://lh3.googleusercontent.com/a-/AOh14GhDdjlbX7P6HT1cChQovqzRQSdg6HiAYjSwmILa5Q=s64",
      "userId": "04144189299847950459"
     },
     "user_tz": 300
    },
    "id": "aVJ6J3ev4PQY",
    "outputId": "d11bf676-1c72-4d89-f912-ff43b9f072dc"
   },
   "outputs": [],
   "source": [
    "Xnueva_train=X_train[X_train.columns[rfe.ranking_==1]] ## Selecciono de X las variables más importantes\n",
    "Xnueva_test=X_test[X_test.columns[rfe.ranking_==1]] ## Hago lo mismo en el conjunto de datos de prueba\n",
    "logreg.fit(Xnueva_train, y_train) ## Ajusto el modelo\n",
    "y_pred=logreg.predict(Xnueva_train) ## Pronostico el entrenamiento\n",
    "print(classification_report(y_train, y_pred)) ### Evaluo en el entrenamiento"
   ]
  },
  {
   "cell_type": "markdown",
   "metadata": {
    "id": "EPoBhfXj5_Fy"
   },
   "source": [
    "## AUC con solo 10 variables"
   ]
  },
  {
   "cell_type": "code",
   "execution_count": null,
   "metadata": {
    "colab": {
     "base_uri": "https://localhost:8080/",
     "height": 362
    },
    "executionInfo": {
     "elapsed": 662,
     "status": "ok",
     "timestamp": 1604018116217,
     "user": {
      "displayName": "nelson alirio cruz gutierrez",
      "photoUrl": "https://lh3.googleusercontent.com/a-/AOh14GhDdjlbX7P6HT1cChQovqzRQSdg6HiAYjSwmILa5Q=s64",
      "userId": "04144189299847950459"
     },
     "user_tz": 300
    },
    "id": "EHqxvMdv5mHK",
    "outputId": "11f71f0b-386a-455a-8354-7323f3912ae8"
   },
   "outputs": [],
   "source": [
    "logreg=LogisticRegression() ### Llamo la regresion\n",
    "logreg.fit(Xnueva_train, y_train)  ### La ajusto en entrenamiento\n",
    "logit_roc_auc = roc_auc_score(y_test, logreg.predict(Xnueva_test))  ## Calculo el area bajo la curva\n",
    "fpr, tpr, thresholds = roc_curve(y_test, logreg.predict_proba(Xnueva_test)[:,1]) ## Calculo la fpr(false positive rate),\n",
    "# la tpr(true positive rate) y thresholds (los umbrales)\n",
    "plt.figure()\n",
    "plt.plot(fpr, tpr, label='Logistic Regression (area = %0.2f)' % logit_roc_auc)\n",
    "plt.plot([0, 1], [0, 1],'r--')\n",
    "plt.xlim([0.0, 1.0])\n",
    "plt.ylim([0.0, 1.05])\n",
    "plt.xlabel('False Positive Rate')\n",
    "plt.ylabel('True Positive Rate')\n",
    "plt.title('Receiver operating characteristic')\n",
    "plt.legend(loc=\"lower right\")\n",
    "plt.savefig('Log_ROC')\n",
    "plt.show()"
   ]
  },
  {
   "cell_type": "code",
   "execution_count": null,
   "metadata": {
    "colab": {
     "base_uri": "https://localhost:8080/",
     "height": 462
    },
    "executionInfo": {
     "elapsed": 723,
     "status": "ok",
     "timestamp": 1604018123041,
     "user": {
      "displayName": "nelson alirio cruz gutierrez",
      "photoUrl": "https://lh3.googleusercontent.com/a-/AOh14GhDdjlbX7P6HT1cChQovqzRQSdg6HiAYjSwmILa5Q=s64",
      "userId": "04144189299847950459"
     },
     "user_tz": 300
    },
    "id": "Ji6eAJ6M6S9l",
    "outputId": "50767b2a-f0a2-4fdf-c99e-b0f9b5f0f95c"
   },
   "outputs": [],
   "source": [
    "paraumbral=pd.DataFrame(np.transpose(np.round(roc_curve(y_test, logreg.predict_proba(Xnueva_test)[:,1]),4)), columns=[\"fpr\", \"tpr\", \"umbral\"])\n",
    "paraumbral ## Selecciono el umbral"
   ]
  },
  {
   "cell_type": "code",
   "execution_count": null,
   "metadata": {
    "colab": {
     "base_uri": "https://localhost:8080/"
    },
    "executionInfo": {
     "elapsed": 614,
     "status": "ok",
     "timestamp": 1604018149252,
     "user": {
      "displayName": "nelson alirio cruz gutierrez",
      "photoUrl": "https://lh3.googleusercontent.com/a-/AOh14GhDdjlbX7P6HT1cChQovqzRQSdg6HiAYjSwmILa5Q=s64",
      "userId": "04144189299847950459"
     },
     "user_tz": 300
    },
    "id": "UF1UrbK3Sp0Q",
    "outputId": "7fcfae4e-ccc3-49df-aa1f-b119cf390cc9"
   },
   "outputs": [],
   "source": [
    "thres=0.5172 ## Conjunto de datos de prueba\n",
    "y_pred= np.where(logreg.predict_proba(Xnueva_test)[:,1] > thres, 1, 0)\n",
    "print(classification_report(y_test, y_pred))"
   ]
  },
  {
   "cell_type": "markdown",
   "metadata": {
    "id": "uZXc1VwVc46a"
   },
   "source": [
    "# Spam"
   ]
  },
  {
   "cell_type": "code",
   "execution_count": null,
   "metadata": {
    "colab": {
     "base_uri": "https://localhost:8080/"
    },
    "executionInfo": {
     "elapsed": 836,
     "status": "ok",
     "timestamp": 1604010158354,
     "user": {
      "displayName": "nelson alirio cruz gutierrez",
      "photoUrl": "https://lh3.googleusercontent.com/a-/AOh14GhDdjlbX7P6HT1cChQovqzRQSdg6HiAYjSwmILa5Q=s64",
      "userId": "04144189299847950459"
     },
     "user_tz": 300
    },
    "id": "PWEec0yuc65G",
    "outputId": "4ad6dd5e-41d6-4307-8a2e-7210dd4e2771"
   },
   "outputs": [],
   "source": [
    "url=\"https://raw.githubusercontent.com/Cruzalirio/Ucentral/master/Bases/spam.csv\"\n",
    "email=pd.read_csv(url, sep=\";\", decimal=\",\")\n",
    "Y=email[\"spam\"]\n",
    "X=email.drop([\"spam\", \"time\"], axis=1)\n",
    "X=pd.get_dummies(X, drop_first=True) \n",
    "X_train, X_test, y_train, y_test=train_test_split(X, Y, test_size=0.2, stratify=Y)\n",
    "X_train.shape"
   ]
  },
  {
   "cell_type": "code",
   "execution_count": null,
   "metadata": {
    "colab": {
     "base_uri": "https://localhost:8080/",
     "height": 463
    },
    "executionInfo": {
     "elapsed": 809,
     "status": "ok",
     "timestamp": 1604010188418,
     "user": {
      "displayName": "nelson alirio cruz gutierrez",
      "photoUrl": "https://lh3.googleusercontent.com/a-/AOh14GhDdjlbX7P6HT1cChQovqzRQSdg6HiAYjSwmILa5Q=s64",
      "userId": "04144189299847950459"
     },
     "user_tz": 300
    },
    "id": "jj9ly8UNdPWY",
    "outputId": "f21d5329-6053-4ecd-d917-e486f730305d"
   },
   "outputs": [],
   "source": [
    "logreg=LogisticRegression()\n",
    "logreg.fit(X_train, y_train)\n",
    "logit_roc_auc = roc_auc_score(y_test, logreg.predict(X_test))\n",
    "fpr, tpr, thresholds = roc_curve(y_test, logreg.predict_proba(X_test)[:,1])\n",
    "plt.figure()\n",
    "plt.plot(fpr, tpr, label='Logistic Regression (area = %0.2f)' % logit_roc_auc)\n",
    "plt.plot([0, 1], [0, 1],'r--')\n",
    "plt.xlim([0.0, 1.0])\n",
    "plt.ylim([0.0, 1.05])\n",
    "plt.xlabel('False Positive Rate')\n",
    "plt.ylabel('True Positive Rate')\n",
    "plt.title('Receiver operating characteristic')\n",
    "plt.legend(loc=\"lower right\")\n",
    "plt.savefig('Log_ROC')\n",
    "plt.show()"
   ]
  },
  {
   "cell_type": "code",
   "execution_count": null,
   "metadata": {
    "colab": {
     "base_uri": "https://localhost:8080/",
     "height": 1000
    },
    "executionInfo": {
     "elapsed": 523,
     "status": "ok",
     "timestamp": 1604010838948,
     "user": {
      "displayName": "nelson alirio cruz gutierrez",
      "photoUrl": "https://lh3.googleusercontent.com/a-/AOh14GhDdjlbX7P6HT1cChQovqzRQSdg6HiAYjSwmILa5Q=s64",
      "userId": "04144189299847950459"
     },
     "user_tz": 300
    },
    "id": "QkJn648_d59K",
    "outputId": "447f2748-c3b6-452b-f4a1-b478df96020b"
   },
   "outputs": [],
   "source": [
    "paraumbral=pd.DataFrame(np.transpose(np.round(roc_curve(y_test, logreg.predict_proba(X_test)[:,1]),4)), columns=[\"fpr\", \"tpr\", \"umbral\"])\n",
    "paraumbral[paraumbral[\"tpr\"]>0.8]"
   ]
  },
  {
   "cell_type": "code",
   "execution_count": null,
   "metadata": {
    "colab": {
     "base_uri": "https://localhost:8080/"
    },
    "executionInfo": {
     "elapsed": 748,
     "status": "ok",
     "timestamp": 1604011385312,
     "user": {
      "displayName": "nelson alirio cruz gutierrez",
      "photoUrl": "https://lh3.googleusercontent.com/a-/AOh14GhDdjlbX7P6HT1cChQovqzRQSdg6HiAYjSwmILa5Q=s64",
      "userId": "04144189299847950459"
     },
     "user_tz": 300
    },
    "id": "2kqWPllbf5Rf",
    "outputId": "efa649e7-c5ed-48c5-8cc9-c9648e138589"
   },
   "outputs": [],
   "source": [
    "thres=0.1105\n",
    "y_pred= np.where(logreg.predict_proba(X_test)[:,1] > thres, 1, 0)\n",
    "print(classification_report(y_test, y_pred))"
   ]
  },
  {
   "cell_type": "markdown",
   "metadata": {
    "id": "8VYudF1LjUCz"
   },
   "source": [
    "# Tarea\n",
    "\n",
    "Con la base [Diabetes](https://github.com/Cruzalirio/Ucentral/blob/master/Bases/Diabetes.csv) realizar una árbol y una regresión logística y compararlos"
   ]
  }
 ],
 "metadata": {
  "colab": {
   "authorship_tag": "ABX9TyPlU+SMvPU8DIM+74CPC2gr",
   "name": "14_Regresion Logistica.ipynb",
   "provenance": [],
   "toc_visible": true
  },
  "kernelspec": {
   "display_name": "Python 3",
   "language": "python",
   "name": "python3"
  },
  "language_info": {
   "codemirror_mode": {
    "name": "ipython",
    "version": 3
   },
   "file_extension": ".py",
   "mimetype": "text/x-python",
   "name": "python",
   "nbconvert_exporter": "python",
   "pygments_lexer": "ipython3",
   "version": "3.8.5"
  }
 },
 "nbformat": 4,
 "nbformat_minor": 4
}
