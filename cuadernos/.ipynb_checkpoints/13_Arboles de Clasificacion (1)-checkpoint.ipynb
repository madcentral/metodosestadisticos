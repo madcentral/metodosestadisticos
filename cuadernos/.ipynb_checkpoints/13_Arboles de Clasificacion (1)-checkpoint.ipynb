{
 "cells": [
  {
   "cell_type": "markdown",
   "metadata": {
    "id": "8KouEesbFLLd"
   },
   "source": [
    "# Arboles de clasificación\n",
    "Para la clasificación se toman en cuenta las siguientes medidas para evaluar cada division, similar al _RSS_\n",
    "\n",
    "1. Tasa de error de clasificación (Classification error rate)\n",
    "\n",
    "$$CER=1-max(\\hat{p}_{jk})$$\n",
    "Donde $\\hat{p}_{jk}$ es la proporción de observaciones de la clase j en el nodo k.\n",
    "\n",
    "2. Indice de Gini\n",
    "\n",
    "$$GI=\\sum_{j=1}^J \\hat{p}_{jk} (1- \\hat{p}_{jk}) $$\n",
    "\n",
    "3. Chi cuadrado\n",
    "\n",
    "$$\\chi^2=\\sum_{j=1}^J \\frac{(Observado_j-Esperado_j)^2}{Esperado_j}$$\n",
    "\n",
    "4. Entropia cruzada (Cross Entropy)\n",
    "\n",
    "$$D=-\\sum_{j=1}^J \\hat{p}_{jk} \\ln(\\hat{p}_{jk})$$\n",
    "\n",
    "\n",
    "El proceso de construcción se hace en los siguientes pasos:\n",
    "\n",
    "1. Para cada división se calcula la medida predefinida\n",
    "\n",
    "2. Se calcula el valor\n",
    "\n",
    "$$\\frac{n_A\\times m_A + n_B \\times m_B}{n}$$\n",
    "\n",
    "3. Se selecciona la divisón que tenga el mejor valor de la medida del paso 2\n",
    "\n",
    "4. Al finalizar la construcción del arbol se calcula la deviance total como\n",
    "\n",
    "$$Deviance=-2\\sum_{j=1}^J \\sum_{k=1}^K n_{jk}\\ln (\\hat{p}_{jk})$$\n",
    "y la _residual mean deviance_ como $Deviance/(n-K)$\n",
    "\n"
   ]
  },
  {
   "cell_type": "code",
   "execution_count": null,
   "metadata": {
    "executionInfo": {
     "elapsed": 1101,
     "status": "ok",
     "timestamp": 1603839968609,
     "user": {
      "displayName": "nelson alirio cruz gutierrez",
      "photoUrl": "https://lh3.googleusercontent.com/a-/AOh14GhDdjlbX7P6HT1cChQovqzRQSdg6HiAYjSwmILa5Q=s64",
      "userId": "04144189299847950459"
     },
     "user_tz": 300
    },
    "id": "09vV7a_4FFUg"
   },
   "outputs": [],
   "source": [
    "import pandas as pd\n",
    "import numpy as np\n",
    "import plotly.express as px\n",
    "import matplotlib.pyplot as plt\n",
    "from scipy import stats\n",
    "from sklearn.feature_selection import RFE\n",
    "from sklearn.model_selection import train_test_split\n",
    "from sklearn import linear_model, tree\n",
    "from sklearn.metrics import confusion_matrix, accuracy_score, precision_score, classification_report\n",
    "from sklearn.model_selection import GridSearchCV\n"
   ]
  },
  {
   "cell_type": "code",
   "execution_count": null,
   "metadata": {
    "colab": {
     "base_uri": "https://localhost:8080/",
     "height": 34
    },
    "executionInfo": {
     "elapsed": 891,
     "status": "ok",
     "timestamp": 1603409928662,
     "user": {
      "displayName": "nelson alirio cruz gutierrez",
      "photoUrl": "https://lh3.googleusercontent.com/a-/AOh14GhDdjlbX7P6HT1cChQovqzRQSdg6HiAYjSwmILa5Q=s64",
      "userId": "04144189299847950459"
     },
     "user_tz": 300
    },
    "id": "VnzsHxpSMxi4",
    "outputId": "743eecbd-d6ac-491b-fac4-ea16c01a08c0"
   },
   "outputs": [],
   "source": [
    "url=\"https://raw.githubusercontent.com/Cruzalirio/Ucentral/master/Bases/Cancer.csv\"\n",
    "cancer=pd.read_csv(url, sep=\";\", index_col=0)\n",
    "Y=cancer[\"Tipo\"]\n",
    "X=cancer.drop(\"Tipo\", axis=1)\n",
    "X_train, X_test, y_train, y_test=train_test_split(X, Y, test_size=0.2)\n",
    "X_train.shape"
   ]
  },
  {
   "cell_type": "markdown",
   "metadata": {
    "id": "fXCJCRcCruVz"
   },
   "source": [
    "# Arbol de clasificación\n",
    "\n",
    "[Acá](https://scikit-learn.org/stable/modules/generated/sklearn.tree.DecisionTreeClassifier.html)"
   ]
  },
  {
   "cell_type": "code",
   "execution_count": null,
   "metadata": {
    "colab": {
     "base_uri": "https://localhost:8080/",
     "height": 887
    },
    "executionInfo": {
     "elapsed": 1886,
     "status": "ok",
     "timestamp": 1603410059574,
     "user": {
      "displayName": "nelson alirio cruz gutierrez",
      "photoUrl": "https://lh3.googleusercontent.com/a-/AOh14GhDdjlbX7P6HT1cChQovqzRQSdg6HiAYjSwmILa5Q=s64",
      "userId": "04144189299847950459"
     },
     "user_tz": 300
    },
    "id": "MwuizeudM09P",
    "outputId": "e77da758-1bd3-417e-f606-da0586912301"
   },
   "outputs": [],
   "source": [
    "## Construcción del arbol\n",
    "arbol=tree.DecisionTreeClassifier(criterion=\"gini\", min_samples_split=20, min_samples_leaf=10)\n",
    "arbol.fit(X_train, y_train)\n",
    "fig = plt.figure(figsize=(25,20))\n",
    "_ = tree.plot_tree(arbol, feature_names=X_train.columns, filled=True)"
   ]
  },
  {
   "cell_type": "markdown",
   "metadata": {
    "id": "Xc27gXBzNw16"
   },
   "source": [
    "# Matriz de confusión"
   ]
  },
  {
   "cell_type": "code",
   "execution_count": null,
   "metadata": {
    "colab": {
     "base_uri": "https://localhost:8080/",
     "height": 50
    },
    "executionInfo": {
     "elapsed": 398,
     "status": "ok",
     "timestamp": 1603410393539,
     "user": {
      "displayName": "nelson alirio cruz gutierrez",
      "photoUrl": "https://lh3.googleusercontent.com/a-/AOh14GhDdjlbX7P6HT1cChQovqzRQSdg6HiAYjSwmILa5Q=s64",
      "userId": "04144189299847950459"
     },
     "user_tz": 300
    },
    "id": "B5r9j4pqNzgp",
    "outputId": "f63c6ed5-2256-4655-9fd7-1e9705d522ef"
   },
   "outputs": [],
   "source": [
    "y_pred=arbol.predict(X_test)\n",
    "confusion_matrix(y_test, y_pred)"
   ]
  },
  {
   "cell_type": "markdown",
   "metadata": {
    "id": "B1u9zy5qeF1t"
   },
   "source": [
    "# Metricas de evaluación de un árbol\n",
    "\n",
    "Las métricas estan [acá](https://scikit-learn.org/stable/modules/model_evaluation.html) \n",
    "\n",
    "1. Accuracy \n",
    "$$Acc=\\frac{VP+VN}{n}$$\n",
    "\n",
    "2. Balanced Accuracy\n",
    "\n",
    "$$BAcc=\\frac{1}{2}\\left(\\frac{VP}{VP+FN}+\\frac{VN}{VN+FP} \\right)$$\n",
    "\n",
    "3. Precision\n",
    "$$Prec=\\frac{VP}{VP+FP}$$\n",
    "\n",
    "4. Recall\n",
    "$$Recall=\\frac{VP}{VP+FN}$$\n",
    "\n",
    "5. F1-score\n",
    "\n",
    "$$F_1=\\frac{2 (precision \\times recall) }{precision + recall}$$\n",
    "\n",
    "6. F-score\n",
    "\n",
    "$$F_\\beta=(1+\\beta^2)\\frac{(precision \\times recall) }{\\beta^2 precision + recall}$$\n",
    "\n",
    "$$F_\\beta=\\frac{(1+\\beta^2)VP }{(1+\\beta^2)VP+\n",
    " \\beta^2 FN +FP}$$\n",
    "\n",
    "Generalmente $\\beta=2$ o $\\beta=1$ [Click](https://en.wikipedia.org/wiki/F-score)"
   ]
  },
  {
   "cell_type": "markdown",
   "metadata": {
    "id": "icUW23aVkNVD"
   },
   "source": [
    "# Podando con la profundidad\n"
   ]
  },
  {
   "cell_type": "code",
   "execution_count": null,
   "metadata": {
    "colab": {
     "base_uri": "https://localhost:8080/",
     "height": 34
    },
    "executionInfo": {
     "elapsed": 1131,
     "status": "ok",
     "timestamp": 1603411798435,
     "user": {
      "displayName": "nelson alirio cruz gutierrez",
      "photoUrl": "https://lh3.googleusercontent.com/a-/AOh14GhDdjlbX7P6HT1cChQovqzRQSdg6HiAYjSwmILa5Q=s64",
      "userId": "04144189299847950459"
     },
     "user_tz": 300
    },
    "id": "Cd5oxI_0jXjN",
    "outputId": "4876986f-fd5e-4ecd-871e-c1ee7a9aaa67"
   },
   "outputs": [],
   "source": [
    "### Validacion cruzada para obtener la profundidad optima\n",
    "parameters = {'max_depth':range(2,20)} ### voy a probar desde 3 hasta 20\n",
    "arbol= GridSearchCV(tree.DecisionTreeClassifier(), parameters,scoring=\"balanced_accuracy\", n_jobs=-1) ## Metrica r2\n",
    "arbol.fit(X=X_train, y=y_train)\n",
    "tree_model = arbol.best_estimator_ ## El mejor modelo\n",
    "print (arbol.best_score_, arbol.best_params_) "
   ]
  },
  {
   "cell_type": "code",
   "execution_count": null,
   "metadata": {
    "colab": {
     "base_uri": "https://localhost:8080/",
     "height": 887
    },
    "executionInfo": {
     "elapsed": 1682,
     "status": "ok",
     "timestamp": 1603412704847,
     "user": {
      "displayName": "nelson alirio cruz gutierrez",
      "photoUrl": "https://lh3.googleusercontent.com/a-/AOh14GhDdjlbX7P6HT1cChQovqzRQSdg6HiAYjSwmILa5Q=s64",
      "userId": "04144189299847950459"
     },
     "user_tz": 300
    },
    "id": "7TYy7cQuj9mM",
    "outputId": "0809a672-0039-4085-e049-2fc31293ab39"
   },
   "outputs": [],
   "source": [
    "arbol=tree.DecisionTreeClassifier(criterion=\"gini\", max_depth=4)\n",
    "arbol.fit(X_train, y_train)\n",
    "fig = plt.figure(figsize=(25,20))\n",
    "_ = tree.plot_tree(arbol, feature_names=X_train.columns, filled=True)"
   ]
  },
  {
   "cell_type": "code",
   "execution_count": null,
   "metadata": {
    "colab": {
     "base_uri": "https://localhost:8080/",
     "height": 50
    },
    "executionInfo": {
     "elapsed": 401,
     "status": "ok",
     "timestamp": 1603412710899,
     "user": {
      "displayName": "nelson alirio cruz gutierrez",
      "photoUrl": "https://lh3.googleusercontent.com/a-/AOh14GhDdjlbX7P6HT1cChQovqzRQSdg6HiAYjSwmILa5Q=s64",
      "userId": "04144189299847950459"
     },
     "user_tz": 300
    },
    "id": "r0vpoavukVXh",
    "outputId": "0aac9b33-9449-486a-b669-f34f3c56df8d"
   },
   "outputs": [],
   "source": [
    "y_pred=arbol.predict(X_test)\n",
    "confusion_matrix(y_test, y_pred)"
   ]
  },
  {
   "cell_type": "code",
   "execution_count": null,
   "metadata": {
    "colab": {
     "base_uri": "https://localhost:8080/",
     "height": 168
    },
    "executionInfo": {
     "elapsed": 445,
     "status": "ok",
     "timestamp": 1603412712879,
     "user": {
      "displayName": "nelson alirio cruz gutierrez",
      "photoUrl": "https://lh3.googleusercontent.com/a-/AOh14GhDdjlbX7P6HT1cChQovqzRQSdg6HiAYjSwmILa5Q=s64",
      "userId": "04144189299847950459"
     },
     "user_tz": 300
    },
    "id": "gLqnMGBT2CU6",
    "outputId": "45c4b5ca-c4f6-41ec-c8d3-da2c70a891db"
   },
   "outputs": [],
   "source": [
    "from sklearn.metrics import classification_report\n",
    "print(classification_report(y_test, y_pred))"
   ]
  },
  {
   "cell_type": "code",
   "execution_count": null,
   "metadata": {
    "colab": {
     "base_uri": "https://localhost:8080/",
     "height": 34
    },
    "executionInfo": {
     "elapsed": 451,
     "status": "ok",
     "timestamp": 1603412132758,
     "user": {
      "displayName": "nelson alirio cruz gutierrez",
      "photoUrl": "https://lh3.googleusercontent.com/a-/AOh14GhDdjlbX7P6HT1cChQovqzRQSdg6HiAYjSwmILa5Q=s64",
      "userId": "04144189299847950459"
     },
     "user_tz": 300
    },
    "id": "aoDxa7XdkYxR",
    "outputId": "9b4bc669-7bb5-41d8-cc89-d51d0e753e80"
   },
   "outputs": [],
   "source": [
    "from sklearn.metrics import accuracy_score\n",
    "accuracy_score(y_test, y_pred)"
   ]
  },
  {
   "cell_type": "code",
   "execution_count": null,
   "metadata": {
    "colab": {
     "base_uri": "https://localhost:8080/",
     "height": 34
    },
    "executionInfo": {
     "elapsed": 337,
     "status": "ok",
     "timestamp": 1603412334770,
     "user": {
      "displayName": "nelson alirio cruz gutierrez",
      "photoUrl": "https://lh3.googleusercontent.com/a-/AOh14GhDdjlbX7P6HT1cChQovqzRQSdg6HiAYjSwmILa5Q=s64",
      "userId": "04144189299847950459"
     },
     "user_tz": 300
    },
    "id": "YkgUBHiQz6G-",
    "outputId": "035fa9db-49bd-49af-abf5-353f85700c76"
   },
   "outputs": [],
   "source": [
    "from sklearn.metrics import recall_score\n",
    "recall_score(pd.get_dummies(y_test, drop_first=True), pd.get_dummies(y_pred, drop_first=True))"
   ]
  },
  {
   "cell_type": "code",
   "execution_count": null,
   "metadata": {
    "colab": {
     "base_uri": "https://localhost:8080/",
     "height": 34
    },
    "executionInfo": {
     "elapsed": 418,
     "status": "ok",
     "timestamp": 1603412384199,
     "user": {
      "displayName": "nelson alirio cruz gutierrez",
      "photoUrl": "https://lh3.googleusercontent.com/a-/AOh14GhDdjlbX7P6HT1cChQovqzRQSdg6HiAYjSwmILa5Q=s64",
      "userId": "04144189299847950459"
     },
     "user_tz": 300
    },
    "id": "Y-boVeFF0xVM",
    "outputId": "42298852-1bf7-445c-9cde-5927e755a91f"
   },
   "outputs": [],
   "source": [
    "from sklearn.metrics import precision_score\n",
    "precision_score(pd.get_dummies(y_test, drop_first=True), pd.get_dummies(y_pred, drop_first=True))"
   ]
  },
  {
   "cell_type": "code",
   "execution_count": null,
   "metadata": {
    "colab": {
     "base_uri": "https://localhost:8080/",
     "height": 34
    },
    "executionInfo": {
     "elapsed": 401,
     "status": "ok",
     "timestamp": 1603412448892,
     "user": {
      "displayName": "nelson alirio cruz gutierrez",
      "photoUrl": "https://lh3.googleusercontent.com/a-/AOh14GhDdjlbX7P6HT1cChQovqzRQSdg6HiAYjSwmILa5Q=s64",
      "userId": "04144189299847950459"
     },
     "user_tz": 300
    },
    "id": "1R2RRGPS1CSF",
    "outputId": "41795fe0-41ad-48bb-9702-22a4ed512dcc"
   },
   "outputs": [],
   "source": [
    "from sklearn.metrics import f1_score\n",
    "f1_score(pd.get_dummies(y_test, drop_first=True), pd.get_dummies(y_pred, drop_first=True))"
   ]
  },
  {
   "cell_type": "markdown",
   "metadata": {
    "id": "xgU2H7Oekk-j"
   },
   "source": [
    "# Podando con $\\alpha$\n"
   ]
  },
  {
   "cell_type": "code",
   "execution_count": null,
   "metadata": {
    "colab": {
     "base_uri": "https://localhost:8080/",
     "height": 312
    },
    "executionInfo": {
     "elapsed": 505,
     "status": "ok",
     "timestamp": 1603412472805,
     "user": {
      "displayName": "nelson alirio cruz gutierrez",
      "photoUrl": "https://lh3.googleusercontent.com/a-/AOh14GhDdjlbX7P6HT1cChQovqzRQSdg6HiAYjSwmILa5Q=s64",
      "userId": "04144189299847950459"
     },
     "user_tz": 300
    },
    "id": "cooH4AvJkpfj",
    "outputId": "ec57c156-d9a1-4734-e962-37c1ef3c8587"
   },
   "outputs": [],
   "source": [
    "arbol = tree.DecisionTreeClassifier(random_state=0)\n",
    "alpha= arbol.cost_complexity_pruning_path(X_train, y_train)\n",
    "ccp_alphas, impurities = alpha.ccp_alphas, alpha.impurities\n",
    "fig, ax = plt.subplots()\n",
    "ax.plot(ccp_alphas[:-1], impurities[:-1], marker='o', drawstyle=\"steps-post\")\n",
    "ax.set_xlabel(\"effective alpha\")\n",
    "ax.set_ylabel(\"total impurity of leaves\")\n",
    "ax.set_title(\"Total Impurity vs effective alpha for training set\")"
   ]
  },
  {
   "cell_type": "code",
   "execution_count": null,
   "metadata": {
    "colab": {
     "base_uri": "https://localhost:8080/",
     "height": 887
    },
    "executionInfo": {
     "elapsed": 1094,
     "status": "ok",
     "timestamp": 1603412484934,
     "user": {
      "displayName": "nelson alirio cruz gutierrez",
      "photoUrl": "https://lh3.googleusercontent.com/a-/AOh14GhDdjlbX7P6HT1cChQovqzRQSdg6HiAYjSwmILa5Q=s64",
      "userId": "04144189299847950459"
     },
     "user_tz": 300
    },
    "id": "VJaP9Mtmkw1X",
    "outputId": "c4be2f4a-80ce-4252-8e63-39ed30b2cfaf"
   },
   "outputs": [],
   "source": [
    "arbol=tree.DecisionTreeClassifier(criterion=\"gini\",ccp_alpha=0.02)\n",
    "arbol.fit(X_train, y_train)\n",
    "fig = plt.figure(figsize=(25,20))\n",
    "_ = tree.plot_tree(arbol, feature_names=X_train.columns, filled=True)"
   ]
  },
  {
   "cell_type": "code",
   "execution_count": null,
   "metadata": {
    "colab": {
     "base_uri": "https://localhost:8080/",
     "height": 50
    },
    "executionInfo": {
     "elapsed": 495,
     "status": "ok",
     "timestamp": 1603412497678,
     "user": {
      "displayName": "nelson alirio cruz gutierrez",
      "photoUrl": "https://lh3.googleusercontent.com/a-/AOh14GhDdjlbX7P6HT1cChQovqzRQSdg6HiAYjSwmILa5Q=s64",
      "userId": "04144189299847950459"
     },
     "user_tz": 300
    },
    "id": "EPMZ17Q5k3yP",
    "outputId": "9ebacdf3-b903-47f0-f29c-c89bac592f30"
   },
   "outputs": [],
   "source": [
    "y_pred=arbol.predict(X_test)\n",
    "confusion_matrix(y_test, y_pred)"
   ]
  },
  {
   "cell_type": "code",
   "execution_count": null,
   "metadata": {
    "colab": {
     "base_uri": "https://localhost:8080/",
     "height": 168
    },
    "executionInfo": {
     "elapsed": 373,
     "status": "ok",
     "timestamp": 1603412536504,
     "user": {
      "displayName": "nelson alirio cruz gutierrez",
      "photoUrl": "https://lh3.googleusercontent.com/a-/AOh14GhDdjlbX7P6HT1cChQovqzRQSdg6HiAYjSwmILa5Q=s64",
      "userId": "04144189299847950459"
     },
     "user_tz": 300
    },
    "id": "9xKr7CYG1Z9f",
    "outputId": "990510d7-8f68-4a09-fcec-02b7712bc156"
   },
   "outputs": [],
   "source": [
    "from sklearn.metrics import classification_report\n",
    "print(classification_report(y_test, y_pred))"
   ]
  },
  {
   "cell_type": "markdown",
   "metadata": {
    "id": "8e5nQzfeOZf4"
   },
   "source": [
    "# Base de Spam"
   ]
  },
  {
   "cell_type": "code",
   "execution_count": null,
   "metadata": {
    "colab": {
     "base_uri": "https://localhost:8080/",
     "height": 758
    },
    "executionInfo": {
     "elapsed": 435,
     "status": "ok",
     "timestamp": 1603412771817,
     "user": {
      "displayName": "nelson alirio cruz gutierrez",
      "photoUrl": "https://lh3.googleusercontent.com/a-/AOh14GhDdjlbX7P6HT1cChQovqzRQSdg6HiAYjSwmILa5Q=s64",
      "userId": "04144189299847950459"
     },
     "user_tz": 300
    },
    "id": "60wR414tOh8Q",
    "outputId": "4a0d0638-1c67-4ff7-9a00-5d0dc7806781"
   },
   "outputs": [],
   "source": [
    "url=\"https://raw.githubusercontent.com/Cruzalirio/Ucentral/master/Bases/spam.csv\"\n",
    "email=pd.read_csv(url, sep=\";\", decimal=\",\")\n",
    "email"
   ]
  },
  {
   "cell_type": "code",
   "execution_count": null,
   "metadata": {
    "colab": {
     "base_uri": "https://localhost:8080/",
     "height": 84
    },
    "executionInfo": {
     "elapsed": 465,
     "status": "ok",
     "timestamp": 1603412932681,
     "user": {
      "displayName": "nelson alirio cruz gutierrez",
      "photoUrl": "https://lh3.googleusercontent.com/a-/AOh14GhDdjlbX7P6HT1cChQovqzRQSdg6HiAYjSwmILa5Q=s64",
      "userId": "04144189299847950459"
     },
     "user_tz": 300
    },
    "id": "uERVxGyO234L",
    "outputId": "18a4651f-135a-4829-8d87-b7fb1f335346"
   },
   "outputs": [],
   "source": [
    "email.groupby([\"spam\"]).size()"
   ]
  },
  {
   "cell_type": "code",
   "execution_count": null,
   "metadata": {
    "colab": {
     "base_uri": "https://localhost:8080/",
     "height": 34
    },
    "executionInfo": {
     "elapsed": 410,
     "status": "ok",
     "timestamp": 1603414795386,
     "user": {
      "displayName": "nelson alirio cruz gutierrez",
      "photoUrl": "https://lh3.googleusercontent.com/a-/AOh14GhDdjlbX7P6HT1cChQovqzRQSdg6HiAYjSwmILa5Q=s64",
      "userId": "04144189299847950459"
     },
     "user_tz": 300
    },
    "id": "00eMIA_YP4Ac",
    "outputId": "f387fa9f-fb45-4154-c0b5-f60758a9de43"
   },
   "outputs": [],
   "source": [
    "Y=email[\"spam\"].astype(str) ### Volver a Y cualitativa\n",
    "X=email.drop([\"spam\", \"time\"], axis=1)\n",
    "X=pd.get_dummies(X, drop_first=True) \n",
    "X_train, X_test, y_train, y_test=train_test_split(X, Y, test_size=0.2, stratify=Y)\n",
    "X_train.shape"
   ]
  },
  {
   "cell_type": "code",
   "execution_count": null,
   "metadata": {
    "colab": {
     "base_uri": "https://localhost:8080/",
     "height": 887
    },
    "executionInfo": {
     "elapsed": 1552,
     "status": "ok",
     "timestamp": 1603414804345,
     "user": {
      "displayName": "nelson alirio cruz gutierrez",
      "photoUrl": "https://lh3.googleusercontent.com/a-/AOh14GhDdjlbX7P6HT1cChQovqzRQSdg6HiAYjSwmILa5Q=s64",
      "userId": "04144189299847950459"
     },
     "user_tz": 300
    },
    "id": "2PYql6c-QGg1",
    "outputId": "3ce496c8-583d-4d2f-f834-61738d88102d"
   },
   "outputs": [],
   "source": [
    "## Construcción del arbol\n",
    "arbol=tree.DecisionTreeClassifier(criterion=\"gini\", max_depth=4)\n",
    "arbol.fit(X_train, y_train)\n",
    "fig = plt.figure(figsize=(25,20))\n",
    "_ = tree.plot_tree(arbol, feature_names=X_train.columns, filled=True)"
   ]
  },
  {
   "cell_type": "code",
   "execution_count": null,
   "metadata": {
    "colab": {
     "base_uri": "https://localhost:8080/",
     "height": 50
    },
    "executionInfo": {
     "elapsed": 457,
     "status": "ok",
     "timestamp": 1603414807288,
     "user": {
      "displayName": "nelson alirio cruz gutierrez",
      "photoUrl": "https://lh3.googleusercontent.com/a-/AOh14GhDdjlbX7P6HT1cChQovqzRQSdg6HiAYjSwmILa5Q=s64",
      "userId": "04144189299847950459"
     },
     "user_tz": 300
    },
    "id": "JAAzGtknURJA",
    "outputId": "28aa11b7-2659-4deb-9863-ce7fda227004"
   },
   "outputs": [],
   "source": [
    "y_pred=arbol.predict(X_test)\n",
    "confusion_matrix(y_test, y_pred)\n"
   ]
  },
  {
   "cell_type": "code",
   "execution_count": null,
   "metadata": {
    "colab": {
     "base_uri": "https://localhost:8080/",
     "height": 168
    },
    "executionInfo": {
     "elapsed": 378,
     "status": "ok",
     "timestamp": 1603414809728,
     "user": {
      "displayName": "nelson alirio cruz gutierrez",
      "photoUrl": "https://lh3.googleusercontent.com/a-/AOh14GhDdjlbX7P6HT1cChQovqzRQSdg6HiAYjSwmILa5Q=s64",
      "userId": "04144189299847950459"
     },
     "user_tz": 300
    },
    "id": "37cnpd_F48AV",
    "outputId": "f6d852bc-4462-4937-86c3-24a56d3b1b30"
   },
   "outputs": [],
   "source": [
    "from sklearn.metrics import classification_report\n",
    "print(classification_report(y_test, y_pred))"
   ]
  },
  {
   "cell_type": "code",
   "execution_count": null,
   "metadata": {
    "colab": {
     "base_uri": "https://localhost:8080/",
     "height": 34
    },
    "executionInfo": {
     "elapsed": 1747,
     "status": "ok",
     "timestamp": 1603414815732,
     "user": {
      "displayName": "nelson alirio cruz gutierrez",
      "photoUrl": "https://lh3.googleusercontent.com/a-/AOh14GhDdjlbX7P6HT1cChQovqzRQSdg6HiAYjSwmILa5Q=s64",
      "userId": "04144189299847950459"
     },
     "user_tz": 300
    },
    "id": "VFK1FViBSCpz",
    "outputId": "2ba0ac56-8d69-4338-fff1-30f42baf693b"
   },
   "outputs": [],
   "source": [
    "### Validacion cruzada para obtener la profundidad optima\n",
    "parameters = {'max_depth':range(2,20)} ### voy a probar desde 3 hasta 20\n",
    "arbol= GridSearchCV(tree.DecisionTreeClassifier(), parameters,scoring=\"accuracy\", n_jobs=-1) ## Metrica r2\n",
    "arbol.fit(X=X_train, y=y_train)\n",
    "tree_model = arbol.best_estimator_ ## El mejor modelo\n",
    "print (arbol.best_score_, arbol.best_params_) "
   ]
  },
  {
   "cell_type": "code",
   "execution_count": null,
   "metadata": {
    "colab": {
     "base_uri": "https://localhost:8080/",
     "height": 887
    },
    "executionInfo": {
     "elapsed": 4090,
     "status": "ok",
     "timestamp": 1603414821725,
     "user": {
      "displayName": "nelson alirio cruz gutierrez",
      "photoUrl": "https://lh3.googleusercontent.com/a-/AOh14GhDdjlbX7P6HT1cChQovqzRQSdg6HiAYjSwmILa5Q=s64",
      "userId": "04144189299847950459"
     },
     "user_tz": 300
    },
    "id": "0Cp3tWWZSSWL",
    "outputId": "43c41779-b4b7-48b4-f738-8e72d6043a46"
   },
   "outputs": [],
   "source": [
    "## Construcción del arbol\n",
    "arbol=tree.DecisionTreeClassifier(criterion=\"gini\", max_depth=7)\n",
    "arbol.fit(X_train, y_train)\n",
    "fig = plt.figure(figsize=(25,20))\n",
    "_ = tree.plot_tree(arbol, feature_names=X_train.columns, filled=True)"
   ]
  },
  {
   "cell_type": "code",
   "execution_count": null,
   "metadata": {
    "colab": {
     "base_uri": "https://localhost:8080/",
     "height": 50
    },
    "executionInfo": {
     "elapsed": 398,
     "status": "ok",
     "timestamp": 1603414824643,
     "user": {
      "displayName": "nelson alirio cruz gutierrez",
      "photoUrl": "https://lh3.googleusercontent.com/a-/AOh14GhDdjlbX7P6HT1cChQovqzRQSdg6HiAYjSwmILa5Q=s64",
      "userId": "04144189299847950459"
     },
     "user_tz": 300
    },
    "id": "iT9-IVy5Sb6a",
    "outputId": "bd1f2e82-07fa-430c-c5bb-5e25ca09ce14"
   },
   "outputs": [],
   "source": [
    "y_pred=arbol.predict(X_test)\n",
    "confusion_matrix(y_test, y_pred)"
   ]
  },
  {
   "cell_type": "markdown",
   "metadata": {
    "id": "z4obZ4kT6HvT"
   },
   "source": [
    "## Problema\n",
    "Como hay pocos datos de spam, entonces el modelo se ajusta muy mal a elegir un correo como Spam.\n",
    "\n",
    "Dos soluciones:\n",
    "1. Aumentar datos, lo cual es muy usado en imagenes\n",
    "2. Reducir datos en la categoria más grande"
   ]
  },
  {
   "cell_type": "markdown",
   "metadata": {
    "id": "A1fxETl36ggl"
   },
   "source": [
    "# Tarea\n",
    "Seleccione una muestra de 367 datos no Spam y unala a los 367 datos de spam y construya el árbol y evalue las métricas "
   ]
  },
  {
   "cell_type": "code",
   "execution_count": null,
   "metadata": {
    "colab": {
     "base_uri": "https://localhost:8080/",
     "height": 84
    },
    "executionInfo": {
     "elapsed": 406,
     "status": "ok",
     "timestamp": 1603414962083,
     "user": {
      "displayName": "nelson alirio cruz gutierrez",
      "photoUrl": "https://lh3.googleusercontent.com/a-/AOh14GhDdjlbX7P6HT1cChQovqzRQSdg6HiAYjSwmILa5Q=s64",
      "userId": "04144189299847950459"
     },
     "user_tz": 300
    },
    "id": "hjOgwJhb7CRs",
    "outputId": "93b0d0ed-6b1f-4cbc-bec1-777a6de35d82"
   },
   "outputs": [],
   "source": [
    "NoSpam=email[email[\"spam\"]==0]\n",
    "Spam=email[email[\"spam\"]==1]\n",
    "SampleNoS=NoSpam.sample(n=Spam.shape[0])\n",
    "Base=pd.concat([Spam, SampleNoS])\n",
    "Base.groupby(\"spam\").size()"
   ]
  },
  {
   "cell_type": "code",
   "execution_count": null,
   "metadata": {
    "id": "TmXoTzgJ7w33"
   },
   "outputs": [],
   "source": [
    "Y=Base[\"spam\"].astype(str) ### Volver a Y cualitativa\n",
    "X=Base.drop([\"spam\", \"time\"], axis=1)\n",
    "X=pd.get_dummies(X, drop_first=True) \n",
    "X_train, X_test, y_train, y_test=train_test_split(X, Y, test_size=0.2, stratify=Y)"
   ]
  },
  {
   "cell_type": "code",
   "execution_count": null,
   "metadata": {
    "colab": {
     "base_uri": "https://localhost:8080/",
     "height": 34
    },
    "executionInfo": {
     "elapsed": 2276,
     "status": "ok",
     "timestamp": 1603415223860,
     "user": {
      "displayName": "nelson alirio cruz gutierrez",
      "photoUrl": "https://lh3.googleusercontent.com/a-/AOh14GhDdjlbX7P6HT1cChQovqzRQSdg6HiAYjSwmILa5Q=s64",
      "userId": "04144189299847950459"
     },
     "user_tz": 300
    },
    "id": "3Pbsn-gR759T",
    "outputId": "bccd202e-8802-4f14-e8f8-fbecc071f318"
   },
   "outputs": [],
   "source": [
    "### Validacion cruzada para obtener la profundidad optima\n",
    "parameters = {'max_depth':range(2,20)} ### voy a probar desde 3 hasta 20\n",
    "arbol= GridSearchCV(tree.DecisionTreeClassifier(), parameters,scoring=\"accuracy\", n_jobs=-1) ## Metrica r2\n",
    "arbol.fit(X=X_train, y=y_train)\n",
    "tree_model = arbol.best_estimator_ ## El mejor modelo\n",
    "print (arbol.best_score_, arbol.best_params_) "
   ]
  },
  {
   "cell_type": "code",
   "execution_count": null,
   "metadata": {
    "colab": {
     "base_uri": "https://localhost:8080/",
     "height": 887
    },
    "executionInfo": {
     "elapsed": 1138,
     "status": "ok",
     "timestamp": 1603415228756,
     "user": {
      "displayName": "nelson alirio cruz gutierrez",
      "photoUrl": "https://lh3.googleusercontent.com/a-/AOh14GhDdjlbX7P6HT1cChQovqzRQSdg6HiAYjSwmILa5Q=s64",
      "userId": "04144189299847950459"
     },
     "user_tz": 300
    },
    "id": "J444xrFx7-CX",
    "outputId": "1790f2b1-8279-473b-ee55-9a8e9aa187c1"
   },
   "outputs": [],
   "source": [
    "## Construcción del arbol\n",
    "arbol=tree.DecisionTreeClassifier(criterion=\"gini\", max_depth=3)\n",
    "arbol.fit(X_train, y_train)\n",
    "fig = plt.figure(figsize=(25,20))\n",
    "_ = tree.plot_tree(arbol, feature_names=X_train.columns, filled=True)"
   ]
  },
  {
   "cell_type": "code",
   "execution_count": null,
   "metadata": {
    "colab": {
     "base_uri": "https://localhost:8080/",
     "height": 168
    },
    "executionInfo": {
     "elapsed": 422,
     "status": "ok",
     "timestamp": 1603415235577,
     "user": {
      "displayName": "nelson alirio cruz gutierrez",
      "photoUrl": "https://lh3.googleusercontent.com/a-/AOh14GhDdjlbX7P6HT1cChQovqzRQSdg6HiAYjSwmILa5Q=s64",
      "userId": "04144189299847950459"
     },
     "user_tz": 300
    },
    "id": "glhSap8q8LSq",
    "outputId": "4ba884af-5f66-490e-c46f-22159bf4dcf9"
   },
   "outputs": [],
   "source": [
    "from sklearn.metrics import classification_report\n",
    "y_pred=arbol.predict(X_test)\n",
    "print(classification_report(y_test, y_pred))"
   ]
  },
  {
   "cell_type": "markdown",
   "metadata": {
    "id": "vP-NPhdMBP-D"
   },
   "source": [
    "# Tarea,\n",
    "Encontrar el \"mejor\" arbol para clasificar la clase del vino"
   ]
  },
  {
   "cell_type": "code",
   "execution_count": null,
   "metadata": {
    "colab": {
     "base_uri": "https://localhost:8080/",
     "height": 455
    },
    "executionInfo": {
     "elapsed": 1229,
     "status": "ok",
     "timestamp": 1603839994558,
     "user": {
      "displayName": "nelson alirio cruz gutierrez",
      "photoUrl": "https://lh3.googleusercontent.com/a-/AOh14GhDdjlbX7P6HT1cChQovqzRQSdg6HiAYjSwmILa5Q=s64",
      "userId": "04144189299847950459"
     },
     "user_tz": 300
    },
    "id": "NMxJYXzjBPbz",
    "outputId": "a30a6d0d-bbb8-434c-c666-27c607cc0e36"
   },
   "outputs": [],
   "source": [
    "url=\"https://raw.githubusercontent.com/Cruzalirio/Ucentral/master/Bases/Vino.csv\"\n",
    "vino=pd.read_csv(url, sep=\";\", decimal=\",\")\n",
    "vino"
   ]
  },
  {
   "cell_type": "code",
   "execution_count": null,
   "metadata": {
    "executionInfo": {
     "elapsed": 787,
     "status": "ok",
     "timestamp": 1603840072535,
     "user": {
      "displayName": "nelson alirio cruz gutierrez",
      "photoUrl": "https://lh3.googleusercontent.com/a-/AOh14GhDdjlbX7P6HT1cChQovqzRQSdg6HiAYjSwmILa5Q=s64",
      "userId": "04144189299847950459"
     },
     "user_tz": 300
    },
    "id": "SJ2va8e4UH7I"
   },
   "outputs": [],
   "source": [
    "Y=vino[\"Class\"]### Volver a Y cualitativa\n",
    "X=vino.drop([\"Class\"], axis=1)\n",
    "X=pd.get_dummies(X, drop_first=True) \n",
    "X_train, X_test, y_train, y_test=train_test_split(X, Y, test_size=0.2, stratify=Y)"
   ]
  },
  {
   "cell_type": "code",
   "execution_count": null,
   "metadata": {
    "colab": {
     "base_uri": "https://localhost:8080/",
     "height": 34
    },
    "executionInfo": {
     "elapsed": 1130,
     "status": "ok",
     "timestamp": 1603840988441,
     "user": {
      "displayName": "nelson alirio cruz gutierrez",
      "photoUrl": "https://lh3.googleusercontent.com/a-/AOh14GhDdjlbX7P6HT1cChQovqzRQSdg6HiAYjSwmILa5Q=s64",
      "userId": "04144189299847950459"
     },
     "user_tz": 300
    },
    "id": "bholHL8tVR9I",
    "outputId": "39f29ef4-7015-4978-ebc1-33b307b30fdd"
   },
   "outputs": [],
   "source": [
    "### Validacion cruzada para obtener la profundidad optima\n",
    "parameters = {'max_depth':range(2,20)} ### voy a probar desde 3 hasta 20\n",
    "arbol= GridSearchCV(tree.DecisionTreeClassifier(), parameters,scoring=\"accuracy\", n_jobs=-1) ## Metrica r2\n",
    "arbol.fit(X=X_train, y=y_train)\n",
    "tree_model = arbol.best_estimator_ ## El mejor modelo\n",
    "print (arbol.best_score_, arbol.best_params_) "
   ]
  },
  {
   "cell_type": "code",
   "execution_count": null,
   "metadata": {
    "colab": {
     "base_uri": "https://localhost:8080/",
     "height": 312
    },
    "executionInfo": {
     "elapsed": 883,
     "status": "ok",
     "timestamp": 1603841024584,
     "user": {
      "displayName": "nelson alirio cruz gutierrez",
      "photoUrl": "https://lh3.googleusercontent.com/a-/AOh14GhDdjlbX7P6HT1cChQovqzRQSdg6HiAYjSwmILa5Q=s64",
      "userId": "04144189299847950459"
     },
     "user_tz": 300
    },
    "id": "vXiarisVX9az",
    "outputId": "7e9f62be-abbe-4f85-fba2-7d3b69ce6c9b"
   },
   "outputs": [],
   "source": [
    "arbol = tree.DecisionTreeClassifier(random_state=0)\n",
    "alpha= arbol.cost_complexity_pruning_path(X_train, y_train)\n",
    "ccp_alphas, impurities = alpha.ccp_alphas, alpha.impurities\n",
    "fig, ax = plt.subplots()\n",
    "ax.plot(ccp_alphas[:-1], impurities[:-1], marker='o', drawstyle=\"steps-post\")\n",
    "ax.set_xlabel(\"effective alpha\")\n",
    "ax.set_ylabel(\"total impurity of leaves\")\n",
    "ax.set_title(\"Total Impurity vs effective alpha for training set\")"
   ]
  },
  {
   "cell_type": "code",
   "execution_count": null,
   "metadata": {
    "colab": {
     "base_uri": "https://localhost:8080/",
     "height": 887
    },
    "executionInfo": {
     "elapsed": 1907,
     "status": "ok",
     "timestamp": 1603841088481,
     "user": {
      "displayName": "nelson alirio cruz gutierrez",
      "photoUrl": "https://lh3.googleusercontent.com/a-/AOh14GhDdjlbX7P6HT1cChQovqzRQSdg6HiAYjSwmILa5Q=s64",
      "userId": "04144189299847950459"
     },
     "user_tz": 300
    },
    "id": "JN1TOlZ_UaRE",
    "outputId": "52184ad1-bdf8-4365-8fe6-935d825ba72e"
   },
   "outputs": [],
   "source": [
    "## Construcción del arbol\n",
    "arbol=tree.DecisionTreeClassifier(criterion=\"gini\", ccp_alpha=0.03)\n",
    "arbol.fit(X_train, y_train)\n",
    "fig = plt.figure(figsize=(25,20))\n",
    "_ = tree.plot_tree(arbol, feature_names=X_train.columns, filled=True)"
   ]
  },
  {
   "cell_type": "code",
   "execution_count": null,
   "metadata": {
    "colab": {
     "base_uri": "https://localhost:8080/",
     "height": 185
    },
    "executionInfo": {
     "elapsed": 911,
     "status": "ok",
     "timestamp": 1603841092405,
     "user": {
      "displayName": "nelson alirio cruz gutierrez",
      "photoUrl": "https://lh3.googleusercontent.com/a-/AOh14GhDdjlbX7P6HT1cChQovqzRQSdg6HiAYjSwmILa5Q=s64",
      "userId": "04144189299847950459"
     },
     "user_tz": 300
    },
    "id": "xd8BUdaoUtBE",
    "outputId": "3315e4a8-1ae8-42a9-b160-6580b9874926"
   },
   "outputs": [],
   "source": [
    "y_pred=arbol.predict(X_test)\n",
    "print(classification_report(y_test, y_pred))"
   ]
  },
  {
   "cell_type": "code",
   "execution_count": null,
   "metadata": {
    "colab": {
     "base_uri": "https://localhost:8080/",
     "height": 67
    },
    "executionInfo": {
     "elapsed": 800,
     "status": "ok",
     "timestamp": 1603841237303,
     "user": {
      "displayName": "nelson alirio cruz gutierrez",
      "photoUrl": "https://lh3.googleusercontent.com/a-/AOh14GhDdjlbX7P6HT1cChQovqzRQSdg6HiAYjSwmILa5Q=s64",
      "userId": "04144189299847950459"
     },
     "user_tz": 300
    },
    "id": "mtmMKbhuU33l",
    "outputId": "76a45f8e-a51a-4571-b873-a518641984df"
   },
   "outputs": [],
   "source": [
    "confusion_matrix(y_test, y_pred)"
   ]
  },
  {
   "cell_type": "code",
   "execution_count": null,
   "metadata": {
    "colab": {
     "base_uri": "https://localhost:8080/",
     "height": 50
    },
    "executionInfo": {
     "elapsed": 835,
     "status": "ok",
     "timestamp": 1603841368833,
     "user": {
      "displayName": "nelson alirio cruz gutierrez",
      "photoUrl": "https://lh3.googleusercontent.com/a-/AOh14GhDdjlbX7P6HT1cChQovqzRQSdg6HiAYjSwmILa5Q=s64",
      "userId": "04144189299847950459"
     },
     "user_tz": 300
    },
    "id": "r_y2PR9gZFVh",
    "outputId": "58671bed-09d9-468b-c809-aec67efcd951"
   },
   "outputs": [],
   "source": [
    "arbol.predict(X_test) ## Predice la clase "
   ]
  },
  {
   "cell_type": "code",
   "execution_count": null,
   "metadata": {
    "colab": {
     "base_uri": "https://localhost:8080/",
     "height": 538
    },
    "executionInfo": {
     "elapsed": 1085,
     "status": "ok",
     "timestamp": 1603843690083,
     "user": {
      "displayName": "nelson alirio cruz gutierrez",
      "photoUrl": "https://lh3.googleusercontent.com/a-/AOh14GhDdjlbX7P6HT1cChQovqzRQSdg6HiAYjSwmILa5Q=s64",
      "userId": "04144189299847950459"
     },
     "user_tz": 300
    },
    "id": "DjoGFDJRZXjf",
    "outputId": "1b1f4e78-6a3d-4318-baaa-2a78fec39f45"
   },
   "outputs": [],
   "source": [
    "arbol.predict_proba(X_test) ## Predice la probabilidad de cada clase"
   ]
  }
 ],
 "metadata": {
  "colab": {
   "authorship_tag": "ABX9TyPiErIZVgN+q+B7msQTs+ro",
   "name": "13_Arboles de Clasificacion.ipynb",
   "provenance": [],
   "toc_visible": true
  },
  "kernelspec": {
   "display_name": "Python 3",
   "language": "python",
   "name": "python3"
  },
  "language_info": {
   "codemirror_mode": {
    "name": "ipython",
    "version": 3
   },
   "file_extension": ".py",
   "mimetype": "text/x-python",
   "name": "python",
   "nbconvert_exporter": "python",
   "pygments_lexer": "ipython3",
   "version": "3.8.5"
  }
 },
 "nbformat": 4,
 "nbformat_minor": 4
}
