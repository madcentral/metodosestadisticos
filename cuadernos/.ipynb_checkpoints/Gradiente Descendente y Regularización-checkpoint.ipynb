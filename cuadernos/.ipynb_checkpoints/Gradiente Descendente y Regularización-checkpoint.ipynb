{
 "cells": [
  {
   "cell_type": "markdown",
   "metadata": {
    "toc": true
   },
   "source": [
    "<h1>Table of Contents<span class=\"tocSkip\"></span></h1>\n",
    "<div class=\"toc\"><ul class=\"toc-item\"><li><span><a href=\"#Funciones-de-Coste\" data-toc-modified-id=\"Funciones-de-Coste-1\"><span class=\"toc-item-num\">1&nbsp;&nbsp;</span>Funciones de Coste</a></span></li><li><span><a href=\"#Learning-Rate\" data-toc-modified-id=\"Learning-Rate-2\"><span class=\"toc-item-num\">2&nbsp;&nbsp;</span>Learning Rate</a></span></li><li><span><a href=\"#Regularización\" data-toc-modified-id=\"Regularización-3\"><span class=\"toc-item-num\">3&nbsp;&nbsp;</span>Regularización</a></span><ul class=\"toc-item\"><li><span><a href=\"#Regularización-Lasso\" data-toc-modified-id=\"Regularización-Lasso-3.1\"><span class=\"toc-item-num\">3.1&nbsp;&nbsp;</span>Regularización Lasso</a></span></li><li><span><a href=\"#Regularización-Ridge\" data-toc-modified-id=\"Regularización-Ridge-3.2\"><span class=\"toc-item-num\">3.2&nbsp;&nbsp;</span>Regularización Ridge</a></span></li><li><span><a href=\"#Regularización-ElasticNet\" data-toc-modified-id=\"Regularización-ElasticNet-3.3\"><span class=\"toc-item-num\">3.3&nbsp;&nbsp;</span>Regularización ElasticNet</a></span></li></ul></li></ul></div>"
   ]
  },
  {
   "cell_type": "markdown",
   "metadata": {},
   "source": [
    "# Gradiente descendente\n",
    "\n",
    "El gradiente descendente es un algoritmo fundamental en las funciones de aprendizaje. Su objetivo es aproximar las salidas estimadas a las salidas reales con el menor error posible. Aunque se utiliza ampliamente en redes neuronales y resulta una base del aprendizaje profundo (*deep learning*), también se implementa en modelos clásicos de clasificación e incluso en regresiones lineales. "
   ]
  },
  {
   "cell_type": "markdown",
   "metadata": {},
   "source": [
    "## Funciones de Coste\n",
    "\n",
    "La función de coste $J$ corresponde a la función que queremos optimizar, por ejemplo, en el caso de una regresión lineal esta función puede ser el error cuadrático medio *(MSE - Mean Squared Error)* en ese caso:\n",
    "\n",
    "$$\n",
    "J=MSE=\\cfrac{1}{M}\\sum_{i=1}^{M}(X^{\\text{real}}_i-X^{\\text{est}}_i)^2\n",
    "$$\n",
    "\n"
   ]
  },
  {
   "cell_type": "markdown",
   "metadata": {},
   "source": [
    "No siempre encontraremos un valor mínimo ni contamos con métodos analíticos para optimizar dichas funciones, en ocasiones debemos aproximarnos a esos valores óptimos. En el caso de el gradiente descendente, buscamos el gradiente $(\\partial J/\\partial W)$ de la función de coste respecto a cada uno de los parámetros y tomamos esa dirección como referencia, pues hay un teorema de cálculo vectorial que nos indica que $(\\partial J/\\partial W)$ es la dirección en la que más crece la función y $-(\\partial J/\\partial W)$ es la dirección en la que más decrece.\n",
    "\n",
    "La idea es iterar atraves del gradiente para aproximarnos cada vez más al mínimo:"
   ]
  },
  {
   "cell_type": "markdown",
   "metadata": {},
   "source": [
    "Usamos samples generator para hacer una regresión:"
   ]
  },
  {
   "cell_type": "code",
   "execution_count": 2,
   "metadata": {},
   "outputs": [
    {
     "name": "stderr",
     "output_type": "stream",
     "text": [
      "/home/isaac/anaconda3/lib/python3.7/site-packages/sklearn/utils/deprecation.py:143: FutureWarning: The sklearn.datasets.samples_generator module is  deprecated in version 0.22 and will be removed in version 0.24. The corresponding classes / functions should instead be imported from sklearn.datasets. Anything that cannot be imported from sklearn.datasets is now part of the private API.\n",
      "  warnings.warn(message, FutureWarning)\n"
     ]
    }
   ],
   "source": [
    "import pandas as pd\n",
    "import numpy as np\n",
    "from sklearn.datasets.samples_generator import make_regression\n",
    "pd.options.display.float_format = '{:,.3f}'.format"
   ]
  },
  {
   "cell_type": "code",
   "execution_count": 18,
   "metadata": {},
   "outputs": [],
   "source": [
    "X1, y1 = make_regression(n_samples=100, n_features=1,\n",
    "                         random_state=1100, noise=0.5)"
   ]
  },
  {
   "cell_type": "code",
   "execution_count": 19,
   "metadata": {},
   "outputs": [
    {
     "data": {
      "text/html": [
       "<div>\n",
       "<style scoped>\n",
       "    .dataframe tbody tr th:only-of-type {\n",
       "        vertical-align: middle;\n",
       "    }\n",
       "\n",
       "    .dataframe tbody tr th {\n",
       "        vertical-align: top;\n",
       "    }\n",
       "\n",
       "    .dataframe thead th {\n",
       "        text-align: right;\n",
       "    }\n",
       "</style>\n",
       "<table border=\"1\" class=\"dataframe\">\n",
       "  <thead>\n",
       "    <tr style=\"text-align: right;\">\n",
       "      <th></th>\n",
       "      <th>x1</th>\n",
       "      <th>y1</th>\n",
       "    </tr>\n",
       "  </thead>\n",
       "  <tbody>\n",
       "    <tr>\n",
       "      <th>0</th>\n",
       "      <td>-0.686</td>\n",
       "      <td>-21.676</td>\n",
       "    </tr>\n",
       "    <tr>\n",
       "      <th>1</th>\n",
       "      <td>0.987</td>\n",
       "      <td>32.143</td>\n",
       "    </tr>\n",
       "    <tr>\n",
       "      <th>2</th>\n",
       "      <td>0.435</td>\n",
       "      <td>14.097</td>\n",
       "    </tr>\n",
       "    <tr>\n",
       "      <th>3</th>\n",
       "      <td>-0.217</td>\n",
       "      <td>-7.856</td>\n",
       "    </tr>\n",
       "    <tr>\n",
       "      <th>4</th>\n",
       "      <td>0.576</td>\n",
       "      <td>18.682</td>\n",
       "    </tr>\n",
       "    <tr>\n",
       "      <th>...</th>\n",
       "      <td>...</td>\n",
       "      <td>...</td>\n",
       "    </tr>\n",
       "    <tr>\n",
       "      <th>95</th>\n",
       "      <td>-1.248</td>\n",
       "      <td>-40.690</td>\n",
       "    </tr>\n",
       "    <tr>\n",
       "      <th>96</th>\n",
       "      <td>-0.909</td>\n",
       "      <td>-28.942</td>\n",
       "    </tr>\n",
       "    <tr>\n",
       "      <th>97</th>\n",
       "      <td>0.441</td>\n",
       "      <td>13.385</td>\n",
       "    </tr>\n",
       "    <tr>\n",
       "      <th>98</th>\n",
       "      <td>0.269</td>\n",
       "      <td>10.136</td>\n",
       "    </tr>\n",
       "    <tr>\n",
       "      <th>99</th>\n",
       "      <td>1.209</td>\n",
       "      <td>39.010</td>\n",
       "    </tr>\n",
       "  </tbody>\n",
       "</table>\n",
       "<p>100 rows × 2 columns</p>\n",
       "</div>"
      ],
      "text/plain": [
       "       x1      y1\n",
       "0  -0.686 -21.676\n",
       "1   0.987  32.143\n",
       "2   0.435  14.097\n",
       "3  -0.217  -7.856\n",
       "4   0.576  18.682\n",
       "..    ...     ...\n",
       "95 -1.248 -40.690\n",
       "96 -0.909 -28.942\n",
       "97  0.441  13.385\n",
       "98  0.269  10.136\n",
       "99  1.209  39.010\n",
       "\n",
       "[100 rows x 2 columns]"
      ]
     },
     "execution_count": 19,
     "metadata": {},
     "output_type": "execute_result"
    }
   ],
   "source": [
    "df = pd.DataFrame({'x1': X1[:,0],\n",
    "                   'y1': y1})\n",
    "df = df[['x1', 'y1']]\n",
    "df"
   ]
  },
  {
   "cell_type": "code",
   "execution_count": 20,
   "metadata": {},
   "outputs": [
    {
     "data": {
      "text/plain": [
       "<matplotlib.collections.PathCollection at 0x7f72ea8e5710>"
      ]
     },
     "execution_count": 20,
     "metadata": {},
     "output_type": "execute_result"
    },
    {
     "data": {
      "image/png": "[encoded data removed]",
      "text/plain": [
       "<Figure size 432x288 with 1 Axes>"
      ]
     },
     "metadata": {
      "needs_background": "light"
     },
     "output_type": "display_data"
    }
   ],
   "source": [
    "import matplotlib.pyplot as plt\n",
    "\n",
    "plt.scatter(df['x1'],df['y1'])"
   ]
  },
  {
   "cell_type": "code",
   "execution_count": 22,
   "metadata": {},
   "outputs": [
    {
     "data": {
      "text/html": [
       "<div>\n",
       "<style scoped>\n",
       "    .dataframe tbody tr th:only-of-type {\n",
       "        vertical-align: middle;\n",
       "    }\n",
       "\n",
       "    .dataframe tbody tr th {\n",
       "        vertical-align: top;\n",
       "    }\n",
       "\n",
       "    .dataframe thead th {\n",
       "        text-align: right;\n",
       "    }\n",
       "</style>\n",
       "<table border=\"1\" class=\"dataframe\">\n",
       "  <thead>\n",
       "    <tr style=\"text-align: right;\">\n",
       "      <th></th>\n",
       "      <th>x1</th>\n",
       "      <th>x2</th>\n",
       "      <th>y</th>\n",
       "    </tr>\n",
       "  </thead>\n",
       "  <tbody>\n",
       "    <tr>\n",
       "      <th>0</th>\n",
       "      <td>-1.890</td>\n",
       "      <td>0.652</td>\n",
       "      <td>-108.914</td>\n",
       "    </tr>\n",
       "    <tr>\n",
       "      <th>1</th>\n",
       "      <td>-0.136</td>\n",
       "      <td>0.004</td>\n",
       "      <td>-11.692</td>\n",
       "    </tr>\n",
       "    <tr>\n",
       "      <th>2</th>\n",
       "      <td>-0.321</td>\n",
       "      <td>1.945</td>\n",
       "      <td>93.798</td>\n",
       "    </tr>\n",
       "    <tr>\n",
       "      <th>3</th>\n",
       "      <td>-1.556</td>\n",
       "      <td>-1.058</td>\n",
       "      <td>-191.374</td>\n",
       "    </tr>\n",
       "    <tr>\n",
       "      <th>4</th>\n",
       "      <td>-0.126</td>\n",
       "      <td>-0.857</td>\n",
       "      <td>-67.023</td>\n",
       "    </tr>\n",
       "    <tr>\n",
       "      <th>5</th>\n",
       "      <td>-0.438</td>\n",
       "      <td>0.656</td>\n",
       "      <td>12.404</td>\n",
       "    </tr>\n",
       "    <tr>\n",
       "      <th>6</th>\n",
       "      <td>-1.503</td>\n",
       "      <td>0.915</td>\n",
       "      <td>-56.916</td>\n",
       "    </tr>\n",
       "    <tr>\n",
       "      <th>7</th>\n",
       "      <td>0.427</td>\n",
       "      <td>2.663</td>\n",
       "      <td>204.556</td>\n",
       "    </tr>\n",
       "    <tr>\n",
       "      <th>8</th>\n",
       "      <td>-0.029</td>\n",
       "      <td>1.052</td>\n",
       "      <td>58.531</td>\n",
       "    </tr>\n",
       "    <tr>\n",
       "      <th>9</th>\n",
       "      <td>0.576</td>\n",
       "      <td>-1.132</td>\n",
       "      <td>-29.296</td>\n",
       "    </tr>\n",
       "  </tbody>\n",
       "</table>\n",
       "</div>"
      ],
      "text/plain": [
       "      x1     x2        y\n",
       "0 -1.890  0.652 -108.914\n",
       "1 -0.136  0.004  -11.692\n",
       "2 -0.321  1.945   93.798\n",
       "3 -1.556 -1.058 -191.374\n",
       "4 -0.126 -0.857  -67.023\n",
       "5 -0.438  0.656   12.404\n",
       "6 -1.503  0.915  -56.916\n",
       "7  0.427  2.663  204.556\n",
       "8 -0.029  1.052   58.531\n",
       "9  0.576 -1.132  -29.296"
      ]
     },
     "execution_count": 22,
     "metadata": {},
     "output_type": "execute_result"
    }
   ],
   "source": [
    "X, y = make_regression(n_samples=100, n_features=2, n_informative=2,\n",
    "                         random_state=1100, noise=4)\n",
    "x1 = X[:,0]\n",
    "x2 = X[:,1]\n",
    "df = pd.DataFrame({'x1': x1, \n",
    "                   'x2': x2,\n",
    "                   'y': y})\n",
    "df = df[['x1', 'x2', 'y']]\n",
    "\n",
    "df.head(10)"
   ]
  },
  {
   "cell_type": "markdown",
   "metadata": {},
   "source": [
    "Hacemos una estimación mala:"
   ]
  },
  {
   "cell_type": "code",
   "execution_count": 23,
   "metadata": {},
   "outputs": [
    {
     "data": {
      "text/html": [
       "<div>\n",
       "<style scoped>\n",
       "    .dataframe tbody tr th:only-of-type {\n",
       "        vertical-align: middle;\n",
       "    }\n",
       "\n",
       "    .dataframe tbody tr th {\n",
       "        vertical-align: top;\n",
       "    }\n",
       "\n",
       "    .dataframe thead th {\n",
       "        text-align: right;\n",
       "    }\n",
       "</style>\n",
       "<table border=\"1\" class=\"dataframe\">\n",
       "  <thead>\n",
       "    <tr style=\"text-align: right;\">\n",
       "      <th></th>\n",
       "      <th>x1</th>\n",
       "      <th>x2</th>\n",
       "      <th>y</th>\n",
       "      <th>y_gorro</th>\n",
       "    </tr>\n",
       "  </thead>\n",
       "  <tbody>\n",
       "    <tr>\n",
       "      <th>0</th>\n",
       "      <td>-1.890</td>\n",
       "      <td>0.652</td>\n",
       "      <td>-108.914</td>\n",
       "      <td>-3.779</td>\n",
       "    </tr>\n",
       "    <tr>\n",
       "      <th>1</th>\n",
       "      <td>-0.136</td>\n",
       "      <td>0.004</td>\n",
       "      <td>-11.692</td>\n",
       "      <td>-0.271</td>\n",
       "    </tr>\n",
       "    <tr>\n",
       "      <th>2</th>\n",
       "      <td>-0.321</td>\n",
       "      <td>1.945</td>\n",
       "      <td>93.798</td>\n",
       "      <td>-0.642</td>\n",
       "    </tr>\n",
       "    <tr>\n",
       "      <th>3</th>\n",
       "      <td>-1.556</td>\n",
       "      <td>-1.058</td>\n",
       "      <td>-191.374</td>\n",
       "      <td>-3.112</td>\n",
       "    </tr>\n",
       "    <tr>\n",
       "      <th>4</th>\n",
       "      <td>-0.126</td>\n",
       "      <td>-0.857</td>\n",
       "      <td>-67.023</td>\n",
       "      <td>-0.253</td>\n",
       "    </tr>\n",
       "  </tbody>\n",
       "</table>\n",
       "</div>"
      ],
      "text/plain": [
       "      x1     x2        y  y_gorro\n",
       "0 -1.890  0.652 -108.914   -3.779\n",
       "1 -0.136  0.004  -11.692   -0.271\n",
       "2 -0.321  1.945   93.798   -0.642\n",
       "3 -1.556 -1.058 -191.374   -3.112\n",
       "4 -0.126 -0.857  -67.023   -0.253"
      ]
     },
     "execution_count": 23,
     "metadata": {},
     "output_type": "execute_result"
    }
   ],
   "source": [
    "df.loc[:,'y_gorro'] = 2*df['x1'] + 0*df['x2']\n",
    "df.head(5) # solo mostramos las 5 primeras filas para no sobrecargar el display."
   ]
  },
  {
   "cell_type": "markdown",
   "metadata": {},
   "source": [
    "Ahora la mejoraremos, pensemos en los MSE:"
   ]
  },
  {
   "cell_type": "code",
   "execution_count": 24,
   "metadata": {},
   "outputs": [
    {
     "data": {
      "text/html": [
       "<div>\n",
       "<style scoped>\n",
       "    .dataframe tbody tr th:only-of-type {\n",
       "        vertical-align: middle;\n",
       "    }\n",
       "\n",
       "    .dataframe tbody tr th {\n",
       "        vertical-align: top;\n",
       "    }\n",
       "\n",
       "    .dataframe thead th {\n",
       "        text-align: right;\n",
       "    }\n",
       "</style>\n",
       "<table border=\"1\" class=\"dataframe\">\n",
       "  <thead>\n",
       "    <tr style=\"text-align: right;\">\n",
       "      <th></th>\n",
       "      <th>Residuo</th>\n",
       "    </tr>\n",
       "  </thead>\n",
       "  <tbody>\n",
       "    <tr>\n",
       "      <th>0</th>\n",
       "      <td>11,053.375</td>\n",
       "    </tr>\n",
       "    <tr>\n",
       "      <th>1</th>\n",
       "      <td>130.444</td>\n",
       "    </tr>\n",
       "    <tr>\n",
       "      <th>2</th>\n",
       "      <td>8,918.945</td>\n",
       "    </tr>\n",
       "    <tr>\n",
       "      <th>3</th>\n",
       "      <td>35,442.667</td>\n",
       "    </tr>\n",
       "    <tr>\n",
       "      <th>4</th>\n",
       "      <td>4,458.261</td>\n",
       "    </tr>\n",
       "    <tr>\n",
       "      <th>5</th>\n",
       "      <td>176.343</td>\n",
       "    </tr>\n",
       "    <tr>\n",
       "      <th>6</th>\n",
       "      <td>2,906.317</td>\n",
       "    </tr>\n",
       "    <tr>\n",
       "      <th>7</th>\n",
       "      <td>41,494.298</td>\n",
       "    </tr>\n",
       "    <tr>\n",
       "      <th>8</th>\n",
       "      <td>3,432.632</td>\n",
       "    </tr>\n",
       "  </tbody>\n",
       "</table>\n",
       "</div>"
      ],
      "text/plain": [
       "     Residuo\n",
       "0 11,053.375\n",
       "1    130.444\n",
       "2  8,918.945\n",
       "3 35,442.667\n",
       "4  4,458.261\n",
       "5    176.343\n",
       "6  2,906.317\n",
       "7 41,494.298\n",
       "8  3,432.632"
      ]
     },
     "execution_count": 24,
     "metadata": {},
     "output_type": "execute_result"
    }
   ],
   "source": [
    "residuos = (df['y']- df['y_gorro'])**2\n",
    "pd.DataFrame(residuos, columns = ['Residuo']).head(9)"
   ]
  },
  {
   "cell_type": "code",
   "execution_count": 25,
   "metadata": {},
   "outputs": [
    {
     "data": {
      "text/plain": [
       "8123.73"
      ]
     },
     "execution_count": 25,
     "metadata": {},
     "output_type": "execute_result"
    }
   ],
   "source": [
    "J = residuos.sum()/len(df)\n",
    "round(J, 2)"
   ]
  },
  {
   "cell_type": "markdown",
   "metadata": {},
   "source": [
    "Como se obtienen "
   ]
  },
  {
   "cell_type": "markdown",
   "metadata": {},
   "source": [
    "Modelo que usamos:"
   ]
  },
  {
   "cell_type": "code",
   "execution_count": 34,
   "metadata": {},
   "outputs": [],
   "source": [
    "def get_y_gorro(b1, b2, x1, x2): \n",
    "    y_gorro = b1*x1 + b2*x2\n",
    "    return y_gorro"
   ]
  },
  {
   "cell_type": "markdown",
   "metadata": {},
   "source": [
    "Cálculo de coste:"
   ]
  },
  {
   "cell_type": "code",
   "execution_count": 35,
   "metadata": {},
   "outputs": [],
   "source": [
    "def rec2m(y, b1, b2, x1, x2):\n",
    "    y_gorro = b1*x1 + b2*x2\n",
    "    residuos = np.square(y- y_gorro)\n",
    "    return np.sum(residuos)/len(residuos)"
   ]
  },
  {
   "cell_type": "code",
   "execution_count": 36,
   "metadata": {},
   "outputs": [],
   "source": [
    "def recm(y, y_gorro):\n",
    "    residuos = np.square(y- y_gorro)\n",
    "    return np.sum(residuos)/len(residuos)"
   ]
  },
  {
   "cell_type": "code",
   "execution_count": 37,
   "metadata": {},
   "outputs": [
    {
     "data": {
      "text/plain": [
       "949.3101592446083"
      ]
     },
     "execution_count": 37,
     "metadata": {},
     "output_type": "execute_result"
    }
   ],
   "source": [
    "rec2m(y,50,45,x1,x2)"
   ]
  },
  {
   "cell_type": "markdown",
   "metadata": {},
   "source": [
    "Cálculo de gradiente del coste:"
   ]
  },
  {
   "cell_type": "code",
   "execution_count": 38,
   "metadata": {},
   "outputs": [],
   "source": [
    "def grad(y, y_gorro,  x):\n",
    "    return (2/len(x))*np.sum((y- y_gorro)*-x)"
   ]
  },
  {
   "cell_type": "markdown",
   "metadata": {},
   "source": [
    "Corregimos y mejoramos:"
   ]
  },
  {
   "cell_type": "code",
   "execution_count": 46,
   "metadata": {},
   "outputs": [],
   "source": [
    "def gd(x1, x2, y, lr = 0.01, iters=1000, min_perdida = 0.4,b1=2,b2=1):\n",
    "    betas = np.array([[b1, b2]]) # almacenamos en un arreglo para futuro uso\n",
    "    y_gorro = get_y_gorro(b1, b2, x1, x2) \n",
    "    error = recm(y, y_gorro) # calculo de error\n",
    "    errores = np.array([error]) # almacenamos en un arreglo para futuro uso\n",
    "    for i in np.arange(iters):\n",
    "        y_gorro = get_y_gorro(b1, b2, x1, x2) #estimaciones\n",
    "        error = recm(y, y_gorro) #error\n",
    "        errores = np.append(errores , error)\n",
    "        if error <= min_perdida: # condición de convergencia anticipada\n",
    "            break\n",
    "        else:\n",
    "            # Acá es donde actualizamos nuestro modelo\n",
    "            # cambiando cada beta de forma separada\n",
    "            b1 = b1 - lr*grad(y, y_gorro,  x1) \n",
    "            b2 = b2 - lr*grad(y, y_gorro,  x2)\n",
    "        betas = np.concatenate((betas, [[b1, b2]]), axis = 0)\n",
    "    return betas, errores"
   ]
  },
  {
   "cell_type": "code",
   "execution_count": 47,
   "metadata": {},
   "outputs": [],
   "source": [
    "betas_gd, errores_gd =  gd(x1, x2, y, lr = 0.1, iters=1000, min_perdida = 0.6)"
   ]
  },
  {
   "cell_type": "code",
   "execution_count": 49,
   "metadata": {},
   "outputs": [
    {
     "data": {
      "text/plain": [
       "array([[ 2.        ,  1.        ],\n",
       "       [15.59536673, 10.25231859],\n",
       "       [26.72087237, 18.1597817 ],\n",
       "       ...,\n",
       "       [77.79261827, 62.89673004],\n",
       "       [77.79261827, 62.89673004],\n",
       "       [77.79261827, 62.89673004]])"
      ]
     },
     "execution_count": 49,
     "metadata": {},
     "output_type": "execute_result"
    }
   ],
   "source": [
    "betas_gd"
   ]
  },
  {
   "cell_type": "code",
   "execution_count": 48,
   "metadata": {},
   "outputs": [
    {
     "name": "stdout",
     "output_type": "stream",
     "text": [
      "Beta 1: 77.79\n",
      "Beta 2: 62.9\n",
      "Error final: 14.77\n"
     ]
    }
   ],
   "source": [
    "print('Beta 1:', round(betas_gd[-1, 0],2))\n",
    "print('Beta 2:', round(betas_gd[-1, 1],2))\n",
    "print('Error final:', round(errores_gd[-1],2))"
   ]
  },
  {
   "cell_type": "code",
   "execution_count": 50,
   "metadata": {},
   "outputs": [],
   "source": [
    " betas=gd(x1, x2, y, lr = 0.2, iters=1000, min_perdida = 0.6,b1=50,b2=50)[0]"
   ]
  },
  {
   "cell_type": "code",
   "execution_count": 51,
   "metadata": {},
   "outputs": [
    {
     "data": {
      "image/png": "[encoded data removed]",
      "text/plain": [
       "<Figure size 432x288 with 1 Axes>"
      ]
     },
     "metadata": {
      "needs_background": "light"
     },
     "output_type": "display_data"
    }
   ],
   "source": [
    "from mpl_toolkits.mplot3d import Axes3D\n",
    "from matplotlib import cm\n",
    "from matplotlib.ticker import LinearLocator, FormatStrFormatter\n",
    "import matplotlib.pyplot as plt\n",
    "import numpy as np\n",
    "\n",
    "fig = plt.figure()\n",
    "ax = fig.add_subplot(111, projection='3d')\n",
    "\n",
    "b1 = np.arange(50, 100, 0.5)\n",
    "b2 = np.arange(50, 100, 0.5)\n",
    "b11, b22 = np.meshgrid(b1, b2)\n",
    "z = np.array([rec2m(y, b11, b22, x1, x2) for b11,b22 in zip(np.ravel(b11), np.ravel(b22))])\n",
    "z = z.reshape(b11.shape)\n",
    "ax.plot_surface(b11, b22, z, rstride=1, cstride=1, cmap=cm.coolwarm,\n",
    "                       linewidth=0, antialiased=True)\n",
    "ax.scatter(betas.T[0],betas.T[1],[rec2m(y, i[0], i[1], x1, x2) for i in betas],c='r',s=20)\n",
    "#ax.view_init(-30, 20)\n",
    "plt.show()"
   ]
  },
  {
   "cell_type": "markdown",
   "metadata": {},
   "source": [
    "## Learning Rate\n",
    "\n",
    "Se propone un coeficiente que se multiplica por la dirección del gradiente, corresponderáa la velocidad con la que encuentra el valor mínimo. Si es bastante grande no podrá encontrar un mínimo apropiado y si es muy pequeño puede demorarse bastante en esa busqueda."
   ]
  },
  {
   "cell_type": "markdown",
   "metadata": {},
   "source": [
    "## Regularización\n",
    "\n",
    "Podemos adicionar una penalización de acuerdo a la complejización del modelo a la función de coste para llegar más rápido a los púntos óptimos, llamamos a ese proceso regularización. \n",
    "\n",
    "$$ J=MSE+\\alpha\\cdot C$$\n",
    "\n",
    "donde $C$ indica la complejidad del modelo.\n",
    "\n"
   ]
  },
  {
   "cell_type": "markdown",
   "metadata": {},
   "source": [
    "La regularización no solo busca los puntos óptimos sino que, al fijar un factor de la complejidad del modelo, permite minimizarla también. En ese sentido disminuimos la posibilidad de sobre ajuste y evitamos que nuestros modelos funcionen unicamente para los datos de entrenamiento.\n",
    "\n",
    "Entre los métodos de regularización hay dos muy mencionadas, la regularizacion lasso  y la regularización Ridge, dependen del modo en que calculamos la complejidad en cada uno. También se menciona una combinación de estas dos conocida como ElasticNet, veamos como funcionan:"
   ]
  },
  {
   "cell_type": "markdown",
   "metadata": {},
   "source": [
    "### Regularización Lasso\n",
    "\n",
    "Aquí el valor de $C$ es la media absoluta de los parámetros del modelo, es decir:\n",
    "\n",
    "$$C=\\cfrac{1}{N}\\sum\\limits_{i=1}^N|w_i|$$\n"
   ]
  },
  {
   "cell_type": "markdown",
   "metadata": {},
   "source": [
    "Por ejemplo,para MSE, tenemos:\n",
    "\n",
    "$$J=\\cfrac{1}{M}\\sum_{i=1}^{M}(X^{\\text{real}}_i-X^{\\text{est}}_i)^2+\\alpha \\cfrac{1}{N}\\sum\\limits_{i=1}^N|w_i|$$"
   ]
  },
  {
   "cell_type": "markdown",
   "metadata": {},
   "source": [
    "Como Lasso disminuye la complejidad directamente de los parámetros del modelo, esta regularización hará una selección de atributos. Es decir, establecerá cuales variables son irrelevantes para el modelo. Es necesario que dichas variables no esten correlaconadas para que Lasso funcione mejor."
   ]
  },
  {
   "cell_type": "markdown",
   "metadata": {},
   "source": [
    "La documentación de sklearn en este sentido es bastante interesante para ver algunos ejemplos de uso. [Sci-kit](https://scikit-learn.org/stable/modules/generated/sklearn.linear_model.Lasso.html#sklearn.linear_model.Lasso)."
   ]
  },
  {
   "cell_type": "markdown",
   "metadata": {},
   "source": [
    "### Regularización Ridge\n",
    "\n",
    "El valor de la complejidad en este método se calcula de la siguiente manera:\n",
    "\n",
    "$$C=\\cfrac{1}{2N}\\sum\\limits_{i=1}^N(w_i)^2$$"
   ]
  },
  {
   "cell_type": "markdown",
   "metadata": {},
   "source": [
    "Así tenemos:\n",
    "$$J=\\cfrac{1}{M}\\sum_{i=1}^{M}(X^{\\text{real}}_i-X^{\\text{est}}_i)^2+\\alpha \\cfrac{1}{N}\\sum\\limits_{i=1}^N|w_i|+(1-\\alpha) \\cfrac{1}{2N}\\sum\\limits_{i=1}^N(w_i)^2$$\n"
   ]
  },
  {
   "cell_type": "markdown",
   "metadata": {},
   "source": [
    "Esta regularización será muy util para determinar la correlación entre variables. Ver [Scipy](https://scikit-learn.org/stable/modules/generated/sklearn.linear_model.Ridge.html)."
   ]
  },
  {
   "cell_type": "markdown",
   "metadata": {},
   "source": [
    "### Regularización ElasticNet\n",
    "\n",
    "Finalmente, para este método combinamos las dos complejidades de la siguiente manera:\n",
    "\n",
    "$$C=\\alpha\\cdot Lasso +(1-\\alpha)\\cdot Ridge $$\n",
    "\n",
    "y se usará para cuando tengamos muchos atributos. Permitira detectar irrelevancia y correlaciones. Ver [Scipy](https://scikit-learn.org/stable/modules/generated/sklearn.linear_model.ElasticNetCV.html)"
   ]
  },
  {
   "cell_type": "markdown",
   "metadata": {},
   "source": [
    "$$J=\\cfrac{1}{M}\\sum_{i=1}^{M}(X^{\\text{real}}_i-X^{\\text{est}}_i)^2+\\alpha \\cfrac{1}{2N}\\sum\\limits_{i=1}^N(w_i)^2$$"
   ]
  },
  {
   "cell_type": "code",
   "execution_count": 79,
   "metadata": {},
   "outputs": [],
   "source": [
    "df.loc[:,'y']=25*df.loc[:,'x1']"
   ]
  },
  {
   "cell_type": "code",
   "execution_count": 80,
   "metadata": {},
   "outputs": [],
   "source": [
    "y=df['y']"
   ]
  },
  {
   "cell_type": "code",
   "execution_count": 81,
   "metadata": {},
   "outputs": [],
   "source": [
    "def rec2mlasso(y, b1, b2, x1, x2,a=0.1):\n",
    "    y_gorro = b1*x1 + b2*x2+a*np.abs(b1)+a*np.abs(b2)\n",
    "    residuos = np.square(y- y_gorro)\n",
    "    return np.sum(residuos)/len(residuos)"
   ]
  },
  {
   "cell_type": "code",
   "execution_count": 82,
   "metadata": {},
   "outputs": [],
   "source": [
    "def get_y_gorrolasso(b1, b2, x1, x2,a=0.1): \n",
    "    y_gorro = b1*x1 + b2*x2 + a*np.abs(b1)+a*np.abs(b2)\n",
    "    return y_gorro"
   ]
  },
  {
   "cell_type": "code",
   "execution_count": 83,
   "metadata": {},
   "outputs": [],
   "source": [
    "\n",
    "def gdlasso(x1, x2, y, lr = 0.01, iters=1000, min_perdida = 0.4,b1=2,b2=1):\n",
    "    betas = np.array([[b1, b2]]) # almacenamos en un arreglo para futuro uso\n",
    "    y_gorro = get_y_gorrolasso(b1, b2, x1, x2) \n",
    "    error = recm(y, y_gorro) # calculo de error\n",
    "    errores = np.array([error]) # almacenamos en un arreglo para futuro uso\n",
    "    for i in np.arange(iters):\n",
    "        y_gorro = get_y_gorrolasso(b1, b2, x1, x2) #estimaciones\n",
    "        error = recm(y, y_gorro) #error\n",
    "        errores = np.append(errores , error)\n",
    "        if error <= min_perdida: # condición de convergencia anticipada\n",
    "            break\n",
    "        else:\n",
    "            # Acá es donde actualizamos nuestro modelo\n",
    "            # cambiando cada beta de forma separada\n",
    "            b1 = b1 - lr*grad(y, y_gorro,  x1) \n",
    "            b2 = b2 - lr*grad(y, y_gorro,  x2)\n",
    "        betas = np.concatenate((betas, [[b1, b2]]), axis = 0)\n",
    "    return betas, errores"
   ]
  },
  {
   "cell_type": "code",
   "execution_count": 84,
   "metadata": {},
   "outputs": [],
   "source": [
    "betas_gd, errores_gd =  gdlasso(x1, x2, y, lr = 0.2, iters=100, min_perdida = 0.6)"
   ]
  },
  {
   "cell_type": "code",
   "execution_count": 85,
   "metadata": {},
   "outputs": [
    {
     "name": "stdout",
     "output_type": "stream",
     "text": [
      "Beta 1: 25.49\n",
      "Beta 2: -0.05\n",
      "Error final: 6.29\n"
     ]
    }
   ],
   "source": [
    "print('Beta 1:', round(betas_gd[-1, 0],2))\n",
    "print('Beta 2:', round(betas_gd[-1, 1],2))\n",
    "print('Error final:', round(errores_gd[-1],2))"
   ]
  },
  {
   "cell_type": "code",
   "execution_count": 86,
   "metadata": {},
   "outputs": [
    {
     "data": {
      "image/png": "[encoded data removed]",
      "text/plain": [
       "<Figure size 432x288 with 1 Axes>"
      ]
     },
     "metadata": {
      "needs_background": "light"
     },
     "output_type": "display_data"
    }
   ],
   "source": [
    "from mpl_toolkits.mplot3d import Axes3D\n",
    "from matplotlib import cm\n",
    "from matplotlib.ticker import LinearLocator, FormatStrFormatter\n",
    "import matplotlib.pyplot as plt\n",
    "import numpy as np\n",
    "\n",
    "fig = plt.figure()\n",
    "ax = fig.add_subplot(111, projection='3d')\n",
    "\n",
    "b1 = np.arange(50, 100, 0.5)\n",
    "b2 = np.arange(50, 100, 0.5)\n",
    "b11, b22 = np.meshgrid(b1, b2)\n",
    "z = np.array([rec2mlasso(y, b11, b22, x1, x2) for b11,b22 in zip(np.ravel(b11), np.ravel(b22))])\n",
    "z = z.reshape(b11.shape)\n",
    "ax.plot_surface(b11, b22, z, rstride=1, cstride=1, cmap=cm.coolwarm,\n",
    "                       linewidth=0, antialiased=True)\n",
    "ax.scatter(betas.T[0],betas.T[1],[rec2mlasso(y, i[0], i[1], x1, x2) for i in betas],c='r',s=20)\n",
    "#ax.view_init(-30, 20)\n",
    "plt.show()"
   ]
  },
  {
   "cell_type": "code",
   "execution_count": 87,
   "metadata": {},
   "outputs": [],
   "source": [
    "betas_gd, errores_gd =  gd(x1, x2, y, lr = 0.2, iters=100, min_perdida = 0.6)"
   ]
  },
  {
   "cell_type": "code",
   "execution_count": 88,
   "metadata": {},
   "outputs": [
    {
     "name": "stdout",
     "output_type": "stream",
     "text": [
      "Beta 1: 24.5\n",
      "Beta 2: -0.23\n",
      "Error final: 0.27\n"
     ]
    }
   ],
   "source": [
    "print('Beta 1:', round(betas_gd[-1, 0],2))\n",
    "print('Beta 2:', round(betas_gd[-1, 1],2))\n",
    "print('Error final:', round(errores_gd[-1],2))"
   ]
  },
  {
   "cell_type": "code",
   "execution_count": 78,
   "metadata": {},
   "outputs": [
    {
     "data": {
      "image/png": "[encoded data removed]",
      "text/plain": [
       "<Figure size 432x288 with 1 Axes>"
      ]
     },
     "metadata": {
      "needs_background": "light"
     },
     "output_type": "display_data"
    }
   ],
   "source": [
    "from mpl_toolkits.mplot3d import Axes3D\n",
    "from matplotlib import cm\n",
    "from matplotlib.ticker import LinearLocator, FormatStrFormatter\n",
    "import matplotlib.pyplot as plt\n",
    "import numpy as np\n",
    "\n",
    "fig = plt.figure()\n",
    "ax = fig.add_subplot(111, projection='3d')\n",
    "\n",
    "b1 = np.arange(50, 100, 0.5)\n",
    "b2 = np.arange(50, 100, 0.5)\n",
    "b11, b22 = np.meshgrid(b1, b2)\n",
    "z = np.array([rec2m(y, b11, b22, x1, x2) for b11,b22 in zip(np.ravel(b11), np.ravel(b22))])\n",
    "z = z.reshape(b11.shape)\n",
    "ax.plot_surface(b11, b22, z, rstride=1, cstride=1, cmap=cm.coolwarm,\n",
    "                       linewidth=0, antialiased=True)\n",
    "ax.scatter(betas.T[0],betas.T[1],[rec2m(y, i[0], i[1], x1, x2) for i in betas],c='r',s=20)\n",
    "#ax.view_init(-30, 20)\n",
    "plt.show()"
   ]
  }
 ],
 "metadata": {
  "kernelspec": {
   "display_name": "Python 3",
   "language": "python",
   "name": "python3"
  },
  "language_info": {
   "codemirror_mode": {
    "name": "ipython",
    "version": 3
   },
   "file_extension": ".py",
   "mimetype": "text/x-python",
   "name": "python",
   "nbconvert_exporter": "python",
   "pygments_lexer": "ipython3",
   "version": "3.7.8"
  },
  "toc": {
   "base_numbering": 1,
   "nav_menu": {},
   "number_sections": true,
   "sideBar": true,
   "skip_h1_title": true,
   "title_cell": "Table of Contents",
   "title_sidebar": "Contents",
   "toc_cell": true,
   "toc_position": {},
   "toc_section_display": true,
   "toc_window_display": false
  },
  "widgets": {
   "application/vnd.jupyter.widget-state+json": {
    "state": {},
    "version_major": 2,
    "version_minor": 0
   }
  }
 },
 "nbformat": 4,
 "nbformat_minor": 4
}
